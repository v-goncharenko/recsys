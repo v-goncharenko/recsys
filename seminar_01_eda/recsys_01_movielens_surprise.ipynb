{
 "cells": [
  {
   "cell_type": "markdown",
   "metadata": {
    "id": "aNefBwu1VA7M"
   },
   "source": [
    "# Рекомендательная система на базе датасета **movielens**"
   ]
  },
  {
   "cell_type": "markdown",
   "metadata": {
    "id": "59_iZqNkVA7S"
   },
   "source": [
    "Один из наиболее известных датасетов в мире рекомендательных систем - Movielens 25M, содержащий рейтинги к фильмам, оставленные различными пользователями на одноименном сайте https://movielens.org/.\n",
    "\n",
    "Мы будем использовать мини-версию датасета, содержащую 100 тысяч записей рейтингов фильмов."
   ]
  },
  {
   "cell_type": "markdown",
   "metadata": {
    "id": "7MTzoxulVA7V"
   },
   "source": [
    "## Загрузка данных"
   ]
  },
  {
   "cell_type": "markdown",
   "metadata": {
    "id": "I5fvYqJDVA7X"
   },
   "source": [
    "Для создания алгоритмов рекомендательной системы, будем использовать библиотеку **surprise**."
   ]
  },
  {
   "cell_type": "markdown",
   "metadata": {
    "id": "rt05w2p2VA7Z"
   },
   "source": [
    "Установим её, если она ещё не установлена на компьютер."
   ]
  },
  {
   "cell_type": "code",
   "execution_count": 1,
   "metadata": {
    "colab": {
     "base_uri": "https://localhost:8080/"
    },
    "executionInfo": {
     "elapsed": 103114,
     "status": "ok",
     "timestamp": 1729700742551,
     "user": {
      "displayName": "Иван Пешехонов",
      "userId": "04598116365853363416"
     },
     "user_tz": -180
    },
    "id": "jZ0JToZrVA7c",
    "outputId": "faec168b-d566-49e8-9e7e-7b6dc8eb469e",
    "scrolled": true
   },
   "outputs": [
    {
     "name": "stdout",
     "output_type": "stream",
     "text": [
      "Collecting scikit-surprise\n",
      "  Downloading scikit_surprise-1.1.4.tar.gz (154 kB)\n",
      "\u001b[?25l     \u001b[90m━━━━━━━━━━━━━━━━━━━━━━━━━━━━━━━━━━━━━━━━\u001b[0m \u001b[32m0.0/154.4 kB\u001b[0m \u001b[31m?\u001b[0m eta \u001b[36m-:--:--\u001b[0m\r\u001b[2K     \u001b[91m━━━━━━━━━━━━━━━━━━━━━━━━━━━━━━━━━━━━━━━\u001b[0m\u001b[91m╸\u001b[0m \u001b[32m153.6/154.4 kB\u001b[0m \u001b[31m5.5 MB/s\u001b[0m eta \u001b[36m0:00:01\u001b[0m\r\u001b[2K     \u001b[90m━━━━━━━━━━━━━━━━━━━━━━━━━━━━━━━━━━━━━━━━\u001b[0m \u001b[32m154.4/154.4 kB\u001b[0m \u001b[31m3.2 MB/s\u001b[0m eta \u001b[36m0:00:00\u001b[0m\n",
      "\u001b[?25h  Installing build dependencies ... \u001b[?25l\u001b[?25hdone\n",
      "  Getting requirements to build wheel ... \u001b[?25l\u001b[?25hdone\n",
      "  Preparing metadata (pyproject.toml) ... \u001b[?25l\u001b[?25hdone\n",
      "Requirement already satisfied: joblib>=1.2.0 in /usr/local/lib/python3.10/dist-packages (from scikit-surprise) (1.4.2)\n",
      "Requirement already satisfied: numpy>=1.19.5 in /usr/local/lib/python3.10/dist-packages (from scikit-surprise) (1.26.4)\n",
      "Requirement already satisfied: scipy>=1.6.0 in /usr/local/lib/python3.10/dist-packages (from scikit-surprise) (1.13.1)\n",
      "Building wheels for collected packages: scikit-surprise\n",
      "  Building wheel for scikit-surprise (pyproject.toml) ... \u001b[?25l\u001b[?25hdone\n",
      "  Created wheel for scikit-surprise: filename=scikit_surprise-1.1.4-cp310-cp310-linux_x86_64.whl size=2357269 sha256=536338a646c29862e63bb5f90b4e6e38b9e9c97eaa02ee211df5c64f5a80ca40\n",
      "  Stored in directory: /root/.cache/pip/wheels/4b/3f/df/6acbf0a40397d9bf3ff97f582cc22fb9ce66adde75bc71fd54\n",
      "Successfully built scikit-surprise\n",
      "Installing collected packages: scikit-surprise\n",
      "Successfully installed scikit-surprise-1.1.4\n"
     ]
    }
   ],
   "source": [
    "!pip install scikit-surprise"
   ]
  },
  {
   "cell_type": "code",
   "execution_count": 2,
   "metadata": {
    "executionInfo": {
     "elapsed": 611,
     "status": "ok",
     "timestamp": 1729700746016,
     "user": {
      "displayName": "Иван Пешехонов",
      "userId": "04598116365853363416"
     },
     "user_tz": -180
    },
    "id": "jpq1v5WTVA7n"
   },
   "outputs": [],
   "source": [
    "from surprise import Dataset"
   ]
  },
  {
   "cell_type": "markdown",
   "metadata": {
    "id": "78r_pDDhVA7v"
   },
   "source": [
    "Загружаем датасет из **surprise**"
   ]
  },
  {
   "cell_type": "code",
   "execution_count": 3,
   "metadata": {
    "colab": {
     "base_uri": "https://localhost:8080/"
    },
    "executionInfo": {
     "elapsed": 1076,
     "status": "ok",
     "timestamp": 1729700782431,
     "user": {
      "displayName": "Иван Пешехонов",
      "userId": "04598116365853363416"
     },
     "user_tz": -180
    },
    "id": "1eJDcXYDVA7x",
    "outputId": "38f06144-3716-404a-b431-ab54cfbf3b5b",
    "scrolled": true
   },
   "outputs": [
    {
     "name": "stdout",
     "output_type": "stream",
     "text": [
      "Trying to download dataset from https://files.grouplens.org/datasets/movielens/ml-100k.zip...\n",
      "Done! Dataset ml-100k has been saved to /root/.surprise_data/ml-100k\n"
     ]
    }
   ],
   "source": [
    "data = Dataset.load_builtin(\"ml-100k\", prompt=False)"
   ]
  },
  {
   "cell_type": "markdown",
   "metadata": {
    "id": "HU856k6FpwjA"
   },
   "source": [
    "**Замечание для любителей настоящих данных**\n",
    "\n",
    "Вы можете попробовать загрузить полную верисю датасета (`'ml-1m'`) и попробовать сделать задание на нём.\n",
    "\n",
    "Но вычисления будут занимать большее количество времени (и требовать некоторого железа).\n",
    "\n",
    "За использование расширенного датасета не будет бонусов в оценке (да и результатах по большей части тоже) - только ваш энтузиазм."
   ]
  },
  {
   "cell_type": "markdown",
   "metadata": {
    "id": "M7FSaRcPVA74"
   },
   "source": [
    "## Визуализация данных"
   ]
  },
  {
   "cell_type": "markdown",
   "metadata": {
    "id": "_xcR-N4kVA76"
   },
   "source": [
    "Для удобной работы с данными загрузим библиотеку **pandas**"
   ]
  },
  {
   "cell_type": "code",
   "execution_count": null,
   "metadata": {
    "colab": {
     "background_save": true
    },
    "id": "IbXPCvMzVA78"
   },
   "outputs": [],
   "source": [
    "import pandas as pd"
   ]
  },
  {
   "cell_type": "markdown",
   "metadata": {
    "id": "cBXvcnFRVA8J"
   },
   "source": [
    "Преобразуем данные к формату **pandas DataFrame**, для удобной работы с ними:"
   ]
  },
  {
   "cell_type": "code",
   "execution_count": null,
   "metadata": {
    "id": "4c78lO-xVA8L"
   },
   "outputs": [],
   "source": [
    "df = pd.DataFrame(\n",
    "    data.raw_ratings, columns=[\"userId\", \"movieId\", \"rating\", \"timestamp\"]\n",
    ")"
   ]
  },
  {
   "cell_type": "code",
   "execution_count": null,
   "metadata": {
    "colab": {
     "base_uri": "https://localhost:8080/",
     "height": 363
    },
    "executionInfo": {
     "elapsed": 392,
     "status": "ok",
     "timestamp": 1729631503173,
     "user": {
      "displayName": "Владислав Наумов",
      "userId": "06177136265234660076"
     },
     "user_tz": -180
    },
    "id": "z8iZfdnZVA8S",
    "outputId": "27b30cc2-333a-4149-f4c5-32889a91ad4e"
   },
   "outputs": [
    {
     "data": {
      "application/vnd.google.colaboratory.intrinsic+json": {
       "summary": "{\n  \"name\": \"df\",\n  \"rows\": 100000,\n  \"fields\": [\n    {\n      \"column\": \"userId\",\n      \"properties\": {\n        \"dtype\": \"category\",\n        \"num_unique_values\": 943,\n        \"samples\": [\n          \"262\",\n          \"136\",\n          \"821\"\n        ],\n        \"semantic_type\": \"\",\n        \"description\": \"\"\n      }\n    },\n    {\n      \"column\": \"movieId\",\n      \"properties\": {\n        \"dtype\": \"category\",\n        \"num_unique_values\": 1682,\n        \"samples\": [\n          \"1557\",\n          \"808\",\n          \"1618\"\n        ],\n        \"semantic_type\": \"\",\n        \"description\": \"\"\n      }\n    },\n    {\n      \"column\": \"rating\",\n      \"properties\": {\n        \"dtype\": \"number\",\n        \"std\": 1.125673599144129,\n        \"min\": 1.0,\n        \"max\": 5.0,\n        \"num_unique_values\": 5,\n        \"samples\": [\n          1.0,\n          5.0,\n          2.0\n        ],\n        \"semantic_type\": \"\",\n        \"description\": \"\"\n      }\n    },\n    {\n      \"column\": \"timestamp\",\n      \"properties\": {\n        \"dtype\": \"category\",\n        \"num_unique_values\": 49282,\n        \"samples\": [\n          \"889728713\",\n          \"888443306\",\n          \"880605158\"\n        ],\n        \"semantic_type\": \"\",\n        \"description\": \"\"\n      }\n    }\n  ]\n}",
       "type": "dataframe",
       "variable_name": "df"
      },
      "text/html": [
       "\n",
       "  <div id=\"df-07e19364-22b5-4bb3-86fe-22ad734edcb8\" class=\"colab-df-container\">\n",
       "    <div>\n",
       "<style scoped>\n",
       "    .dataframe tbody tr th:only-of-type {\n",
       "        vertical-align: middle;\n",
       "    }\n",
       "\n",
       "    .dataframe tbody tr th {\n",
       "        vertical-align: top;\n",
       "    }\n",
       "\n",
       "    .dataframe thead th {\n",
       "        text-align: right;\n",
       "    }\n",
       "</style>\n",
       "<table border=\"1\" class=\"dataframe\">\n",
       "  <thead>\n",
       "    <tr style=\"text-align: right;\">\n",
       "      <th></th>\n",
       "      <th>userId</th>\n",
       "      <th>movieId</th>\n",
       "      <th>rating</th>\n",
       "      <th>timestamp</th>\n",
       "    </tr>\n",
       "  </thead>\n",
       "  <tbody>\n",
       "    <tr>\n",
       "      <th>0</th>\n",
       "      <td>196</td>\n",
       "      <td>242</td>\n",
       "      <td>3.0</td>\n",
       "      <td>881250949</td>\n",
       "    </tr>\n",
       "    <tr>\n",
       "      <th>1</th>\n",
       "      <td>186</td>\n",
       "      <td>302</td>\n",
       "      <td>3.0</td>\n",
       "      <td>891717742</td>\n",
       "    </tr>\n",
       "    <tr>\n",
       "      <th>2</th>\n",
       "      <td>22</td>\n",
       "      <td>377</td>\n",
       "      <td>1.0</td>\n",
       "      <td>878887116</td>\n",
       "    </tr>\n",
       "    <tr>\n",
       "      <th>3</th>\n",
       "      <td>244</td>\n",
       "      <td>51</td>\n",
       "      <td>2.0</td>\n",
       "      <td>880606923</td>\n",
       "    </tr>\n",
       "    <tr>\n",
       "      <th>4</th>\n",
       "      <td>166</td>\n",
       "      <td>346</td>\n",
       "      <td>1.0</td>\n",
       "      <td>886397596</td>\n",
       "    </tr>\n",
       "    <tr>\n",
       "      <th>5</th>\n",
       "      <td>298</td>\n",
       "      <td>474</td>\n",
       "      <td>4.0</td>\n",
       "      <td>884182806</td>\n",
       "    </tr>\n",
       "    <tr>\n",
       "      <th>6</th>\n",
       "      <td>115</td>\n",
       "      <td>265</td>\n",
       "      <td>2.0</td>\n",
       "      <td>881171488</td>\n",
       "    </tr>\n",
       "    <tr>\n",
       "      <th>7</th>\n",
       "      <td>253</td>\n",
       "      <td>465</td>\n",
       "      <td>5.0</td>\n",
       "      <td>891628467</td>\n",
       "    </tr>\n",
       "    <tr>\n",
       "      <th>8</th>\n",
       "      <td>305</td>\n",
       "      <td>451</td>\n",
       "      <td>3.0</td>\n",
       "      <td>886324817</td>\n",
       "    </tr>\n",
       "    <tr>\n",
       "      <th>9</th>\n",
       "      <td>6</td>\n",
       "      <td>86</td>\n",
       "      <td>3.0</td>\n",
       "      <td>883603013</td>\n",
       "    </tr>\n",
       "  </tbody>\n",
       "</table>\n",
       "</div>\n",
       "    <div class=\"colab-df-buttons\">\n",
       "\n",
       "  <div class=\"colab-df-container\">\n",
       "    <button class=\"colab-df-convert\" onclick=\"convertToInteractive('df-07e19364-22b5-4bb3-86fe-22ad734edcb8')\"\n",
       "            title=\"Convert this dataframe to an interactive table.\"\n",
       "            style=\"display:none;\">\n",
       "\n",
       "  <svg xmlns=\"http://www.w3.org/2000/svg\" height=\"24px\" viewBox=\"0 -960 960 960\">\n",
       "    <path d=\"M120-120v-720h720v720H120Zm60-500h600v-160H180v160Zm220 220h160v-160H400v160Zm0 220h160v-160H400v160ZM180-400h160v-160H180v160Zm440 0h160v-160H620v160ZM180-180h160v-160H180v160Zm440 0h160v-160H620v160Z\"/>\n",
       "  </svg>\n",
       "    </button>\n",
       "\n",
       "  <style>\n",
       "    .colab-df-container {\n",
       "      display:flex;\n",
       "      gap: 12px;\n",
       "    }\n",
       "\n",
       "    .colab-df-convert {\n",
       "      background-color: #E8F0FE;\n",
       "      border: none;\n",
       "      border-radius: 50%;\n",
       "      cursor: pointer;\n",
       "      display: none;\n",
       "      fill: #1967D2;\n",
       "      height: 32px;\n",
       "      padding: 0 0 0 0;\n",
       "      width: 32px;\n",
       "    }\n",
       "\n",
       "    .colab-df-convert:hover {\n",
       "      background-color: #E2EBFA;\n",
       "      box-shadow: 0px 1px 2px rgba(60, 64, 67, 0.3), 0px 1px 3px 1px rgba(60, 64, 67, 0.15);\n",
       "      fill: #174EA6;\n",
       "    }\n",
       "\n",
       "    .colab-df-buttons div {\n",
       "      margin-bottom: 4px;\n",
       "    }\n",
       "\n",
       "    [theme=dark] .colab-df-convert {\n",
       "      background-color: #3B4455;\n",
       "      fill: #D2E3FC;\n",
       "    }\n",
       "\n",
       "    [theme=dark] .colab-df-convert:hover {\n",
       "      background-color: #434B5C;\n",
       "      box-shadow: 0px 1px 3px 1px rgba(0, 0, 0, 0.15);\n",
       "      filter: drop-shadow(0px 1px 2px rgba(0, 0, 0, 0.3));\n",
       "      fill: #FFFFFF;\n",
       "    }\n",
       "  </style>\n",
       "\n",
       "    <script>\n",
       "      const buttonEl =\n",
       "        document.querySelector('#df-07e19364-22b5-4bb3-86fe-22ad734edcb8 button.colab-df-convert');\n",
       "      buttonEl.style.display =\n",
       "        google.colab.kernel.accessAllowed ? 'block' : 'none';\n",
       "\n",
       "      async function convertToInteractive(key) {\n",
       "        const element = document.querySelector('#df-07e19364-22b5-4bb3-86fe-22ad734edcb8');\n",
       "        const dataTable =\n",
       "          await google.colab.kernel.invokeFunction('convertToInteractive',\n",
       "                                                    [key], {});\n",
       "        if (!dataTable) return;\n",
       "\n",
       "        const docLinkHtml = 'Like what you see? Visit the ' +\n",
       "          '<a target=\"_blank\" href=https://colab.research.google.com/notebooks/data_table.ipynb>data table notebook</a>'\n",
       "          + ' to learn more about interactive tables.';\n",
       "        element.innerHTML = '';\n",
       "        dataTable['output_type'] = 'display_data';\n",
       "        await google.colab.output.renderOutput(dataTable, element);\n",
       "        const docLink = document.createElement('div');\n",
       "        docLink.innerHTML = docLinkHtml;\n",
       "        element.appendChild(docLink);\n",
       "      }\n",
       "    </script>\n",
       "  </div>\n",
       "\n",
       "\n",
       "<div id=\"df-2c6d7258-8f59-4f9b-a364-ae8df4bddb92\">\n",
       "  <button class=\"colab-df-quickchart\" onclick=\"quickchart('df-2c6d7258-8f59-4f9b-a364-ae8df4bddb92')\"\n",
       "            title=\"Suggest charts\"\n",
       "            style=\"display:none;\">\n",
       "\n",
       "<svg xmlns=\"http://www.w3.org/2000/svg\" height=\"24px\"viewBox=\"0 0 24 24\"\n",
       "     width=\"24px\">\n",
       "    <g>\n",
       "        <path d=\"M19 3H5c-1.1 0-2 .9-2 2v14c0 1.1.9 2 2 2h14c1.1 0 2-.9 2-2V5c0-1.1-.9-2-2-2zM9 17H7v-7h2v7zm4 0h-2V7h2v10zm4 0h-2v-4h2v4z\"/>\n",
       "    </g>\n",
       "</svg>\n",
       "  </button>\n",
       "\n",
       "<style>\n",
       "  .colab-df-quickchart {\n",
       "      --bg-color: #E8F0FE;\n",
       "      --fill-color: #1967D2;\n",
       "      --hover-bg-color: #E2EBFA;\n",
       "      --hover-fill-color: #174EA6;\n",
       "      --disabled-fill-color: #AAA;\n",
       "      --disabled-bg-color: #DDD;\n",
       "  }\n",
       "\n",
       "  [theme=dark] .colab-df-quickchart {\n",
       "      --bg-color: #3B4455;\n",
       "      --fill-color: #D2E3FC;\n",
       "      --hover-bg-color: #434B5C;\n",
       "      --hover-fill-color: #FFFFFF;\n",
       "      --disabled-bg-color: #3B4455;\n",
       "      --disabled-fill-color: #666;\n",
       "  }\n",
       "\n",
       "  .colab-df-quickchart {\n",
       "    background-color: var(--bg-color);\n",
       "    border: none;\n",
       "    border-radius: 50%;\n",
       "    cursor: pointer;\n",
       "    display: none;\n",
       "    fill: var(--fill-color);\n",
       "    height: 32px;\n",
       "    padding: 0;\n",
       "    width: 32px;\n",
       "  }\n",
       "\n",
       "  .colab-df-quickchart:hover {\n",
       "    background-color: var(--hover-bg-color);\n",
       "    box-shadow: 0 1px 2px rgba(60, 64, 67, 0.3), 0 1px 3px 1px rgba(60, 64, 67, 0.15);\n",
       "    fill: var(--button-hover-fill-color);\n",
       "  }\n",
       "\n",
       "  .colab-df-quickchart-complete:disabled,\n",
       "  .colab-df-quickchart-complete:disabled:hover {\n",
       "    background-color: var(--disabled-bg-color);\n",
       "    fill: var(--disabled-fill-color);\n",
       "    box-shadow: none;\n",
       "  }\n",
       "\n",
       "  .colab-df-spinner {\n",
       "    border: 2px solid var(--fill-color);\n",
       "    border-color: transparent;\n",
       "    border-bottom-color: var(--fill-color);\n",
       "    animation:\n",
       "      spin 1s steps(1) infinite;\n",
       "  }\n",
       "\n",
       "  @keyframes spin {\n",
       "    0% {\n",
       "      border-color: transparent;\n",
       "      border-bottom-color: var(--fill-color);\n",
       "      border-left-color: var(--fill-color);\n",
       "    }\n",
       "    20% {\n",
       "      border-color: transparent;\n",
       "      border-left-color: var(--fill-color);\n",
       "      border-top-color: var(--fill-color);\n",
       "    }\n",
       "    30% {\n",
       "      border-color: transparent;\n",
       "      border-left-color: var(--fill-color);\n",
       "      border-top-color: var(--fill-color);\n",
       "      border-right-color: var(--fill-color);\n",
       "    }\n",
       "    40% {\n",
       "      border-color: transparent;\n",
       "      border-right-color: var(--fill-color);\n",
       "      border-top-color: var(--fill-color);\n",
       "    }\n",
       "    60% {\n",
       "      border-color: transparent;\n",
       "      border-right-color: var(--fill-color);\n",
       "    }\n",
       "    80% {\n",
       "      border-color: transparent;\n",
       "      border-right-color: var(--fill-color);\n",
       "      border-bottom-color: var(--fill-color);\n",
       "    }\n",
       "    90% {\n",
       "      border-color: transparent;\n",
       "      border-bottom-color: var(--fill-color);\n",
       "    }\n",
       "  }\n",
       "</style>\n",
       "\n",
       "  <script>\n",
       "    async function quickchart(key) {\n",
       "      const quickchartButtonEl =\n",
       "        document.querySelector('#' + key + ' button');\n",
       "      quickchartButtonEl.disabled = true;  // To prevent multiple clicks.\n",
       "      quickchartButtonEl.classList.add('colab-df-spinner');\n",
       "      try {\n",
       "        const charts = await google.colab.kernel.invokeFunction(\n",
       "            'suggestCharts', [key], {});\n",
       "      } catch (error) {\n",
       "        console.error('Error during call to suggestCharts:', error);\n",
       "      }\n",
       "      quickchartButtonEl.classList.remove('colab-df-spinner');\n",
       "      quickchartButtonEl.classList.add('colab-df-quickchart-complete');\n",
       "    }\n",
       "    (() => {\n",
       "      let quickchartButtonEl =\n",
       "        document.querySelector('#df-2c6d7258-8f59-4f9b-a364-ae8df4bddb92 button');\n",
       "      quickchartButtonEl.style.display =\n",
       "        google.colab.kernel.accessAllowed ? 'block' : 'none';\n",
       "    })();\n",
       "  </script>\n",
       "</div>\n",
       "    </div>\n",
       "  </div>\n"
      ],
      "text/plain": [
       "  userId movieId  rating  timestamp\n",
       "0    196     242     3.0  881250949\n",
       "1    186     302     3.0  891717742\n",
       "2     22     377     1.0  878887116\n",
       "3    244      51     2.0  880606923\n",
       "4    166     346     1.0  886397596\n",
       "5    298     474     4.0  884182806\n",
       "6    115     265     2.0  881171488\n",
       "7    253     465     5.0  891628467\n",
       "8    305     451     3.0  886324817\n",
       "9      6      86     3.0  883603013"
      ]
     },
     "execution_count": 6,
     "metadata": {},
     "output_type": "execute_result"
    }
   ],
   "source": [
    "df.head(10)"
   ]
  },
  {
   "cell_type": "code",
   "execution_count": null,
   "metadata": {
    "colab": {
     "base_uri": "https://localhost:8080/"
    },
    "executionInfo": {
     "elapsed": 3,
     "status": "ok",
     "timestamp": 1729631503173,
     "user": {
      "displayName": "Владислав Наумов",
      "userId": "06177136265234660076"
     },
     "user_tz": -180
    },
    "id": "3CT9Deo8pR8W",
    "outputId": "d6504474-1888-48f8-9780-b6d55cf528fa"
   },
   "outputs": [
    {
     "data": {
      "text/plain": [
       "100000"
      ]
     },
     "execution_count": 7,
     "metadata": {},
     "output_type": "execute_result"
    }
   ],
   "source": [
    "len(df)"
   ]
  },
  {
   "cell_type": "markdown",
   "metadata": {
    "id": "8lk_aMC6VA8a"
   },
   "source": [
    "- Колонка **userId** - идентификаторы пользователей сайта movielens;\n",
    "- Колонка **movieId** - идентификаторы фильмов;\n",
    "- Колонка **rating** - оценки фильмов пользователями по шкале от 1 до 5;\n",
    "- Колонка **timestamp** - это время оценки фильма пользователем. Данный формат представления времени показывает, сколько секунд прошло с 1 января 1970 года."
   ]
  },
  {
   "cell_type": "markdown",
   "metadata": {
    "id": "cGXqlWpiVA8c"
   },
   "source": [
    "Мы можем посмотреть, сколько уникальных значений находится в каждой из колонок."
   ]
  },
  {
   "cell_type": "code",
   "execution_count": null,
   "metadata": {
    "colab": {
     "base_uri": "https://localhost:8080/",
     "height": 210
    },
    "executionInfo": {
     "elapsed": 321,
     "status": "ok",
     "timestamp": 1729631503492,
     "user": {
      "displayName": "Владислав Наумов",
      "userId": "06177136265234660076"
     },
     "user_tz": -180
    },
    "id": "VwB6SrRHVA8e",
    "outputId": "4e7056f9-755b-4aa2-a89b-6dcfa1f4f8a8"
   },
   "outputs": [
    {
     "data": {
      "text/html": [
       "<div>\n",
       "<style scoped>\n",
       "    .dataframe tbody tr th:only-of-type {\n",
       "        vertical-align: middle;\n",
       "    }\n",
       "\n",
       "    .dataframe tbody tr th {\n",
       "        vertical-align: top;\n",
       "    }\n",
       "\n",
       "    .dataframe thead th {\n",
       "        text-align: right;\n",
       "    }\n",
       "</style>\n",
       "<table border=\"1\" class=\"dataframe\">\n",
       "  <thead>\n",
       "    <tr style=\"text-align: right;\">\n",
       "      <th></th>\n",
       "      <th>0</th>\n",
       "    </tr>\n",
       "  </thead>\n",
       "  <tbody>\n",
       "    <tr>\n",
       "      <th>userId</th>\n",
       "      <td>943</td>\n",
       "    </tr>\n",
       "    <tr>\n",
       "      <th>movieId</th>\n",
       "      <td>1682</td>\n",
       "    </tr>\n",
       "    <tr>\n",
       "      <th>rating</th>\n",
       "      <td>5</td>\n",
       "    </tr>\n",
       "    <tr>\n",
       "      <th>timestamp</th>\n",
       "      <td>49282</td>\n",
       "    </tr>\n",
       "  </tbody>\n",
       "</table>\n",
       "</div><br><label><b>dtype:</b> int64</label>"
      ],
      "text/plain": [
       "userId         943\n",
       "movieId       1682\n",
       "rating           5\n",
       "timestamp    49282\n",
       "dtype: int64"
      ]
     },
     "execution_count": 8,
     "metadata": {},
     "output_type": "execute_result"
    }
   ],
   "source": [
    "df.apply(\"nunique\")"
   ]
  },
  {
   "cell_type": "markdown",
   "metadata": {
    "id": "gdNUHvGaVA8l"
   },
   "source": [
    "Для корректной работы с графиками в python требуется загрузить специальную библиотеку\n",
    "**matplotlib**, программную библиотеку на языке python для визуализации данных двумерной и трехмерной графикой."
   ]
  },
  {
   "cell_type": "markdown",
   "metadata": {
    "id": "Tmcpr7aiVA8r"
   },
   "source": [
    "Посмотрим наглядно, как часто в датасете встречаются разные оценки:"
   ]
  },
  {
   "cell_type": "code",
   "execution_count": null,
   "metadata": {
    "colab": {
     "base_uri": "https://localhost:8080/",
     "height": 472
    },
    "executionInfo": {
     "elapsed": 338,
     "status": "ok",
     "timestamp": 1729631503827,
     "user": {
      "displayName": "Владислав Наумов",
      "userId": "06177136265234660076"
     },
     "user_tz": -180
    },
    "id": "3XYMil_AVA8s",
    "outputId": "e02660a9-f782-4423-ae2e-6e4ded52723b"
   },
   "outputs": [
    {
     "data": {
      "image/png": "[encoded data removed]",
      "text/plain": [
       "<Figure size 640x480 with 1 Axes>"
      ]
     },
     "metadata": {},
     "output_type": "display_data"
    }
   ],
   "source": [
    "df[\"rating\"].value_counts().sort_index().plot.bar(\n",
    "    title=\"Распределение рейтингов\", rot=0\n",
    ");"
   ]
  },
  {
   "cell_type": "markdown",
   "metadata": {
    "id": "sc4V13ojVA8x"
   },
   "source": [
    "## Разбиение выборки на обучающую и тестовую"
   ]
  },
  {
   "cell_type": "markdown",
   "metadata": {
    "id": "feldOglfVA8z"
   },
   "source": [
    "Библиотека **surprise** высокоуровневая, и позволяет нам разбить данные на обучающую и тестовую выборки всего одной функцией **train_test_split()**"
   ]
  },
  {
   "cell_type": "code",
   "execution_count": null,
   "metadata": {
    "id": "wj01SJESVA80"
   },
   "outputs": [],
   "source": [
    "from surprise.model_selection import train_test_split"
   ]
  },
  {
   "cell_type": "markdown",
   "metadata": {
    "id": "oapSXAZ2VA84"
   },
   "source": [
    "Функция **train_test_split()** принимает на вход два параметра:\n",
    "\n",
    "- **data** - данные\n",
    "- **test_size** - доля тестовой выборки. Укажем 0,25, чтобы тестовая выборка составляла 25% от всей выборки."
   ]
  },
  {
   "cell_type": "code",
   "execution_count": null,
   "metadata": {
    "id": "tL12glA_VA85"
   },
   "outputs": [],
   "source": [
    "trainset, testset = train_test_split(data, test_size=0.25)"
   ]
  },
  {
   "cell_type": "markdown",
   "metadata": {
    "id": "zCBGWlqppwjL"
   },
   "source": [
    "# Задание 1\n",
    "\n",
    "Проведите исследование данных (exploratory data analysis, EDA).\n",
    "\n",
    "Выясните:\n",
    "\n",
    "1. Сколько оценок в среднем поставил один человек (и какова выборочная дисперсия этой величины)\n",
    "1. Сколько оценок в среднем имеет один фильм (+дисперсия)\n",
    "\n",
    "Также для каждой из этих величин постройте гистограму (или violin plot) распределения чтобы увидеть картину целиком. Возможно вам понадобится использовать логарифмический масштаб осей (эту настройку можно передать в matplotlib)."
   ]
  },
  {
   "cell_type": "code",
   "execution_count": null,
   "metadata": {
    "id": "B07W7k2CpwjM"
   },
   "outputs": [],
   "source": [
    "import matplotlib.pyplot as plt"
   ]
  },
  {
   "cell_type": "code",
   "execution_count": null,
   "metadata": {
    "colab": {
     "base_uri": "https://localhost:8080/"
    },
    "executionInfo": {
     "elapsed": 4,
     "status": "ok",
     "timestamp": 1729631504293,
     "user": {
      "displayName": "Владислав Наумов",
      "userId": "06177136265234660076"
     },
     "user_tz": -180
    },
    "id": "ZSUrt-A7NE_R",
    "outputId": "88bed06c-040a-425e-e063-3ba09168752c"
   },
   "outputs": [
    {
     "data": {
      "text/plain": [
       "(75000, 3)"
      ]
     },
     "execution_count": 13,
     "metadata": {},
     "output_type": "execute_result"
    }
   ],
   "source": [
    "df_train = pd.DataFrame(\n",
    "    data=[i for i in trainset.all_ratings()], columns=[\"user\", \"movie\", \"rating\"]\n",
    ")\n",
    "\n",
    "df_train.shape"
   ]
  },
  {
   "cell_type": "code",
   "execution_count": null,
   "metadata": {
    "colab": {
     "base_uri": "https://localhost:8080/"
    },
    "executionInfo": {
     "elapsed": 2,
     "status": "ok",
     "timestamp": 1729631504293,
     "user": {
      "displayName": "Владислав Наумов",
      "userId": "06177136265234660076"
     },
     "user_tz": -180
    },
    "id": "gG9BFrboNs9X",
    "outputId": "ea190835-2c35-44b9-e0c7-bb1c1f6f7650"
   },
   "outputs": [
    {
     "name": "stdout",
     "output_type": "stream",
     "text": [
      "Mean:    79.53340402969248\n",
      "Std:     75.76146145780153\n",
      "Median:  49.0\n"
     ]
    }
   ],
   "source": [
    "users_train = df_train.groupby(\"user\")[\"rating\"].count()\n",
    "\n",
    "print(\"Mean:   \", users_train.mean())\n",
    "print(\"Std:    \", users_train.std())\n",
    "print(\"Median: \", users_train.median())"
   ]
  },
  {
   "cell_type": "code",
   "execution_count": null,
   "metadata": {
    "colab": {
     "base_uri": "https://localhost:8080/",
     "height": 430
    },
    "executionInfo": {
     "elapsed": 429,
     "status": "ok",
     "timestamp": 1729631504720,
     "user": {
      "displayName": "Владислав Наумов",
      "userId": "06177136265234660076"
     },
     "user_tz": -180
    },
    "id": "0tT3pO34RGSe",
    "outputId": "852ded2f-0430-4132-e7a6-b33b815cfe61"
   },
   "outputs": [
    {
     "data": {
      "image/png": "[encoded data removed]",
      "text/plain": [
       "<Figure size 640x480 with 1 Axes>"
      ]
     },
     "metadata": {},
     "output_type": "display_data"
    }
   ],
   "source": [
    "users_train.hist(bins=100);"
   ]
  },
  {
   "cell_type": "code",
   "execution_count": null,
   "metadata": {
    "colab": {
     "base_uri": "https://localhost:8080/",
     "height": 430
    },
    "executionInfo": {
     "elapsed": 1787,
     "status": "ok",
     "timestamp": 1729631506504,
     "user": {
      "displayName": "Владислав Наумов",
      "userId": "06177136265234660076"
     },
     "user_tz": -180
    },
    "id": "0kHxA0gvQ0mO",
    "outputId": "0c20df51-25a3-4683-8100-9cfdb495ff83"
   },
   "outputs": [
    {
     "data": {
      "image/png": "[encoded data removed]",
      "text/plain": [
       "<Figure size 640x480 with 1 Axes>"
      ]
     },
     "metadata": {},
     "output_type": "display_data"
    }
   ],
   "source": [
    "plt.hist(users_train, bins=100, log=True);"
   ]
  },
  {
   "cell_type": "markdown",
   "metadata": {
    "id": "R0stySJ-ojqf"
   },
   "source": [
    "Гистограмма имеет длинный хвост справа. Большая часть пользователей поставила менее 50 оценок. В среднем один человек ставит 80 оценок при достаточно большом стандартном отклонении величиной в 75 оценок. Это говорит о том, что поведение пользователей очень разнится, но значительная часть пользователей имеет только несколько единиц оцененных фильмов."
   ]
  },
  {
   "cell_type": "code",
   "execution_count": null,
   "metadata": {
    "colab": {
     "base_uri": "https://localhost:8080/"
    },
    "executionInfo": {
     "elapsed": 4,
     "status": "ok",
     "timestamp": 1729631506504,
     "user": {
      "displayName": "Владислав Наумов",
      "userId": "06177136265234660076"
     },
     "user_tz": -180
    },
    "id": "gu8ouflREVDV",
    "outputId": "f713bcc5-c87b-4099-9373-5b8907fb0a03"
   },
   "outputs": [
    {
     "name": "stdout",
     "output_type": "stream",
     "text": [
      "Mean:    45.899632802937575\n",
      "Std:     60.990796389296875\n",
      "Median:  21.0\n"
     ]
    }
   ],
   "source": [
    "movies_train = df_train.groupby(\"movie\")[\"rating\"].count()\n",
    "\n",
    "print(\"Mean:   \", movies_train.mean())\n",
    "print(\"Std:    \", movies_train.std())\n",
    "print(\"Median: \", movies_train.median())"
   ]
  },
  {
   "cell_type": "code",
   "execution_count": null,
   "metadata": {
    "colab": {
     "base_uri": "https://localhost:8080/",
     "height": 430
    },
    "executionInfo": {
     "elapsed": 947,
     "status": "ok",
     "timestamp": 1729631507450,
     "user": {
      "displayName": "Владислав Наумов",
      "userId": "06177136265234660076"
     },
     "user_tz": -180
    },
    "id": "iPgB7Q73Jm-l",
    "outputId": "d1fa36d3-d436-4d90-be9b-1a611dac7b5d"
   },
   "outputs": [
    {
     "data": {
      "image/png": "[encoded data removed]",
      "text/plain": [
       "<Figure size 640x480 with 1 Axes>"
      ]
     },
     "metadata": {},
     "output_type": "display_data"
    }
   ],
   "source": [
    "movies_train.hist(bins=100);"
   ]
  },
  {
   "cell_type": "code",
   "execution_count": null,
   "metadata": {
    "colab": {
     "base_uri": "https://localhost:8080/",
     "height": 430
    },
    "executionInfo": {
     "elapsed": 924,
     "status": "ok",
     "timestamp": 1729631508373,
     "user": {
      "displayName": "Владислав Наумов",
      "userId": "06177136265234660076"
     },
     "user_tz": -180
    },
    "id": "_OBmmIcKRZBe",
    "outputId": "880c109c-bf51-451f-a6e8-1b1883c264d7"
   },
   "outputs": [
    {
     "data": {
      "image/png": "[encoded data removed]",
      "text/plain": [
       "<Figure size 640x480 with 1 Axes>"
      ]
     },
     "metadata": {},
     "output_type": "display_data"
    }
   ],
   "source": [
    "plt.hist(movies_train, bins=100, log=True);"
   ]
  },
  {
   "cell_type": "markdown",
   "metadata": {
    "id": "iguEITpZqpnz"
   },
   "source": [
    "Здесь гистограмма также имеет длинный хвост справа. Большая часть фильмов имеет менее 30 оценок. В среднем один фильм имеет 45 оценок при стандартном отклонении величиной в 60 оценок."
   ]
  },
  {
   "cell_type": "markdown",
   "metadata": {
    "id": "z5_jfYF6HFHg"
   },
   "source": [
    "Теперь давайте попробуем поработать с датасетом lastfm из библиотеки implicit:"
   ]
  },
  {
   "cell_type": "code",
   "execution_count": null,
   "metadata": {
    "colab": {
     "base_uri": "https://localhost:8080/"
    },
    "executionInfo": {
     "elapsed": 4049,
     "status": "ok",
     "timestamp": 1729632177374,
     "user": {
      "displayName": "Владислав Наумов",
      "userId": "06177136265234660076"
     },
     "user_tz": -180
    },
    "id": "ngGqgeupGa0M",
    "outputId": "b54acae6-1128-4f5c-88c4-5e8da8170ba5"
   },
   "outputs": [
    {
     "name": "stdout",
     "output_type": "stream",
     "text": [
      "Collecting implicit\n",
      "  Downloading implicit-0.7.2-cp310-cp310-manylinux2014_x86_64.whl.metadata (6.1 kB)\n",
      "Requirement already satisfied: numpy>=1.17.0 in /usr/local/lib/python3.10/dist-packages (from implicit) (1.26.4)\n",
      "Requirement already satisfied: scipy>=0.16 in /usr/local/lib/python3.10/dist-packages (from implicit) (1.13.1)\n",
      "Requirement already satisfied: tqdm>=4.27 in /usr/local/lib/python3.10/dist-packages (from implicit) (4.66.5)\n",
      "Requirement already satisfied: threadpoolctl in /usr/local/lib/python3.10/dist-packages (from implicit) (3.5.0)\n",
      "Downloading implicit-0.7.2-cp310-cp310-manylinux2014_x86_64.whl (8.9 MB)\n",
      "\u001b[2K   \u001b[90m━━━━━━━━━━━━━━━━━━━━━━━━━━━━━━━━━━━━━━━━\u001b[0m \u001b[32m8.9/8.9 MB\u001b[0m \u001b[31m66.6 MB/s\u001b[0m eta \u001b[36m0:00:00\u001b[0m\n",
      "\u001b[?25hInstalling collected packages: implicit\n",
      "Successfully installed implicit-0.7.2\n"
     ]
    }
   ],
   "source": [
    "!pip install implicit"
   ]
  },
  {
   "cell_type": "code",
   "execution_count": null,
   "metadata": {
    "id": "yIITBhm8Hicv"
   },
   "outputs": [],
   "source": [
    "from implicit.datasets import _download"
   ]
  },
  {
   "cell_type": "code",
   "execution_count": null,
   "metadata": {
    "colab": {
     "base_uri": "https://localhost:8080/",
     "height": 49
    },
    "executionInfo": {
     "elapsed": 987,
     "status": "ok",
     "timestamp": 1729632756135,
     "user": {
      "displayName": "Владислав Наумов",
      "userId": "06177136265234660076"
     },
     "user_tz": -180
    },
    "id": "gvvyx3DaHJeQ",
    "outputId": "3e91efaa-a627-406a-bebf-82c114043881"
   },
   "outputs": [
    {
     "data": {
      "application/vnd.jupyter.widget-view+json": {
       "model_id": "03dd72a653454ea68f243e4a6b0350f6",
       "version_major": 2,
       "version_minor": 0
      },
      "text/plain": [
       "0.00B [00:00, ?B/s]"
      ]
     },
     "metadata": {},
     "output_type": "display_data"
    }
   ],
   "source": [
    "import os\n",
    "import zipfile\n",
    "\n",
    "import implicit.datasets\n",
    "\n",
    "# Download the dataset\n",
    "url = \"http://files.grouplens.org/datasets/hetrec2011/hetrec2011-lastfm-2k.zip\"\n",
    "dataset_path = \"lastfm.zip\"\n",
    "_download.download_file(url, dataset_path)\n",
    "\n",
    "with zipfile.ZipFile(dataset_path, \"r\") as zip_ref:\n",
    "    zip_ref.extractall(\"lastfm_data\")\n",
    "\n",
    "# users_artists = pd.read_csv('lastfm_data/user_artists.dat', sep='\\t')\n",
    "# artists = pd.read_csv('lastfm_data/artists.dat', sep='\\t')\n",
    "user_taggedartists = pd.read_csv(\"lastfm_data/user_taggedartists.dat\", sep=\"\\t\")"
   ]
  },
  {
   "cell_type": "code",
   "execution_count": null,
   "metadata": {
    "colab": {
     "base_uri": "https://localhost:8080/",
     "height": 206
    },
    "executionInfo": {
     "elapsed": 405,
     "status": "ok",
     "timestamp": 1729632757953,
     "user": {
      "displayName": "Владислав Наумов",
      "userId": "06177136265234660076"
     },
     "user_tz": -180
    },
    "id": "lZ_SNh69JJuB",
    "outputId": "5f76c3e5-62ef-446e-e8c8-a355f8a98179"
   },
   "outputs": [
    {
     "data": {
      "application/vnd.google.colaboratory.intrinsic+json": {
       "type": "dataframe",
       "variable_name": "user_taggedartists"
      },
      "text/html": [
       "\n",
       "  <div id=\"df-f5bbc49e-83ce-41df-bd3d-e222d9c24c62\" class=\"colab-df-container\">\n",
       "    <div>\n",
       "<style scoped>\n",
       "    .dataframe tbody tr th:only-of-type {\n",
       "        vertical-align: middle;\n",
       "    }\n",
       "\n",
       "    .dataframe tbody tr th {\n",
       "        vertical-align: top;\n",
       "    }\n",
       "\n",
       "    .dataframe thead th {\n",
       "        text-align: right;\n",
       "    }\n",
       "</style>\n",
       "<table border=\"1\" class=\"dataframe\">\n",
       "  <thead>\n",
       "    <tr style=\"text-align: right;\">\n",
       "      <th></th>\n",
       "      <th>userID</th>\n",
       "      <th>artistID</th>\n",
       "      <th>tagID</th>\n",
       "      <th>day</th>\n",
       "      <th>month</th>\n",
       "      <th>year</th>\n",
       "    </tr>\n",
       "  </thead>\n",
       "  <tbody>\n",
       "    <tr>\n",
       "      <th>0</th>\n",
       "      <td>2</td>\n",
       "      <td>52</td>\n",
       "      <td>13</td>\n",
       "      <td>1</td>\n",
       "      <td>4</td>\n",
       "      <td>2009</td>\n",
       "    </tr>\n",
       "    <tr>\n",
       "      <th>1</th>\n",
       "      <td>2</td>\n",
       "      <td>52</td>\n",
       "      <td>15</td>\n",
       "      <td>1</td>\n",
       "      <td>4</td>\n",
       "      <td>2009</td>\n",
       "    </tr>\n",
       "    <tr>\n",
       "      <th>2</th>\n",
       "      <td>2</td>\n",
       "      <td>52</td>\n",
       "      <td>18</td>\n",
       "      <td>1</td>\n",
       "      <td>4</td>\n",
       "      <td>2009</td>\n",
       "    </tr>\n",
       "    <tr>\n",
       "      <th>3</th>\n",
       "      <td>2</td>\n",
       "      <td>52</td>\n",
       "      <td>21</td>\n",
       "      <td>1</td>\n",
       "      <td>4</td>\n",
       "      <td>2009</td>\n",
       "    </tr>\n",
       "    <tr>\n",
       "      <th>4</th>\n",
       "      <td>2</td>\n",
       "      <td>52</td>\n",
       "      <td>41</td>\n",
       "      <td>1</td>\n",
       "      <td>4</td>\n",
       "      <td>2009</td>\n",
       "    </tr>\n",
       "  </tbody>\n",
       "</table>\n",
       "</div>\n",
       "    <div class=\"colab-df-buttons\">\n",
       "\n",
       "  <div class=\"colab-df-container\">\n",
       "    <button class=\"colab-df-convert\" onclick=\"convertToInteractive('df-f5bbc49e-83ce-41df-bd3d-e222d9c24c62')\"\n",
       "            title=\"Convert this dataframe to an interactive table.\"\n",
       "            style=\"display:none;\">\n",
       "\n",
       "  <svg xmlns=\"http://www.w3.org/2000/svg\" height=\"24px\" viewBox=\"0 -960 960 960\">\n",
       "    <path d=\"M120-120v-720h720v720H120Zm60-500h600v-160H180v160Zm220 220h160v-160H400v160Zm0 220h160v-160H400v160ZM180-400h160v-160H180v160Zm440 0h160v-160H620v160ZM180-180h160v-160H180v160Zm440 0h160v-160H620v160Z\"/>\n",
       "  </svg>\n",
       "    </button>\n",
       "\n",
       "  <style>\n",
       "    .colab-df-container {\n",
       "      display:flex;\n",
       "      gap: 12px;\n",
       "    }\n",
       "\n",
       "    .colab-df-convert {\n",
       "      background-color: #E8F0FE;\n",
       "      border: none;\n",
       "      border-radius: 50%;\n",
       "      cursor: pointer;\n",
       "      display: none;\n",
       "      fill: #1967D2;\n",
       "      height: 32px;\n",
       "      padding: 0 0 0 0;\n",
       "      width: 32px;\n",
       "    }\n",
       "\n",
       "    .colab-df-convert:hover {\n",
       "      background-color: #E2EBFA;\n",
       "      box-shadow: 0px 1px 2px rgba(60, 64, 67, 0.3), 0px 1px 3px 1px rgba(60, 64, 67, 0.15);\n",
       "      fill: #174EA6;\n",
       "    }\n",
       "\n",
       "    .colab-df-buttons div {\n",
       "      margin-bottom: 4px;\n",
       "    }\n",
       "\n",
       "    [theme=dark] .colab-df-convert {\n",
       "      background-color: #3B4455;\n",
       "      fill: #D2E3FC;\n",
       "    }\n",
       "\n",
       "    [theme=dark] .colab-df-convert:hover {\n",
       "      background-color: #434B5C;\n",
       "      box-shadow: 0px 1px 3px 1px rgba(0, 0, 0, 0.15);\n",
       "      filter: drop-shadow(0px 1px 2px rgba(0, 0, 0, 0.3));\n",
       "      fill: #FFFFFF;\n",
       "    }\n",
       "  </style>\n",
       "\n",
       "    <script>\n",
       "      const buttonEl =\n",
       "        document.querySelector('#df-f5bbc49e-83ce-41df-bd3d-e222d9c24c62 button.colab-df-convert');\n",
       "      buttonEl.style.display =\n",
       "        google.colab.kernel.accessAllowed ? 'block' : 'none';\n",
       "\n",
       "      async function convertToInteractive(key) {\n",
       "        const element = document.querySelector('#df-f5bbc49e-83ce-41df-bd3d-e222d9c24c62');\n",
       "        const dataTable =\n",
       "          await google.colab.kernel.invokeFunction('convertToInteractive',\n",
       "                                                    [key], {});\n",
       "        if (!dataTable) return;\n",
       "\n",
       "        const docLinkHtml = 'Like what you see? Visit the ' +\n",
       "          '<a target=\"_blank\" href=https://colab.research.google.com/notebooks/data_table.ipynb>data table notebook</a>'\n",
       "          + ' to learn more about interactive tables.';\n",
       "        element.innerHTML = '';\n",
       "        dataTable['output_type'] = 'display_data';\n",
       "        await google.colab.output.renderOutput(dataTable, element);\n",
       "        const docLink = document.createElement('div');\n",
       "        docLink.innerHTML = docLinkHtml;\n",
       "        element.appendChild(docLink);\n",
       "      }\n",
       "    </script>\n",
       "  </div>\n",
       "\n",
       "\n",
       "<div id=\"df-1282cbec-eefa-46e0-aa56-07fb241d90d9\">\n",
       "  <button class=\"colab-df-quickchart\" onclick=\"quickchart('df-1282cbec-eefa-46e0-aa56-07fb241d90d9')\"\n",
       "            title=\"Suggest charts\"\n",
       "            style=\"display:none;\">\n",
       "\n",
       "<svg xmlns=\"http://www.w3.org/2000/svg\" height=\"24px\"viewBox=\"0 0 24 24\"\n",
       "     width=\"24px\">\n",
       "    <g>\n",
       "        <path d=\"M19 3H5c-1.1 0-2 .9-2 2v14c0 1.1.9 2 2 2h14c1.1 0 2-.9 2-2V5c0-1.1-.9-2-2-2zM9 17H7v-7h2v7zm4 0h-2V7h2v10zm4 0h-2v-4h2v4z\"/>\n",
       "    </g>\n",
       "</svg>\n",
       "  </button>\n",
       "\n",
       "<style>\n",
       "  .colab-df-quickchart {\n",
       "      --bg-color: #E8F0FE;\n",
       "      --fill-color: #1967D2;\n",
       "      --hover-bg-color: #E2EBFA;\n",
       "      --hover-fill-color: #174EA6;\n",
       "      --disabled-fill-color: #AAA;\n",
       "      --disabled-bg-color: #DDD;\n",
       "  }\n",
       "\n",
       "  [theme=dark] .colab-df-quickchart {\n",
       "      --bg-color: #3B4455;\n",
       "      --fill-color: #D2E3FC;\n",
       "      --hover-bg-color: #434B5C;\n",
       "      --hover-fill-color: #FFFFFF;\n",
       "      --disabled-bg-color: #3B4455;\n",
       "      --disabled-fill-color: #666;\n",
       "  }\n",
       "\n",
       "  .colab-df-quickchart {\n",
       "    background-color: var(--bg-color);\n",
       "    border: none;\n",
       "    border-radius: 50%;\n",
       "    cursor: pointer;\n",
       "    display: none;\n",
       "    fill: var(--fill-color);\n",
       "    height: 32px;\n",
       "    padding: 0;\n",
       "    width: 32px;\n",
       "  }\n",
       "\n",
       "  .colab-df-quickchart:hover {\n",
       "    background-color: var(--hover-bg-color);\n",
       "    box-shadow: 0 1px 2px rgba(60, 64, 67, 0.3), 0 1px 3px 1px rgba(60, 64, 67, 0.15);\n",
       "    fill: var(--button-hover-fill-color);\n",
       "  }\n",
       "\n",
       "  .colab-df-quickchart-complete:disabled,\n",
       "  .colab-df-quickchart-complete:disabled:hover {\n",
       "    background-color: var(--disabled-bg-color);\n",
       "    fill: var(--disabled-fill-color);\n",
       "    box-shadow: none;\n",
       "  }\n",
       "\n",
       "  .colab-df-spinner {\n",
       "    border: 2px solid var(--fill-color);\n",
       "    border-color: transparent;\n",
       "    border-bottom-color: var(--fill-color);\n",
       "    animation:\n",
       "      spin 1s steps(1) infinite;\n",
       "  }\n",
       "\n",
       "  @keyframes spin {\n",
       "    0% {\n",
       "      border-color: transparent;\n",
       "      border-bottom-color: var(--fill-color);\n",
       "      border-left-color: var(--fill-color);\n",
       "    }\n",
       "    20% {\n",
       "      border-color: transparent;\n",
       "      border-left-color: var(--fill-color);\n",
       "      border-top-color: var(--fill-color);\n",
       "    }\n",
       "    30% {\n",
       "      border-color: transparent;\n",
       "      border-left-color: var(--fill-color);\n",
       "      border-top-color: var(--fill-color);\n",
       "      border-right-color: var(--fill-color);\n",
       "    }\n",
       "    40% {\n",
       "      border-color: transparent;\n",
       "      border-right-color: var(--fill-color);\n",
       "      border-top-color: var(--fill-color);\n",
       "    }\n",
       "    60% {\n",
       "      border-color: transparent;\n",
       "      border-right-color: var(--fill-color);\n",
       "    }\n",
       "    80% {\n",
       "      border-color: transparent;\n",
       "      border-right-color: var(--fill-color);\n",
       "      border-bottom-color: var(--fill-color);\n",
       "    }\n",
       "    90% {\n",
       "      border-color: transparent;\n",
       "      border-bottom-color: var(--fill-color);\n",
       "    }\n",
       "  }\n",
       "</style>\n",
       "\n",
       "  <script>\n",
       "    async function quickchart(key) {\n",
       "      const quickchartButtonEl =\n",
       "        document.querySelector('#' + key + ' button');\n",
       "      quickchartButtonEl.disabled = true;  // To prevent multiple clicks.\n",
       "      quickchartButtonEl.classList.add('colab-df-spinner');\n",
       "      try {\n",
       "        const charts = await google.colab.kernel.invokeFunction(\n",
       "            'suggestCharts', [key], {});\n",
       "      } catch (error) {\n",
       "        console.error('Error during call to suggestCharts:', error);\n",
       "      }\n",
       "      quickchartButtonEl.classList.remove('colab-df-spinner');\n",
       "      quickchartButtonEl.classList.add('colab-df-quickchart-complete');\n",
       "    }\n",
       "    (() => {\n",
       "      let quickchartButtonEl =\n",
       "        document.querySelector('#df-1282cbec-eefa-46e0-aa56-07fb241d90d9 button');\n",
       "      quickchartButtonEl.style.display =\n",
       "        google.colab.kernel.accessAllowed ? 'block' : 'none';\n",
       "    })();\n",
       "  </script>\n",
       "</div>\n",
       "    </div>\n",
       "  </div>\n"
      ],
      "text/plain": [
       "   userID  artistID  tagID  day  month  year\n",
       "0       2        52     13    1      4  2009\n",
       "1       2        52     15    1      4  2009\n",
       "2       2        52     18    1      4  2009\n",
       "3       2        52     21    1      4  2009\n",
       "4       2        52     41    1      4  2009"
      ]
     },
     "execution_count": 61,
     "metadata": {},
     "output_type": "execute_result"
    }
   ],
   "source": [
    "user_taggedartists.head()"
   ]
  },
  {
   "cell_type": "code",
   "execution_count": null,
   "metadata": {
    "colab": {
     "base_uri": "https://localhost:8080/"
    },
    "executionInfo": {
     "elapsed": 309,
     "status": "ok",
     "timestamp": 1729633087659,
     "user": {
      "displayName": "Владислав Наумов",
      "userId": "06177136265234660076"
     },
     "user_tz": -180
    },
    "id": "s-F7crsXJW9D",
    "outputId": "92cfa175-bd0d-4d6a-d2cf-a4a6b8688500"
   },
   "outputs": [
    {
     "name": "stdout",
     "output_type": "stream",
     "text": [
      "Mean:    79.53340402969248\n",
      "Std:     75.76146145780153\n",
      "Median:  49.0\n"
     ]
    }
   ],
   "source": [
    "lastfm_users_tags = user_taggedartists.groupby(\"userID\")[\"tagID\"].count()\n",
    "\n",
    "print(\"Mean:   \", users_train.mean())\n",
    "print(\"Std:    \", users_train.std())\n",
    "print(\"Median: \", users_train.median())"
   ]
  },
  {
   "cell_type": "code",
   "execution_count": null,
   "metadata": {
    "colab": {
     "base_uri": "https://localhost:8080/",
     "height": 430
    },
    "executionInfo": {
     "elapsed": 655,
     "status": "ok",
     "timestamp": 1729633198588,
     "user": {
      "displayName": "Владислав Наумов",
      "userId": "06177136265234660076"
     },
     "user_tz": -180
    },
    "id": "jlz_xcJHKv4S",
    "outputId": "b410d3ec-b929-4caa-e005-2778b208b7c1"
   },
   "outputs": [
    {
     "data": {
      "image/png": "[encoded data removed]",
      "text/plain": [
       "<Figure size 640x480 with 1 Axes>"
      ]
     },
     "metadata": {},
     "output_type": "display_data"
    }
   ],
   "source": [
    "user_taggedartists.groupby(\"userID\")[\"artistID\"].count().hist(bins=100);"
   ]
  },
  {
   "cell_type": "code",
   "execution_count": null,
   "metadata": {
    "colab": {
     "base_uri": "https://localhost:8080/",
     "height": 430
    },
    "executionInfo": {
     "elapsed": 909,
     "status": "ok",
     "timestamp": 1729633222358,
     "user": {
      "displayName": "Владислав Наумов",
      "userId": "06177136265234660076"
     },
     "user_tz": -180
    },
    "id": "w_oFjsZnLE4J",
    "outputId": "a9ab81a1-151c-4008-94d2-c22b8b7c8697"
   },
   "outputs": [
    {
     "data": {
      "image/png": "[encoded data removed]",
      "text/plain": [
       "<Figure size 640x480 with 1 Axes>"
      ]
     },
     "metadata": {},
     "output_type": "display_data"
    }
   ],
   "source": [
    "plt.hist(user_taggedartists.groupby(\"userID\")[\"artistID\"].count(), bins=100, log=True);"
   ]
  },
  {
   "cell_type": "markdown",
   "metadata": {
    "id": "Pjk90jTfVA89"
   },
   "source": [
    "## Построение простой модели"
   ]
  },
  {
   "cell_type": "code",
   "execution_count": null,
   "metadata": {
    "id": "R4bUU2_iVA8-"
   },
   "outputs": [],
   "source": [
    "from surprise import SVD, KNNBasic, accuracy"
   ]
  },
  {
   "cell_type": "markdown",
   "metadata": {
    "id": "wIrqEcYHVA9C"
   },
   "source": [
    "Инициализируем алгоритм. Алгоритм SVD - один из самых распространенных методов матричной факторизации (представления матрицы в виде произведения нескольких матриц). Такое представление позволяет анализировать похожие матрицы и раскладывать их на так называемые \"компоненты\". А так же, восстанавливая матрицы их этих компонент - заполнять недостающие значения (в нашем случае - оценки). Почитать можно здесь: http://www.albertauyeung.com/post/python-matrix-factorization/"
   ]
  },
  {
   "cell_type": "code",
   "execution_count": null,
   "metadata": {
    "id": "U-C8PSgmVA9D"
   },
   "outputs": [],
   "source": [
    "algo = SVD()"
   ]
  },
  {
   "cell_type": "markdown",
   "metadata": {
    "id": "T46Qt-efVA9G"
   },
   "source": [
    "Тренируем на тренировочной выборке алгоритм."
   ]
  },
  {
   "cell_type": "code",
   "execution_count": null,
   "metadata": {
    "colab": {
     "base_uri": "https://localhost:8080/"
    },
    "executionInfo": {
     "elapsed": 4208,
     "status": "ok",
     "timestamp": 1729631512578,
     "user": {
      "displayName": "Владислав Наумов",
      "userId": "06177136265234660076"
     },
     "user_tz": -180
    },
    "id": "023_UmhzVA9I",
    "outputId": "3ba7848f-1843-4fa6-dc0a-546154df8b96"
   },
   "outputs": [
    {
     "data": {
      "text/plain": [
       "<surprise.prediction_algorithms.matrix_factorization.SVD at 0x7985f728c460>"
      ]
     },
     "execution_count": 22,
     "metadata": {},
     "output_type": "execute_result"
    }
   ],
   "source": [
    "algo.fit(trainset)"
   ]
  },
  {
   "cell_type": "markdown",
   "metadata": {
    "id": "PLr4X8_3VA9M"
   },
   "source": [
    "Делаем предсказание на тестовой выборке."
   ]
  },
  {
   "cell_type": "code",
   "execution_count": null,
   "metadata": {
    "colab": {
     "base_uri": "https://localhost:8080/"
    },
    "executionInfo": {
     "elapsed": 1253,
     "status": "ok",
     "timestamp": 1729631513828,
     "user": {
      "displayName": "Владислав Наумов",
      "userId": "06177136265234660076"
     },
     "user_tz": -180
    },
    "id": "rvvw4w3aVA9R",
    "outputId": "62c21a38-fca5-4a10-bc96-7309f226479e"
   },
   "outputs": [
    {
     "name": "stdout",
     "output_type": "stream",
     "text": [
      "RMSE: 0.9268\n"
     ]
    }
   ],
   "source": [
    "predictions = algo.test(testset)\n",
    "accuracy.rmse(predictions);"
   ]
  },
  {
   "cell_type": "markdown",
   "metadata": {
    "id": "gxA9DhnrVA9W"
   },
   "source": [
    "## Кросс-валидация"
   ]
  },
  {
   "cell_type": "markdown",
   "metadata": {
    "id": "3nfQSI8gVA9X"
   },
   "source": [
    "Обучая любой алгоритм машинного обучения мы, фактически, \"подгоняем\" модель под данные, которые ей подаём. Но, если подгонять слишком сильно, то модель переобучится. То есть модель начнёт запоминать ответы вместо того, чтобы выявлять закономерности.\n",
    "\n",
    "На графиках ниже точки тренировочной выборки:\n",
    "\n",
    "- слева - недообученная модель (большая ошибка на тренировочной выборке; большая ошибка на тестовой выборке)\n",
    "- посередине - хорошо обученная модель (маленькая ошибка на тренировочной выборке; маленькая ошибка на тестовой выборке)\n",
    "- справа - переобученная модель (очень маленькая или нулевая ошибка на тренировочной выборке; большая ошибка на тестовой выборке)"
   ]
  },
  {
   "cell_type": "markdown",
   "metadata": {
    "id": "mYNhrqsNVA9Z"
   },
   "source": [
    "Таким образом, обучая модель, мы всегда уменьшаем ошибку на тренировочной выборке. Вместе с ошибкой на тренировочной выборке, падает и ошибка на тестовой. Но после какого-то момента, модель начинает переобучатся, и ошибка на тестовой выборке начинает расти, в то время, как ошибка на тренировочной выборке продолжает падать."
   ]
  },
  {
   "cell_type": "markdown",
   "metadata": {
    "id": "k-m8IjEkVA9a"
   },
   "source": [
    "Может получится ситуация, когда мы видим маленькую ошибку нашей модели, и думаем, что она хорошая, но на самом деле она просто переобучилась, и на новых данных покажет плохой результат.\n",
    "\n",
    "Чтобы избежать такой ситуации можно использовать отложенную выборку. То есть мы разбиваем наши данные на **тренировочную** выборку, **тестовую** выборку и **отложенную** выборку. Соответственно, обучаем модель на тренировочной, в ходе обучения проверяем результат на тестовой выборке, а в конце обучения, чтобы оценить качество модели, ошибку считаем на отложенной выборке."
   ]
  },
  {
   "cell_type": "markdown",
   "metadata": {
    "id": "6qQjDxYpVA9c"
   },
   "source": [
    "При таком подходе в обучении модели участвует только тренировочная выборка. Тестовую и отложенную мы используем только для проверки. Если у нас мало данных, отложенная выборка - непозволительная роскошь.\n",
    "\n",
    "Другой популярный подход это **кросс-валидация** или скользящий контроль. Суть метода заключается в том, что мы дераем не одно разбиение датесета, а несколько разбиений таким образом, чтобы все данные использовались и в обучении и для проверки. Такие разбиения называются **фолдами**.\n",
    "\n",
    "Преимущества такого подхожа в том, что мы используем все данные для обучения. Также это позволяет оценить устойчивость модели. Если ошибки полученные на разных фолдах сильно отличаются, что модель неустойчива.\n",
    "Недостаток метода в том, что нам нужно обучать не одну модель, а несколько (столько, сколько мы выбрали фолдов).\n",
    "\n",
    "На практике часто выбирают 5 фолдов."
   ]
  },
  {
   "cell_type": "code",
   "execution_count": null,
   "metadata": {
    "id": "3Nm_zw-BVA9e"
   },
   "outputs": [],
   "source": [
    "from surprise.model_selection import cross_validate"
   ]
  },
  {
   "cell_type": "markdown",
   "metadata": {
    "id": "VEPy4jGKVA9h"
   },
   "source": [
    "Используем функцию **cross_validate** из модуля **model_selection** библиотеки **surprise**.\n",
    "\n",
    "Функция принимает на вход:\n",
    "\n",
    "- algo - алгоритм, который будем обучать.\n",
    "- data - исходные данные. Обратите внимание, что данные передаём не разбитые на выборки.\n",
    "- measures - метрики ошибок по которым мы хотим сравнивать модели. Мы передаём среднеквадратичную ошибку и среднюю ошибку.\n",
    "- cv - количество фолдов.\n",
    "- verbose - параметр указывающий хотим ли мы увидеть подробный результат выполнения функции."
   ]
  },
  {
   "cell_type": "code",
   "execution_count": null,
   "metadata": {
    "colab": {
     "base_uri": "https://localhost:8080/"
    },
    "executionInfo": {
     "elapsed": 20935,
     "status": "ok",
     "timestamp": 1729631536525,
     "user": {
      "displayName": "Владислав Наумов",
      "userId": "06177136265234660076"
     },
     "user_tz": -180
    },
    "id": "0dzKI1AmVA9i",
    "outputId": "e6cb43e1-aa06-4ced-b293-768d918a6dad"
   },
   "outputs": [
    {
     "name": "stdout",
     "output_type": "stream",
     "text": [
      "Evaluating RMSE, MAE of algorithm SVD on 5 split(s).\n",
      "\n",
      "                  Fold 1  Fold 2  Fold 3  Fold 4  Fold 5  Mean    Std     \n",
      "RMSE (testset)    0.9295  0.9377  0.9301  0.9452  0.9424  0.9370  0.0064  \n",
      "MAE (testset)     0.7336  0.7396  0.7325  0.7427  0.7424  0.7382  0.0043  \n",
      "Fit time          5.21    5.78    3.16    1.38    1.37    3.38    1.85    \n",
      "Test time         0.58    0.40    0.23    0.12    0.24    0.31    0.16    \n"
     ]
    },
    {
     "data": {
      "text/plain": [
       "{'test_rmse': array([0.92947786, 0.93765133, 0.93005104, 0.94520289, 0.94242793]),\n",
       " 'test_mae': array([0.73358657, 0.73963733, 0.73252948, 0.74271948, 0.74242207]),\n",
       " 'fit_time': (5.211683750152588,\n",
       "  5.7777018547058105,\n",
       "  3.1554861068725586,\n",
       "  1.3847293853759766,\n",
       "  1.3691818714141846),\n",
       " 'test_time': (0.5768563747406006,\n",
       "  0.40428900718688965,\n",
       "  0.23071837425231934,\n",
       "  0.11606407165527344,\n",
       "  0.23673081398010254)}"
      ]
     },
     "execution_count": 25,
     "metadata": {},
     "output_type": "execute_result"
    }
   ],
   "source": [
    "algo = SVD()\n",
    "cross_validate(algo, data, measures=[\"RMSE\", \"MAE\"], cv=5, verbose=True)"
   ]
  },
  {
   "cell_type": "markdown",
   "metadata": {
    "id": "D1ICfHrkVA9l"
   },
   "source": [
    "В результате получаем значения ошибок на каждом из фолдов, а также их среднее и стандартное отклонение (СО). Маленькое СО, как в нашем случае, говорит об устойчивости модели.\n",
    "\n",
    "Дополнительно мы видим время тренировки и время предсказания модели на каждом из фолдов."
   ]
  },
  {
   "cell_type": "markdown",
   "metadata": {
    "id": "qgBGv8BZVA9m"
   },
   "source": [
    "## Поиск по сетке (Grid search)"
   ]
  },
  {
   "cell_type": "markdown",
   "metadata": {
    "id": "j4L5ffx8VA9n"
   },
   "source": [
    "Теперь, когда у нас есть надёжный способ оценивать качество модели, мы можем перейти к подбору гиперпараметров модели, т.е. параметров, которые нужно указывать вручную, потому что нельзя обучить во время тренировки модели.\n",
    "\n",
    "Метод поиска по сетке очень прост. Мы передаём варианты каждого из параметров, который мы хотим перебрать, а функция перебирает все возможные варианты переданных параметров. Например, на картинке ниже перебираются параметры \"регуляризация\" и \"скорость обучения\"."
   ]
  },
  {
   "cell_type": "markdown",
   "metadata": {
    "id": "NfWrGyLhVA9s"
   },
   "source": [
    "<p align=\"center\">\n",
    "  <img src=\"https://drive.google.com/uc?id=1xs9z_Zo1A2QinErKYEB-bp6eGnLWodbO\" alt=\"Drawing\" style=\"width: 700px;\" width=\"700\"/>\n",
    "</p>"
   ]
  },
  {
   "cell_type": "markdown",
   "metadata": {
    "id": "c7PSdgEnpwjb"
   },
   "source": [
    "# Задание 2\n",
    "\n",
    "## Часть 1\n",
    "\n",
    "Оптимизируйте следующие параметры алгоритма SVD:\n",
    "\n",
    "- n_epochs - количество эпох обучения\n",
    "- lr_all - скорость обучения\n",
    "- reg_all - регуляризация\n",
    "\n",
    "Более детальное описание алгоритма смотри в [документации](https://surprise.readthedocs.io/en/stable/matrix_factorization.html#surprise.prediction_algorithms.matrix_factorization.SVD)\n",
    "\n",
    "P.S. не нужно делать слишком большую сетку перебора - если время расчёта отнимает больше 10 мин, то это уже очень много (для базового датасета)."
   ]
  },
  {
   "cell_type": "code",
   "execution_count": null,
   "metadata": {
    "id": "7g8NQTNrVA9t"
   },
   "outputs": [],
   "source": [
    "from surprise.model_selection import GridSearchCV"
   ]
  },
  {
   "cell_type": "markdown",
   "metadata": {
    "id": "hvEIIGGeVA92"
   },
   "source": [
    "Для перебора по сетке используем функцию **GridSearchCV**.\n",
    "На вход подаём:\n",
    "\n",
    "- алгоритм.\n",
    "- параметры, которые хотим перебрать.\n",
    "- метрики ошибок.\n",
    "- количество фолдов для кросс-валидации.\n",
    "\n",
    "Обратите внимание, что функция выполняет кросс-валидация автоматически."
   ]
  },
  {
   "cell_type": "code",
   "execution_count": null,
   "metadata": {
    "id": "tUo_Y70UVA-B"
   },
   "outputs": [],
   "source": [
    "params = {\n",
    "    \"n_epochs\": [10, 20, 30, 50],\n",
    "    \"lr_all\": [0.001, 0.01, 0.05],\n",
    "    \"reg_all\": [0.01, 0.05, 0.1],\n",
    "}\n",
    "grid = GridSearchCV(\n",
    "    SVD,\n",
    "    param_grid=params,\n",
    "    measures=[\"rmse\", \"mae\"],\n",
    "    cv=3,\n",
    "    n_jobs=-1,\n",
    "    return_train_measures=True,\n",
    ")\n",
    "grid.fit(data)"
   ]
  },
  {
   "cell_type": "code",
   "execution_count": null,
   "metadata": {
    "colab": {
     "base_uri": "https://localhost:8080/"
    },
    "executionInfo": {
     "elapsed": 16,
     "status": "ok",
     "timestamp": 1729631766299,
     "user": {
      "displayName": "Владислав Наумов",
      "userId": "06177136265234660076"
     },
     "user_tz": -180
    },
    "id": "-NmK5M4el8A5",
    "outputId": "bb9cc403-0aab-4985-f70e-54490a818f16"
   },
   "outputs": [
    {
     "data": {
      "text/plain": [
       "({'rmse': 0.9187959678403628, 'mae': 0.7263187166094465},\n",
       " {'rmse': {'n_epochs': 50, 'lr_all': 0.01, 'reg_all': 0.1},\n",
       "  'mae': {'n_epochs': 50, 'lr_all': 0.01, 'reg_all': 0.1}})"
      ]
     },
     "execution_count": 28,
     "metadata": {},
     "output_type": "execute_result"
    }
   ],
   "source": [
    "grid.best_score, grid.best_params"
   ]
  },
  {
   "cell_type": "markdown",
   "metadata": {
    "id": "RQ9tPY8vpwjc"
   },
   "source": [
    "## Часть 2\n",
    "\n",
    "Выберите другую модель из scikit surprise для предсказания рекомендаций (полный список смотри в [документации](https://surprise.readthedocs.io/en/stable/prediction_algorithms_package.html)).<br>\n",
    "И настройте её параметры с помощью поиска по сетке.\n",
    "\n",
    "Сравните результаты с предыдущей моделью."
   ]
  },
  {
   "cell_type": "code",
   "execution_count": null,
   "metadata": {
    "id": "hLV4m6SApwjd"
   },
   "outputs": [],
   "source": [
    "params = {\"k\": [10, 20, 40], \"min_k\": [1, 2, 5]}\n",
    "grid = GridSearchCV(\n",
    "    KNNBasic,\n",
    "    param_grid=params,\n",
    "    measures=[\"rmse\", \"mae\"],\n",
    "    cv=3,\n",
    "    n_jobs=-1,\n",
    "    return_train_measures=True,\n",
    ")\n",
    "grid.fit(data)"
   ]
  },
  {
   "cell_type": "code",
   "execution_count": null,
   "metadata": {
    "colab": {
     "base_uri": "https://localhost:8080/"
    },
    "executionInfo": {
     "elapsed": 22,
     "status": "ok",
     "timestamp": 1729632054252,
     "user": {
      "displayName": "Владислав Наумов",
      "userId": "06177136265234660076"
     },
     "user_tz": -180
    },
    "id": "WhG0M4X1gefB",
    "outputId": "99b0fd8a-679e-4e24-f091-1cdf51ae7ffb"
   },
   "outputs": [
    {
     "data": {
      "text/plain": [
       "({'rmse': 0.9866003841807606, 'mae': 0.7791093691203765},\n",
       " {'rmse': {'k': 20, 'min_k': 2}, 'mae': {'k': 20, 'min_k': 2}})"
      ]
     },
     "execution_count": 30,
     "metadata": {},
     "output_type": "execute_result"
    }
   ],
   "source": [
    "knn_model = grid.best_estimator\n",
    "\n",
    "grid.best_score, grid.best_params"
   ]
  },
  {
   "cell_type": "markdown",
   "metadata": {
    "id": "8lbG1suopwjd"
   },
   "source": [
    "# Задание 3\n",
    "\n",
    "С помощью натренированной модели (любой из предыдущих) постройте по 3 рекомендации для каждого клиента из тестовой выборки.\n",
    "\n",
    "Проанализируйте полученные результаты: сколько раз был порекомендован каждый фильм? Каково распределение этих частот? (постройте гистограму)"
   ]
  },
  {
   "cell_type": "markdown",
   "metadata": {
    "id": "wrYNzkB1sjLJ"
   },
   "source": [
    "Так как модель SVD показала меньшую ошибку, будем использовать ее для дальнейших предсказаний."
   ]
  },
  {
   "cell_type": "code",
   "execution_count": null,
   "metadata": {
    "id": "FjqKbhEZ2dWT"
   },
   "outputs": [],
   "source": [
    "def get_top_n(predictions, n=3):\n",
    "    \"\"\"Return the top-N recommendation for each user from a set of predictions.\n",
    "\n",
    "    Args:\n",
    "        predictions(list of Prediction objects): The list of predictions, as\n",
    "            returned by the test method of an algorithm.\n",
    "        n(int): The number of recommendation to output for each user. Default\n",
    "            is 10.\n",
    "\n",
    "    Returns:\n",
    "    A dict where keys are user (raw) ids and values are lists of tuples:\n",
    "        [(raw item id, rating estimation), ...] of size n.\n",
    "    \"\"\"\n",
    "\n",
    "    # First map the predictions to each user.\n",
    "    top_n = {}\n",
    "    for uid, iid, true_r, est, _ in predictions:\n",
    "        top_n[uid] = top_n.get(uid, []) + [(iid, est)]\n",
    "\n",
    "    # Then sort the predictions for each user and retrieve the k highest ones.\n",
    "    for uid, user_ratings in top_n.items():\n",
    "        user_ratings.sort(key=lambda x: x[1], reverse=True)\n",
    "        top_n[uid] = user_ratings[:n]\n",
    "\n",
    "    return top_n"
   ]
  },
  {
   "cell_type": "code",
   "execution_count": null,
   "metadata": {
    "id": "aFC9Xsqh5Hvz"
   },
   "outputs": [],
   "source": [
    "algo = SVD(lr_all=0.01, n_epochs=50, reg_all=0.1, random_state=0)\n",
    "algo.fit(trainset)\n",
    "preds = algo.test(testset)"
   ]
  },
  {
   "cell_type": "code",
   "execution_count": null,
   "metadata": {
    "colab": {
     "base_uri": "https://localhost:8080/"
    },
    "executionInfo": {
     "elapsed": 9,
     "status": "ok",
     "timestamp": 1729632058609,
     "user": {
      "displayName": "Владислав Наумов",
      "userId": "06177136265234660076"
     },
     "user_tz": -180
    },
    "id": "T_WdhHmq4uVj",
    "outputId": "0d154832-bf1d-4bca-b58e-be8721d318b7"
   },
   "outputs": [
    {
     "data": {
      "text/plain": [
       "943"
      ]
     },
     "execution_count": 33,
     "metadata": {},
     "output_type": "execute_result"
    }
   ],
   "source": [
    "top_n = get_top_n(preds, n=3)\n",
    "len(top_n)"
   ]
  },
  {
   "cell_type": "code",
   "execution_count": null,
   "metadata": {
    "colab": {
     "base_uri": "https://localhost:8080/"
    },
    "executionInfo": {
     "elapsed": 7,
     "status": "ok",
     "timestamp": 1729632058609,
     "user": {
      "displayName": "Владислав Наумов",
      "userId": "06177136265234660076"
     },
     "user_tz": -180
    },
    "id": "YRdoBXzA57as",
    "outputId": "e2739a91-d739-46ba-de6a-a1569fd16bc3"
   },
   "outputs": [
    {
     "data": {
      "text/plain": [
       "421"
      ]
     },
     "execution_count": 34,
     "metadata": {},
     "output_type": "execute_result"
    }
   ],
   "source": [
    "all_recommends = []\n",
    "for user_ratings in top_n.values():\n",
    "    movies = [iid for (iid, _) in user_ratings]\n",
    "    all_recommends += movies\n",
    "\n",
    "uniq_movies = set(all_recommends)\n",
    "len(uniq_movies)"
   ]
  },
  {
   "cell_type": "code",
   "execution_count": null,
   "metadata": {
    "colab": {
     "base_uri": "https://localhost:8080/",
     "height": 398
    },
    "executionInfo": {
     "elapsed": 6,
     "status": "ok",
     "timestamp": 1729632058609,
     "user": {
      "displayName": "Владислав Наумов",
      "userId": "06177136265234660076"
     },
     "user_tz": -180
    },
    "id": "0aBwMn-E-Tvl",
    "outputId": "748042b0-b7ba-4cf3-c78d-79eb02a407bb"
   },
   "outputs": [
    {
     "data": {
      "text/html": [
       "<div>\n",
       "<style scoped>\n",
       "    .dataframe tbody tr th:only-of-type {\n",
       "        vertical-align: middle;\n",
       "    }\n",
       "\n",
       "    .dataframe tbody tr th {\n",
       "        vertical-align: top;\n",
       "    }\n",
       "\n",
       "    .dataframe thead th {\n",
       "        text-align: right;\n",
       "    }\n",
       "</style>\n",
       "<table border=\"1\" class=\"dataframe\">\n",
       "  <thead>\n",
       "    <tr style=\"text-align: right;\">\n",
       "      <th></th>\n",
       "      <th>count</th>\n",
       "    </tr>\n",
       "  </thead>\n",
       "  <tbody>\n",
       "    <tr>\n",
       "      <th>50</th>\n",
       "      <td>93</td>\n",
       "    </tr>\n",
       "    <tr>\n",
       "      <th>127</th>\n",
       "      <td>70</td>\n",
       "    </tr>\n",
       "    <tr>\n",
       "      <th>483</th>\n",
       "      <td>60</td>\n",
       "    </tr>\n",
       "    <tr>\n",
       "      <th>313</th>\n",
       "      <td>60</td>\n",
       "    </tr>\n",
       "    <tr>\n",
       "      <th>100</th>\n",
       "      <td>58</td>\n",
       "    </tr>\n",
       "    <tr>\n",
       "      <th>318</th>\n",
       "      <td>52</td>\n",
       "    </tr>\n",
       "    <tr>\n",
       "      <th>64</th>\n",
       "      <td>48</td>\n",
       "    </tr>\n",
       "    <tr>\n",
       "      <th>357</th>\n",
       "      <td>47</td>\n",
       "    </tr>\n",
       "    <tr>\n",
       "      <th>174</th>\n",
       "      <td>45</td>\n",
       "    </tr>\n",
       "    <tr>\n",
       "      <th>302</th>\n",
       "      <td>44</td>\n",
       "    </tr>\n",
       "  </tbody>\n",
       "</table>\n",
       "</div><br><label><b>dtype:</b> int64</label>"
      ],
      "text/plain": [
       "50     93\n",
       "127    70\n",
       "483    60\n",
       "313    60\n",
       "100    58\n",
       "318    52\n",
       "64     48\n",
       "357    47\n",
       "174    45\n",
       "302    44\n",
       "Name: count, dtype: int64"
      ]
     },
     "execution_count": 35,
     "metadata": {},
     "output_type": "execute_result"
    }
   ],
   "source": [
    "freq_rcmnd = pd.Series(all_recommends).value_counts()\n",
    "freq_rcmnd.head(10)"
   ]
  },
  {
   "cell_type": "markdown",
   "metadata": {
    "id": "4T8Rj-IZAk-L"
   },
   "source": [
    "Построим распределение частот рекомендаций:"
   ]
  },
  {
   "cell_type": "code",
   "execution_count": null,
   "metadata": {
    "colab": {
     "base_uri": "https://localhost:8080/",
     "height": 522
    },
    "executionInfo": {
     "elapsed": 3788,
     "status": "ok",
     "timestamp": 1729632062393,
     "user": {
      "displayName": "Владислав Наумов",
      "userId": "06177136265234660076"
     },
     "user_tz": -180
    },
    "id": "b-LISnvO9GJE",
    "outputId": "b4369a32-2544-4246-b222-9b4e752861cd"
   },
   "outputs": [
    {
     "data": {
      "image/png": "[encoded data removed]",
      "text/plain": [
       "<Figure size 1600x600 with 1 Axes>"
      ]
     },
     "metadata": {},
     "output_type": "display_data"
    }
   ],
   "source": [
    "plt.figure(figsize=(16, 6))\n",
    "plt.bar(freq_rcmnd.index, freq_rcmnd.values);"
   ]
  },
  {
   "cell_type": "markdown",
   "metadata": {
    "id": "5MwMFkHjAreL"
   },
   "source": [
    "Посмоторим чуть более детально на первые 30 значений:"
   ]
  },
  {
   "cell_type": "code",
   "execution_count": null,
   "metadata": {
    "colab": {
     "base_uri": "https://localhost:8080/",
     "height": 522
    },
    "executionInfo": {
     "elapsed": 337,
     "status": "ok",
     "timestamp": 1729632062728,
     "user": {
      "displayName": "Владислав Наумов",
      "userId": "06177136265234660076"
     },
     "user_tz": -180
    },
    "id": "YcZ9UM7o_s7F",
    "outputId": "6c262a36-3f8b-422d-f3c3-7ec71a7ceee2"
   },
   "outputs": [
    {
     "data": {
      "image/png": "[encoded data removed]",
      "text/plain": [
       "<Figure size 1600x600 with 1 Axes>"
      ]
     },
     "metadata": {},
     "output_type": "display_data"
    }
   ],
   "source": [
    "plt.figure(figsize=(16, 6))\n",
    "plt.bar(freq_rcmnd.index[:30], freq_rcmnd.values[:30]);"
   ]
  },
  {
   "cell_type": "markdown",
   "metadata": {
    "id": "HWo9Me_2AhmE"
   },
   "source": [
    "Из 943 пользователей примерно 100 из них (12 %) был рекомендован один и тот же фильм. Остальные фильмы по числу рекомендаций выделяются не так сильно. В целом я считаю распределение адекватным, так как есть фильмы на широкую аудиторию, пользующиеся большим спросом, а есть более специализированные фильмы."
   ]
  },
  {
   "cell_type": "markdown",
   "metadata": {
    "id": "BkzUyyVUpwjg"
   },
   "source": [
    "# Задание 4\n",
    "\n",
    "В оригинальных данных есть поле `timestamp` (см. момент загрузки данных).\n",
    "\n",
    "Используя оптимальный вариант модели (и её гиперпараметров), найденный выше, проведите кросс-валидацию в стиле временного ряда (см. [документацию sklearn](https://scikit-learn.org/stable/modules/cross_validation.html#time-series-split)). Достаточно использовать 5 частей. Иными словами, нужно раделить выборку на равные части, каждая из которых будет соответствовать последовательным временным промежуткам.\n",
    "\n",
    "![Time series validation split](https://scikit-learn.org/stable/_images/sphx_glr_plot_cv_indices_013.png)\n",
    "\n",
    "Нашли ли вы отличия с предыдущей валидацией?"
   ]
  },
  {
   "cell_type": "code",
   "execution_count": null,
   "metadata": {
    "id": "i7d_RhUiD-KU"
   },
   "outputs": [],
   "source": [
    "from sklearn.model_selection import TimeSeriesSplit\n",
    "from surprise import Dataset, Reader  # , Trainset"
   ]
  },
  {
   "cell_type": "code",
   "execution_count": null,
   "metadata": {
    "id": "UKPcNCgYGp-A"
   },
   "outputs": [],
   "source": [
    "def time_cross_validation(algo, df, cv=5):\n",
    "    df = df.sort_values(\"timestamp\")\n",
    "    tscv = TimeSeriesSplit(n_splits=cv)\n",
    "\n",
    "    columns = [\"Fold \" + str(i + 1) for i in range(cv)]\n",
    "    results = pd.DataFrame(index=[\"RMSE\", \"MAE\"], columns=columns)\n",
    "\n",
    "    fold = 0\n",
    "    for train_index, test_index in tscv.split(df):\n",
    "        fold += 1\n",
    "\n",
    "        df_train_split, df_test_split = df.iloc[train_index], df.iloc[test_index]\n",
    "        reader = Reader()\n",
    "        train_split = Dataset.load_from_df(\n",
    "            df_train_split[[\"userId\", \"movieId\", \"rating\"]], reader\n",
    "        )\n",
    "        train_split = train_split.build_full_trainset()\n",
    "\n",
    "        test_split = list(\n",
    "            zip(\n",
    "                df_test_split[\"userId\"].values,\n",
    "                df_test_split[\"movieId\"].values,\n",
    "                df_test_split[\"rating\"].values,\n",
    "            )\n",
    "        )\n",
    "\n",
    "        algo.fit(train_split)\n",
    "        predictions = algo.test(test_split)\n",
    "        results.loc[\"RMSE\", \"Fold \" + str(fold)] = accuracy.rmse(\n",
    "            predictions, verbose=False\n",
    "        )\n",
    "        results.loc[\"MAE\", \"Fold \" + str(fold)] = accuracy.mae(\n",
    "            predictions, verbose=False\n",
    "        )\n",
    "\n",
    "    results[\"Mean\"] = results[columns].mean(axis=1)\n",
    "    results[\"Std\"] = results[columns].std(axis=1)\n",
    "\n",
    "    print(results)"
   ]
  },
  {
   "cell_type": "markdown",
   "metadata": {
    "id": "pMNJf7uKV80I"
   },
   "source": [
    "Повторим результаты обычной кросс-валидации для удобства сравнения:"
   ]
  },
  {
   "cell_type": "code",
   "execution_count": null,
   "metadata": {
    "colab": {
     "base_uri": "https://localhost:8080/"
    },
    "executionInfo": {
     "elapsed": 21704,
     "status": "ok",
     "timestamp": 1729632085335,
     "user": {
      "displayName": "Владислав Наумов",
      "userId": "06177136265234660076"
     },
     "user_tz": -180
    },
    "id": "xxi1s-qUVbYt",
    "outputId": "036db856-73e4-4676-8577-cbc0af14d8c4"
   },
   "outputs": [
    {
     "name": "stdout",
     "output_type": "stream",
     "text": [
      "Evaluating RMSE, MAE of algorithm SVD on 5 split(s).\n",
      "\n",
      "                  Fold 1  Fold 2  Fold 3  Fold 4  Fold 5  Mean    Std     \n",
      "RMSE (testset)    0.9116  0.9126  0.9141  0.9059  0.9083  0.9105  0.0030  \n",
      "MAE (testset)     0.7211  0.7222  0.7216  0.7163  0.7158  0.7194  0.0028  \n",
      "Fit time          3.48    4.59    3.55    3.52    4.21    3.87    0.45    \n",
      "Test time         0.12    0.20    0.12    0.13    0.40    0.19    0.11    \n"
     ]
    }
   ],
   "source": [
    "algo = SVD(lr_all=0.01, n_epochs=50, reg_all=0.1, random_state=0)\n",
    "cross_validate(algo, data, measures=[\"RMSE\", \"MAE\"], cv=5, verbose=True);"
   ]
  },
  {
   "cell_type": "markdown",
   "metadata": {
    "id": "6qk4uIyZWHln"
   },
   "source": [
    "И проведем кросс-валидацию с временным разбиением фолдов:"
   ]
  },
  {
   "cell_type": "code",
   "execution_count": null,
   "metadata": {
    "colab": {
     "base_uri": "https://localhost:8080/"
    },
    "executionInfo": {
     "elapsed": 10127,
     "status": "ok",
     "timestamp": 1729632095447,
     "user": {
      "displayName": "Владислав Наумов",
      "userId": "06177136265234660076"
     },
     "user_tz": -180
    },
    "id": "hKv3GyqyGnxS",
    "outputId": "32ffe618-d181-438d-f513-61d976d83e1a"
   },
   "outputs": [
    {
     "name": "stdout",
     "output_type": "stream",
     "text": [
      "        Fold 1    Fold 2    Fold 3    Fold 4    Fold 5      Mean       Std\n",
      "RMSE  1.032233  0.994921  1.095933  1.033564   1.01256  1.033842  0.038163\n",
      "MAE   0.814844  0.794018  0.867123  0.823958  0.818793  0.823747  0.026782\n"
     ]
    }
   ],
   "source": [
    "algo = SVD(lr_all=0.01, n_epochs=50, reg_all=0.1, random_state=0)\n",
    "time_cross_validation(algo, df, cv=5)"
   ]
  },
  {
   "cell_type": "markdown",
   "metadata": {
    "id": "QQs2u2LGTrr2"
   },
   "source": [
    "Ошибка при TimeSeries-разбиении возросла по сравнению с обычным разбиением, результаты стали менее стабильными. При обычном разделении результат был лучше видимо из-за того, что модель мухлевала и заглядывала в будущее.\n",
    "\n",
    "При этом мы видим, что при TimeSeries-валидации с каждым новым фолдом качество не улучшается, ведь данных с каждой итерацией и становится больше."
   ]
  },
  {
   "cell_type": "code",
   "execution_count": null,
   "metadata": {
    "id": "GRvU50R_E7LS"
   },
   "outputs": [],
   "source": []
  }
 ],
 "metadata": {
  "colab": {
   "name": "",
   "version": ""
  },
  "kernelspec": {
   "display_name": "ml-course",
   "language": "python",
   "name": "ml-course"
  },
  "language_info": {
   "codemirror_mode": {
    "name": "ipython",
    "version": 3
   },
   "file_extension": ".py",
   "mimetype": "text/x-python",
   "name": "python",
   "nbconvert_exporter": "python",
   "pygments_lexer": "ipython3",
   "version": "3.11.7"
  },
  "toc": {
   "base_numbering": 1,
   "nav_menu": {},
   "number_sections": true,
   "sideBar": true,
   "skip_h1_title": false,
   "title_cell": "Table of Contents",
   "title_sidebar": "Contents",
   "toc_cell": false,
   "toc_position": {},
   "toc_section_display": true,
   "toc_window_display": true
  },
  "widgets": {
   "application/vnd.jupyter.widget-state+json": {
    "03dd72a653454ea68f243e4a6b0350f6": {
     "model_module": "@jupyter-widgets/controls",
     "model_module_version": "1.5.0",
     "model_name": "HBoxModel",
     "state": {
      "_dom_classes": [],
      "_model_module": "@jupyter-widgets/controls",
      "_model_module_version": "1.5.0",
      "_model_name": "HBoxModel",
      "_view_count": null,
      "_view_module": "@jupyter-widgets/controls",
      "_view_module_version": "1.5.0",
      "_view_name": "HBoxView",
      "box_style": "",
      "children": [
       "IPY_MODEL_b104b7bd80114364bd6203d42bac800d",
       "IPY_MODEL_49ff52021069467a9d1ef28ad15d6cec",
       "IPY_MODEL_53842638be1743009a8f1ae38c1a68bc"
      ],
      "layout": "IPY_MODEL_2b6cec37ae334756bb383f283ee88c3a"
     }
    },
    "2477ddc7ce544d9fb4516a02dd654286": {
     "model_module": "@jupyter-widgets/base",
     "model_module_version": "1.2.0",
     "model_name": "LayoutModel",
     "state": {
      "_model_module": "@jupyter-widgets/base",
      "_model_module_version": "1.2.0",
      "_model_name": "LayoutModel",
      "_view_count": null,
      "_view_module": "@jupyter-widgets/base",
      "_view_module_version": "1.2.0",
      "_view_name": "LayoutView",
      "align_content": null,
      "align_items": null,
      "align_self": null,
      "border": null,
      "bottom": null,
      "display": null,
      "flex": null,
      "flex_flow": null,
      "grid_area": null,
      "grid_auto_columns": null,
      "grid_auto_flow": null,
      "grid_auto_rows": null,
      "grid_column": null,
      "grid_gap": null,
      "grid_row": null,
      "grid_template_areas": null,
      "grid_template_columns": null,
      "grid_template_rows": null,
      "height": null,
      "justify_content": null,
      "justify_items": null,
      "left": null,
      "margin": null,
      "max_height": null,
      "max_width": null,
      "min_height": null,
      "min_width": null,
      "object_fit": null,
      "object_position": null,
      "order": null,
      "overflow": null,
      "overflow_x": null,
      "overflow_y": null,
      "padding": null,
      "right": null,
      "top": null,
      "visibility": null,
      "width": "20px"
     }
    },
    "2b6cec37ae334756bb383f283ee88c3a": {
     "model_module": "@jupyter-widgets/base",
     "model_module_version": "1.2.0",
     "model_name": "LayoutModel",
     "state": {
      "_model_module": "@jupyter-widgets/base",
      "_model_module_version": "1.2.0",
      "_model_name": "LayoutModel",
      "_view_count": null,
      "_view_module": "@jupyter-widgets/base",
      "_view_module_version": "1.2.0",
      "_view_name": "LayoutView",
      "align_content": null,
      "align_items": null,
      "align_self": null,
      "border": null,
      "bottom": null,
      "display": null,
      "flex": null,
      "flex_flow": null,
      "grid_area": null,
      "grid_auto_columns": null,
      "grid_auto_flow": null,
      "grid_auto_rows": null,
      "grid_column": null,
      "grid_gap": null,
      "grid_row": null,
      "grid_template_areas": null,
      "grid_template_columns": null,
      "grid_template_rows": null,
      "height": null,
      "justify_content": null,
      "justify_items": null,
      "left": null,
      "margin": null,
      "max_height": null,
      "max_width": null,
      "min_height": null,
      "min_width": null,
      "object_fit": null,
      "object_position": null,
      "order": null,
      "overflow": null,
      "overflow_x": null,
      "overflow_y": null,
      "padding": null,
      "right": null,
      "top": null,
      "visibility": null,
      "width": null
     }
    },
    "49ff52021069467a9d1ef28ad15d6cec": {
     "model_module": "@jupyter-widgets/controls",
     "model_module_version": "1.5.0",
     "model_name": "FloatProgressModel",
     "state": {
      "_dom_classes": [],
      "_model_module": "@jupyter-widgets/controls",
      "_model_module_version": "1.5.0",
      "_model_name": "FloatProgressModel",
      "_view_count": null,
      "_view_module": "@jupyter-widgets/controls",
      "_view_module_version": "1.5.0",
      "_view_name": "ProgressView",
      "bar_style": "success",
      "description": "",
      "description_tooltip": null,
      "layout": "IPY_MODEL_2477ddc7ce544d9fb4516a02dd654286",
      "max": 1,
      "min": 0,
      "orientation": "horizontal",
      "style": "IPY_MODEL_adb4b040cc4b4a5e9e9bcfdba6514abd",
      "value": 1
     }
    },
    "53842638be1743009a8f1ae38c1a68bc": {
     "model_module": "@jupyter-widgets/controls",
     "model_module_version": "1.5.0",
     "model_name": "HTMLModel",
     "state": {
      "_dom_classes": [],
      "_model_module": "@jupyter-widgets/controls",
      "_model_module_version": "1.5.0",
      "_model_name": "HTMLModel",
      "_view_count": null,
      "_view_module": "@jupyter-widgets/controls",
      "_view_module_version": "1.5.0",
      "_view_name": "HTMLView",
      "description": "",
      "description_tooltip": null,
      "layout": "IPY_MODEL_c598c8b7309b4223b345685ff31eb5b2",
      "placeholder": "​",
      "style": "IPY_MODEL_67bff04709384373a9cfb89e219c4687",
      "value": " 2.61M/? [00:00&lt;00:00, 1.90MB/s]"
     }
    },
    "67bff04709384373a9cfb89e219c4687": {
     "model_module": "@jupyter-widgets/controls",
     "model_module_version": "1.5.0",
     "model_name": "DescriptionStyleModel",
     "state": {
      "_model_module": "@jupyter-widgets/controls",
      "_model_module_version": "1.5.0",
      "_model_name": "DescriptionStyleModel",
      "_view_count": null,
      "_view_module": "@jupyter-widgets/base",
      "_view_module_version": "1.2.0",
      "_view_name": "StyleView",
      "description_width": ""
     }
    },
    "69d8b125d7e847c98ddf6e7972afb35f": {
     "model_module": "@jupyter-widgets/controls",
     "model_module_version": "1.5.0",
     "model_name": "DescriptionStyleModel",
     "state": {
      "_model_module": "@jupyter-widgets/controls",
      "_model_module_version": "1.5.0",
      "_model_name": "DescriptionStyleModel",
      "_view_count": null,
      "_view_module": "@jupyter-widgets/base",
      "_view_module_version": "1.2.0",
      "_view_name": "StyleView",
      "description_width": ""
     }
    },
    "adb4b040cc4b4a5e9e9bcfdba6514abd": {
     "model_module": "@jupyter-widgets/controls",
     "model_module_version": "1.5.0",
     "model_name": "ProgressStyleModel",
     "state": {
      "_model_module": "@jupyter-widgets/controls",
      "_model_module_version": "1.5.0",
      "_model_name": "ProgressStyleModel",
      "_view_count": null,
      "_view_module": "@jupyter-widgets/base",
      "_view_module_version": "1.2.0",
      "_view_name": "StyleView",
      "bar_color": null,
      "description_width": ""
     }
    },
    "b104b7bd80114364bd6203d42bac800d": {
     "model_module": "@jupyter-widgets/controls",
     "model_module_version": "1.5.0",
     "model_name": "HTMLModel",
     "state": {
      "_dom_classes": [],
      "_model_module": "@jupyter-widgets/controls",
      "_model_module_version": "1.5.0",
      "_model_name": "HTMLModel",
      "_view_count": null,
      "_view_module": "@jupyter-widgets/controls",
      "_view_module_version": "1.5.0",
      "_view_name": "HTMLView",
      "description": "",
      "description_tooltip": null,
      "layout": "IPY_MODEL_f87a8d8d5df84bf8930f9eb85ac0579e",
      "placeholder": "​",
      "style": "IPY_MODEL_69d8b125d7e847c98ddf6e7972afb35f",
      "value": ""
     }
    },
    "c598c8b7309b4223b345685ff31eb5b2": {
     "model_module": "@jupyter-widgets/base",
     "model_module_version": "1.2.0",
     "model_name": "LayoutModel",
     "state": {
      "_model_module": "@jupyter-widgets/base",
      "_model_module_version": "1.2.0",
      "_model_name": "LayoutModel",
      "_view_count": null,
      "_view_module": "@jupyter-widgets/base",
      "_view_module_version": "1.2.0",
      "_view_name": "LayoutView",
      "align_content": null,
      "align_items": null,
      "align_self": null,
      "border": null,
      "bottom": null,
      "display": null,
      "flex": null,
      "flex_flow": null,
      "grid_area": null,
      "grid_auto_columns": null,
      "grid_auto_flow": null,
      "grid_auto_rows": null,
      "grid_column": null,
      "grid_gap": null,
      "grid_row": null,
      "grid_template_areas": null,
      "grid_template_columns": null,
      "grid_template_rows": null,
      "height": null,
      "justify_content": null,
      "justify_items": null,
      "left": null,
      "margin": null,
      "max_height": null,
      "max_width": null,
      "min_height": null,
      "min_width": null,
      "object_fit": null,
      "object_position": null,
      "order": null,
      "overflow": null,
      "overflow_x": null,
      "overflow_y": null,
      "padding": null,
      "right": null,
      "top": null,
      "visibility": null,
      "width": null
     }
    },
    "f87a8d8d5df84bf8930f9eb85ac0579e": {
     "model_module": "@jupyter-widgets/base",
     "model_module_version": "1.2.0",
     "model_name": "LayoutModel",
     "state": {
      "_model_module": "@jupyter-widgets/base",
      "_model_module_version": "1.2.0",
      "_model_name": "LayoutModel",
      "_view_count": null,
      "_view_module": "@jupyter-widgets/base",
      "_view_module_version": "1.2.0",
      "_view_name": "LayoutView",
      "align_content": null,
      "align_items": null,
      "align_self": null,
      "border": null,
      "bottom": null,
      "display": null,
      "flex": null,
      "flex_flow": null,
      "grid_area": null,
      "grid_auto_columns": null,
      "grid_auto_flow": null,
      "grid_auto_rows": null,
      "grid_column": null,
      "grid_gap": null,
      "grid_row": null,
      "grid_template_areas": null,
      "grid_template_columns": null,
      "grid_template_rows": null,
      "height": null,
      "justify_content": null,
      "justify_items": null,
      "left": null,
      "margin": null,
      "max_height": null,
      "max_width": null,
      "min_height": null,
      "min_width": null,
      "object_fit": null,
      "object_position": null,
      "order": null,
      "overflow": null,
      "overflow_x": null,
      "overflow_y": null,
      "padding": null,
      "right": null,
      "top": null,
      "visibility": null,
      "width": null
     }
    }
   }
  }
 },
 "nbformat": 4,
 "nbformat_minor": 0
}