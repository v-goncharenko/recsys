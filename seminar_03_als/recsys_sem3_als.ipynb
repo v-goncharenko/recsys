{
 "cells": [
  {
   "cell_type": "markdown",
   "metadata": {},
   "source": [
    "## Seminar 2: ALS"
   ]
  },
  {
   "cell_type": "code",
   "execution_count": 1,
   "metadata": {},
   "outputs": [],
   "source": [
    "import os\n",
    "from tqdm import tqdm\n",
    "from typing import Tuple, List\n",
    "import time\n",
    "\n",
    "import numpy as np\n",
    "import pandas as pd\n",
    "import matplotlib.pyplot as plt\n",
    "import seaborn as sns\n",
    "from sklearn.preprocessing import LabelEncoder\n",
    "import scipy.sparse as sp\n",
    "from scipy.sparse import csr_matrix\n",
    "from implicit.als import AlternatingLeastSquares\n",
    "from implicit.evaluation import mean_average_precision_at_k"
   ]
  },
  {
   "cell_type": "markdown",
   "metadata": {},
   "source": [
    "### 1. Download dataset"
   ]
  },
  {
   "cell_type": "markdown",
   "metadata": {},
   "source": [
    "The data used in this seminar can be donwloaded from\n",
    "\n",
    "https://www.kaggle.com/datasets/netflix-inc/netflix-prize-data"
   ]
  },
  {
   "cell_type": "markdown",
   "metadata": {},
   "source": [
    "We will use Netflix Prize Dataset, which consists movies and user ratings."
   ]
  },
  {
   "cell_type": "code",
   "execution_count": 2,
   "metadata": {},
   "outputs": [],
   "source": [
    "if not os.path.isfile('netflix_data.csv'):\n",
    "    data = open('netflix_data.csv', mode='w')\n",
    "    \n",
    "    row = list()\n",
    "    files=['archive/combined_data_1.txt',\n",
    "           'archive/combined_data_2.txt', \n",
    "           'archive/combined_data_3.txt', \n",
    "           'archive/combined_data_4.txt']\n",
    "    for file in files:\n",
    "        print(\"Reading ratings from {}...\".format(file))\n",
    "        with open(file) as f:\n",
    "            for line in f: \n",
    "                del row[:]\n",
    "                line = line.strip()\n",
    "                if line.endswith(':'):\n",
    "                    movie_id = line.replace(':', '')\n",
    "                else:\n",
    "                    row = [x for x in line.split(',')]\n",
    "                    row.insert(0, movie_id)\n",
    "                    data.write(','.join(row))\n",
    "                    data.write('\\n')\n",
    "        print(\"Done.\\n\")\n",
    "    data.close()"
   ]
  },
  {
   "cell_type": "code",
   "execution_count": 3,
   "metadata": {},
   "outputs": [
    {
     "name": "stdout",
     "output_type": "stream",
     "text": [
      "Creating the dataframe from netflix_data.csv file..\n",
      "Done.\n",
      "\n"
     ]
    }
   ],
   "source": [
    "print(\"Creating the dataframe from netflix_data.csv file..\")\n",
    "ratings = pd.read_csv(\n",
    "    'netflix_data.csv', \n",
    "    sep=',', \n",
    "    names=['movie_id', 'user','rating','date']\n",
    ")\n",
    "ratings.date = pd.to_datetime(ratings.date)\n",
    "print('Done.\\n')\n",
    "\n",
    "# # we are arranging the ratings according to time.\n",
    "# print('Sorting the dataframe by date..')\n",
    "# df_.sort_values(by='date', inplace=True)\n",
    "# print('Done..')"
   ]
  },
  {
   "cell_type": "code",
   "execution_count": 4,
   "metadata": {},
   "outputs": [],
   "source": [
    "ratings = ratings.sample(100_000)"
   ]
  },
  {
   "cell_type": "code",
   "execution_count": 5,
   "metadata": {},
   "outputs": [
    {
     "data": {
      "text/html": [
       "<div>\n",
       "<style scoped>\n",
       "    .dataframe tbody tr th:only-of-type {\n",
       "        vertical-align: middle;\n",
       "    }\n",
       "\n",
       "    .dataframe tbody tr th {\n",
       "        vertical-align: top;\n",
       "    }\n",
       "\n",
       "    .dataframe thead th {\n",
       "        text-align: right;\n",
       "    }\n",
       "</style>\n",
       "<table border=\"1\" class=\"dataframe\">\n",
       "  <thead>\n",
       "    <tr style=\"text-align: right;\">\n",
       "      <th></th>\n",
       "      <th>movie_id</th>\n",
       "      <th>user</th>\n",
       "      <th>rating</th>\n",
       "      <th>date</th>\n",
       "    </tr>\n",
       "  </thead>\n",
       "  <tbody>\n",
       "    <tr>\n",
       "      <th>12061478</th>\n",
       "      <td>2342</td>\n",
       "      <td>2529547</td>\n",
       "      <td>4</td>\n",
       "      <td>2005-01-10</td>\n",
       "    </tr>\n",
       "    <tr>\n",
       "      <th>58094814</th>\n",
       "      <td>10625</td>\n",
       "      <td>830739</td>\n",
       "      <td>4</td>\n",
       "      <td>2005-12-27</td>\n",
       "    </tr>\n",
       "    <tr>\n",
       "      <th>24317539</th>\n",
       "      <td>4570</td>\n",
       "      <td>1428883</td>\n",
       "      <td>3</td>\n",
       "      <td>2005-02-28</td>\n",
       "    </tr>\n",
       "    <tr>\n",
       "      <th>54150088</th>\n",
       "      <td>9863</td>\n",
       "      <td>194511</td>\n",
       "      <td>3</td>\n",
       "      <td>2005-06-25</td>\n",
       "    </tr>\n",
       "    <tr>\n",
       "      <th>83466039</th>\n",
       "      <td>14909</td>\n",
       "      <td>654455</td>\n",
       "      <td>3</td>\n",
       "      <td>2005-03-11</td>\n",
       "    </tr>\n",
       "  </tbody>\n",
       "</table>\n",
       "</div>"
      ],
      "text/plain": [
       "          movie_id     user  rating       date\n",
       "12061478      2342  2529547       4 2005-01-10\n",
       "58094814     10625   830739       4 2005-12-27\n",
       "24317539      4570  1428883       3 2005-02-28\n",
       "54150088      9863   194511       3 2005-06-25\n",
       "83466039     14909   654455       3 2005-03-11"
      ]
     },
     "execution_count": 5,
     "metadata": {},
     "output_type": "execute_result"
    }
   ],
   "source": [
    "ratings.head()"
   ]
  },
  {
   "cell_type": "code",
   "execution_count": 6,
   "metadata": {},
   "outputs": [],
   "source": [
    "def ids_encoder(ratings):\n",
    "    users = sorted(ratings['user'].unique())\n",
    "    items = sorted(ratings['movie_id'].unique())\n",
    "\n",
    "    # create users and items encoders\n",
    "    uencoder = LabelEncoder()\n",
    "    iencoder = LabelEncoder()\n",
    "\n",
    "    # fit users and items ids to the corresponding encoder\n",
    "    uencoder.fit(users)\n",
    "    iencoder.fit(items)\n",
    "\n",
    "    # encode userids and itemids\n",
    "    ratings.user = uencoder.transform(ratings.user.tolist())\n",
    "    ratings.movie_id = iencoder.transform(ratings.movie_id.tolist())\n",
    "\n",
    "    return ratings, uencoder, iencoder\n",
    "\n",
    "ratings_, uencoder, iencoder = ids_encoder(ratings)"
   ]
  },
  {
   "cell_type": "markdown",
   "metadata": {},
   "source": [
    "### 2. EDA"
   ]
  },
  {
   "cell_type": "code",
   "execution_count": 7,
   "metadata": {},
   "outputs": [
    {
     "data": {
      "image/png": "[encoded data removed]",
      "text/plain": [
       "<Figure size 640x480 with 1 Axes>"
      ]
     },
     "metadata": {},
     "output_type": "display_data"
    }
   ],
   "source": [
    "ratings_cnt = ratings.groupby('rating')['user'].count().rename('cnt_users').reset_index()\n",
    "plt.barh(ratings_cnt.rating, ratings_cnt.cnt_users, color='royalblue')\n",
    "plt.title('Overall Count of Ratings', fontsize=10)\n",
    "plt.xlabel('Count', fontsize=10)\n",
    "plt.ylabel('Rating', fontsize=10)\n",
    "plt.grid()\n",
    "plt.show()"
   ]
  },
  {
   "cell_type": "code",
   "execution_count": 8,
   "metadata": {},
   "outputs": [
    {
     "name": "stdout",
     "output_type": "stream",
     "text": [
      "count    9214.00\n",
      "mean       10.85\n",
      "std        22.28\n",
      "min         1.00\n",
      "25%         1.00\n",
      "50%         3.00\n",
      "75%         9.00\n",
      "max       224.00\n",
      "Name: rating, dtype: object\n"
     ]
    }
   ],
   "source": [
    "ratings_per_movie = ratings.groupby(by='movie_id')['rating'].count().sort_values(ascending=False)\n",
    "print(ratings_per_movie.describe().apply('{0:.2f}'.format))"
   ]
  },
  {
   "cell_type": "code",
   "execution_count": 9,
   "metadata": {},
   "outputs": [
    {
     "name": "stdout",
     "output_type": "stream",
     "text": [
      "count    9214.00\n",
      "mean        3.41\n",
      "std         0.91\n",
      "min         1.00\n",
      "25%         3.00\n",
      "50%         3.50\n",
      "75%         4.00\n",
      "max         5.00\n",
      "Name: rating, dtype: object\n"
     ]
    }
   ],
   "source": [
    "avg_ratings_per_movie = ratings.groupby(by='movie_id')['rating'].mean().sort_values(ascending=False)\n",
    "print(avg_ratings_per_movie.describe().apply('{0:.2f}'.format))"
   ]
  },
  {
   "cell_type": "code",
   "execution_count": 10,
   "metadata": {},
   "outputs": [
    {
     "data": {
      "image/png": "[encoded data removed]",
      "text/plain": [
       "<Figure size 1000x600 with 1 Axes>"
      ]
     },
     "metadata": {},
     "output_type": "display_data"
    }
   ],
   "source": [
    "user_item_counts = ratings.groupby('user')['movie_id'].count().values\n",
    "\n",
    "# Plot the histogram\n",
    "plt.figure(figsize=(10, 6))\n",
    "ax = sns.histplot(user_item_counts, bins=50, kde=True);\n",
    "ax.set(xlabel=\"Number of items\", ylabel=\"Number of users\", title='User-item interactions count')\n",
    "ax.grid()"
   ]
  },
  {
   "cell_type": "markdown",
   "metadata": {},
   "source": [
    "### 3. ALS from scratch"
   ]
  },
  {
   "cell_type": "markdown",
   "metadata": {},
   "source": [
    "Firstly, we prepare data and convert train matrix to `scipy` sparse matrix."
   ]
  },
  {
   "cell_type": "code",
   "execution_count": 11,
   "metadata": {},
   "outputs": [],
   "source": [
    "def split_data(ratings: pd.DataFrame) -> Tuple[sp._csr.csr_matrix, List[Tuple[float, float, float]]]:\n",
    "    \"\"\"Splitting dataset into train and test\n",
    "\n",
    "    Args:\n",
    "        ratings (pd.DataFrame): The ratings data\n",
    "\n",
    "    Returns:\n",
    "        Tuple[sp._csr.csr_matrix, List[Tuple[float, float, float]]]: The train and test datasets\n",
    "    \"\"\"\n",
    "    user_item_matrix = ratings.pivot(index='user', columns='movie_id', values='rating').fillna(0)\n",
    "\n",
    "    # Convert to sparse matrix\n",
    "    ratings_csr = csr_matrix(user_item_matrix.values)\n",
    "\n",
    "    # Select 20% of users randomly\n",
    "    np.random.seed(42)\n",
    "    unique_users = ratings['user'].unique()\n",
    "    test_users = np.random.choice(unique_users, size=int(0.2 * len(unique_users)), replace=False)\n",
    "\n",
    "    # Prepare train and test data\n",
    "    train_data = ratings_csr.copy().toarray()\n",
    "    test_data = []\n",
    "\n",
    "    for user in test_users:\n",
    "        user_index = np.where(unique_users == user)[0][0]\n",
    "        user_ratings = np.where(train_data[user_index] > 0)[0]\n",
    "        if len(user_ratings) > 0:\n",
    "            test_item = np.random.choice(user_ratings)\n",
    "            test_data.append((user_index, test_item, train_data[user_index, test_item]))\n",
    "            train_data[user_index, test_item] = 0  # Remove one rating\n",
    "    \n",
    "    train_data = csr_matrix(train_data)\n",
    "\n",
    "    return train_data, test_data"
   ]
  },
  {
   "cell_type": "code",
   "execution_count": 12,
   "metadata": {},
   "outputs": [],
   "source": [
    "train_data, test_data = split_data(ratings)"
   ]
  },
  {
   "cell_type": "markdown",
   "metadata": {},
   "source": [
    "Formula for ALS:\n",
    "$$\\arg\\min_{x_i}\\sum_{i,j}(A_{ij}-x_i^Ty_j)^2 + \\lambda\\sum_i|x_i|^2+ \\lambda\\sum_i|y_i|^2 = \\bigg(\\sum_{j}y_iy_i^T+\\lambda I \\bigg)^{-1}\\bigg (\\sum_j A_{ij}y_j \\bigg )$$"
   ]
  },
  {
   "cell_type": "code",
   "execution_count": 13,
   "metadata": {},
   "outputs": [],
   "source": [
    "class ALS:\n",
    "    \"\"\"\n",
    "    A class to provide item2item recommendations for user.\n",
    "    Attributes:\n",
    "        train_data (sp._csr.csr_matrix): The training dataset\n",
    "        test_data (pd.Dataframe): The test dataset\n",
    "    \"\"\"\n",
    "\n",
    "    def __init__(self, train_data, test_data):\n",
    "        self.train_data = train_data\n",
    "\n",
    "    def calc_opposite_vectors(self, Y: np.ndarray, A: np.ndarray, k: int, lam: int) -> np.ndarray:\n",
    "        \"\"\"\n",
    "        Method to calculate opposite vectors\n",
    "\n",
    "        Args:\n",
    "            Y (np.ndarray): The matrix of embeddings for the opposite factor \n",
    "            (e.g., item embeddings if solving for user embeddings)\n",
    "            A (np.ndarray): The ratings matrix, where rows correspond to users (or items)\n",
    "            and columns correspond to items (or users)\n",
    "            k (int): Dimension of output embeddings\n",
    "            lam (np.ndarray): Regularization coefficient\n",
    "\n",
    "        Returns:\n",
    "            np.ndarray: The updated matrix of embeddings for users (or items)\n",
    "        \"\"\"\n",
    "        B = Y.T.dot(Y) + lam * np.eye(k)\n",
    "        C = A.dot(Y)\n",
    "        out = np.linalg.inv(B).dot(C.T).T\n",
    "        return out\n",
    "\n",
    "    def train(self, k: int, lam: float, iterations: int = 15) -> Tuple[np.ndarray, np.ndarray, List[float]]:\n",
    "        '''Alternating Least Squares algorithm\n",
    "\n",
    "        Args:\n",
    "            ratings: sparse matrix of ratings\n",
    "            k: size of embeddings\n",
    "            lam: regularization term\n",
    "            iterations: number of iterations\n",
    "\n",
    "        Returns:\n",
    "            Tuple[np.ndarray, np.ndarray, List[float]]: user embeddings, item embeddings and loss values\n",
    "        '''\n",
    "        num_users, num_items = self.train_data.shape\n",
    "        X = np.random.randn(num_users, k)\n",
    "        Y = np.random.randn(num_items, k)\n",
    "\n",
    "        loss_values = []\n",
    "\n",
    "        start = time.time()\n",
    "        for i in range(iterations):\n",
    "            X = self.calc_opposite_vectors(Y, self.train_data.toarray(), k, lam)\n",
    "\n",
    "            Y = self.calc_opposite_vectors(X, self.train_data.toarray().T, k, lam)\n",
    "\n",
    "            predictions = X.dot(Y.T)\n",
    "            mse = np.mean((self.train_data.toarray() - predictions) ** 2)\n",
    "            loss_values.append(mse)\n",
    "\n",
    "            print(f\"Iteration {i+1}/{iterations}, MSE: {mse}\")\n",
    "        \n",
    "        end = time.time()\n",
    "        print(f\"Self-implemented ALS training took {end - start} sec\")\n",
    "        \n",
    "        return X, Y, loss_values"
   ]
  },
  {
   "cell_type": "code",
   "execution_count": 14,
   "metadata": {},
   "outputs": [],
   "source": [
    "als = ALS(train_data, test_data)"
   ]
  },
  {
   "cell_type": "code",
   "execution_count": 15,
   "metadata": {},
   "outputs": [
    {
     "name": "stdout",
     "output_type": "stream",
     "text": [
      "Iteration 1/15, MSE: 0.0016712199678235997\n",
      "Iteration 2/15, MSE: 0.0016505871512596303\n",
      "Iteration 3/15, MSE: 0.0016455441613858796\n",
      "Iteration 4/15, MSE: 0.0016426154768287512\n",
      "Iteration 5/15, MSE: 0.001640725133660669\n",
      "Iteration 6/15, MSE: 0.001639474243052288\n",
      "Iteration 7/15, MSE: 0.0016386250025037415\n",
      "Iteration 8/15, MSE: 0.0016380296923398086\n",
      "Iteration 9/15, MSE: 0.0016376014961656015\n",
      "Iteration 10/15, MSE: 0.0016372892584976702\n",
      "Iteration 11/15, MSE: 0.001637060702712408\n",
      "Iteration 12/15, MSE: 0.0016368935120406383\n",
      "Iteration 13/15, MSE: 0.0016367712346538124\n",
      "Iteration 14/15, MSE: 0.0016366815074332476\n",
      "Iteration 15/15, MSE: 0.0016366151401143922\n",
      "Self-implemented ALS training took 143.72940731048584 sec\n"
     ]
    }
   ],
   "source": [
    "k = 10\n",
    "lam = 0.1\n",
    "iterations = 15\n",
    "\n",
    "user_embeddings, item_embeddings, loss_values = als.train(k, lam, iterations)"
   ]
  },
  {
   "cell_type": "code",
   "execution_count": 16,
   "metadata": {},
   "outputs": [
    {
     "data": {
      "image/png": "[encoded data removed]",
      "text/plain": [
       "<Figure size 640x480 with 1 Axes>"
      ]
     },
     "metadata": {},
     "output_type": "display_data"
    }
   ],
   "source": [
    "plt.plot(loss_values)\n",
    "plt.title(\"MSE\")\n",
    "plt.xlabel(\"iter\")\n",
    "plt.ylabel(\"value\")\n",
    "plt.grid()"
   ]
  },
  {
   "cell_type": "code",
   "execution_count": 17,
   "metadata": {},
   "outputs": [
    {
     "name": "stdout",
     "output_type": "stream",
     "text": [
      "Test MSE: 14.306747170062334\n"
     ]
    }
   ],
   "source": [
    "test_predictions = []\n",
    "\n",
    "for user_index, item_index, true_rating in test_data:\n",
    "    predicted_rating = np.dot(user_embeddings[user_index], item_embeddings[item_index])\n",
    "    test_predictions.append((user_index, item_index, true_rating, predicted_rating))\n",
    "\n",
    "# Example evaluation: Mean Squared Error (MSE)\n",
    "mse = np.mean([(true - pred) ** 2 for (_, _, true, pred) in test_predictions])\n",
    "print(f\"Test MSE: {mse}\")"
   ]
  },
  {
   "cell_type": "code",
   "execution_count": 18,
   "metadata": {},
   "outputs": [],
   "source": [
    "scores = np.dot(user_embeddings, item_embeddings.T)"
   ]
  },
  {
   "cell_type": "markdown",
   "metadata": {},
   "source": [
    "Let's look at shapes of matrices:"
   ]
  },
  {
   "cell_type": "code",
   "execution_count": 19,
   "metadata": {},
   "outputs": [
    {
     "data": {
      "text/plain": [
       "((77398, 9214), (77398, 10), (9214, 10))"
      ]
     },
     "execution_count": 19,
     "metadata": {},
     "output_type": "execute_result"
    }
   ],
   "source": [
    "scores.shape, user_embeddings.shape, item_embeddings.shape"
   ]
  },
  {
   "cell_type": "markdown",
   "metadata": {},
   "source": [
    "Let's calculate **MRR@k** (Mean Reciprocal Rank) for result evaluation. The formula for it:\n",
    "\n",
    "$$ MRR = \\frac{1}{N}\\sum_{i=1}^{N} \\frac{1}{{rank}_i}, $$\n",
    "\n",
    "where $\\text{rank}_i$ refers to the rank position of the first relevant document for the i-th user."
   ]
  },
  {
   "cell_type": "code",
   "execution_count": 20,
   "metadata": {},
   "outputs": [],
   "source": [
    "def mrr_at_k(predictions: np.ndarray, ground_truth: List[Tuple[int, int]], k: int =10):\n",
    "    \"\"\"Calculate Mean Reciprocal Rank at K (MRR@K)\"\"\"\n",
    "    mrr = 0.0\n",
    "    for user_index, true_item in ground_truth:\n",
    "        top_k_items = predictions[user_index][:k]\n",
    "\n",
    "        if true_item in top_k_items:\n",
    "            rank = np.where(top_k_items == true_item)[0][0] + 1\n",
    "            mrr += 1.0 / rank\n",
    "\n",
    "    mrr /= len(ground_truth)\n",
    "    return mrr"
   ]
  },
  {
   "cell_type": "markdown",
   "metadata": {},
   "source": [
    "Also, we need method to calculate top-k recommendations:"
   ]
  },
  {
   "cell_type": "code",
   "execution_count": 21,
   "metadata": {},
   "outputs": [],
   "source": [
    "def get_top_k_recommendations(user_embeddings: np.ndarray, item_embedding: np.ndarray, k: int = 10):\n",
    "    \"\"\"Get top-k recommendations for users\"\"\"\n",
    "    scores = np.dot(user_embeddings, item_embeddings.T)\n",
    "    top_k_items = np.argsort(scores, axis=1)[:, ::-1][:, :k]\n",
    "    top_k_scores = np.take_along_axis(scores, top_k_items, axis=1)\n",
    "    return top_k_items, top_k_scores\n",
    "\n",
    "top_10_recommendations, top_10_scores = get_top_k_recommendations(user_embeddings, item_embeddings, k=10)"
   ]
  },
  {
   "cell_type": "code",
   "execution_count": 22,
   "metadata": {},
   "outputs": [
    {
     "name": "stdout",
     "output_type": "stream",
     "text": [
      "MRR@10 for self realization: 0.0007965220672759916\n"
     ]
    }
   ],
   "source": [
    "ground_truth = [(user_index, item_index) for user_index, item_index, _ in test_data]\n",
    "mrr_10 = mrr_at_k(top_10_recommendations, ground_truth)\n",
    "print(f\"MRR@10 for self realization: {mrr_10}\")"
   ]
  },
  {
   "cell_type": "markdown",
   "metadata": {},
   "source": [
    "### 4. ALS from `implicit` library"
   ]
  },
  {
   "cell_type": "markdown",
   "metadata": {},
   "source": [
    "Then, we use already implemented solution for ALS from `implicit` package and after that compare results with self-implemented alghorithm:"
   ]
  },
  {
   "cell_type": "code",
   "execution_count": 23,
   "metadata": {},
   "outputs": [
    {
     "name": "stderr",
     "output_type": "stream",
     "text": [
      "/Users/naumov-vladis/miniconda3/envs/venv/lib/python3.9/site-packages/implicit/cpu/als.py:95: RuntimeWarning: OpenBLAS is configured to use 12 threads. It is highly recommended to disable its internal threadpool by setting the environment variable 'OPENBLAS_NUM_THREADS=1' or by calling 'threadpoolctl.threadpool_limits(1, \"blas\")'. Having OpenBLAS use a threadpool can lead to severe performance issues here.\n",
      "  check_blas_config()\n"
     ]
    },
    {
     "data": {
      "application/vnd.jupyter.widget-view+json": {
       "model_id": "19b0d8239ea34fe38245a6aa4a6a2735",
       "version_major": 2,
       "version_minor": 0
      },
      "text/plain": [
       "  0%|          | 0/15 [00:00<?, ?it/s]"
      ]
     },
     "metadata": {},
     "output_type": "display_data"
    },
    {
     "name": "stdout",
     "output_type": "stream",
     "text": [
      "Package implentations of ALS training took 3.0873749256134033 sec\n"
     ]
    }
   ],
   "source": [
    "model = AlternatingLeastSquares(factors=10, regularization=0.1, iterations=15)\n",
    "start = time.time()\n",
    "model.fit(train_data, show_progress=True)\n",
    "end = time.time()\n",
    "print(f\"Package implentations of ALS training took {end - start} sec\")"
   ]
  },
  {
   "cell_type": "code",
   "execution_count": 24,
   "metadata": {},
   "outputs": [],
   "source": [
    "user_factors = model.user_factors\n",
    "item_factors = model.item_factors"
   ]
  },
  {
   "cell_type": "code",
   "execution_count": 25,
   "metadata": {},
   "outputs": [
    {
     "name": "stdout",
     "output_type": "stream",
     "text": [
      "Test MSE: 14.304307842473168\n"
     ]
    }
   ],
   "source": [
    "test_predictions = []\n",
    "\n",
    "for user_index, item_index, true_rating in test_data:\n",
    "    predicted_rating = np.dot(user_factors[user_index], item_factors[item_index])\n",
    "    test_predictions.append((user_index, item_index, true_rating, predicted_rating))\n",
    "\n",
    "mse = np.mean([(true - pred) ** 2 for (_, _, true, pred) in test_predictions])\n",
    "print(f\"Test MSE: {mse}\")"
   ]
  },
  {
   "cell_type": "code",
   "execution_count": 26,
   "metadata": {},
   "outputs": [],
   "source": [
    "def get_top_k_recommendations_implicit(model, train_data, k=10):\n",
    "    \"\"\"Get top-k recommendations for users with implicit library\"\"\"\n",
    "    user_factors = model.user_factors\n",
    "    item_factors = model.item_factors\n",
    "    scores = np.dot(user_factors, item_factors.T)\n",
    "    scores[train_data.nonzero()] = -np.inf  # Exclude already interacted items\n",
    "    top_k_items = np.argsort(scores, axis=1)[:, -k:][:, ::-1]\n",
    "    top_k_scores = np.take_along_axis(scores, top_k_items, axis=1)\n",
    "    return top_k_items, top_k_scores\n",
    "\n",
    "top_10_recommendations_implicit, top_10_scores_implicit = get_top_k_recommendations_implicit(model, train_data, k=10)"
   ]
  },
  {
   "cell_type": "code",
   "execution_count": 27,
   "metadata": {},
   "outputs": [
    {
     "name": "stdout",
     "output_type": "stream",
     "text": [
      "MRR@10 for `implicit` realization: 0.0008330026241390022\n"
     ]
    }
   ],
   "source": [
    "mrr_10_implicit= mrr_at_k(top_10_recommendations_implicit, ground_truth, k=10)\n",
    "print(f\"MRR@10 for `implicit` realization: {mrr_10_implicit}\")"
   ]
  },
  {
   "cell_type": "markdown",
   "metadata": {},
   "source": [
    "Finally, let's give a look at final film recommendations:"
   ]
  },
  {
   "cell_type": "code",
   "execution_count": 28,
   "metadata": {},
   "outputs": [],
   "source": [
    "movies = pd.read_csv(\n",
    "    \"archive/movie_titles.csv\", \n",
    "    names=[\"movie_id\", \"year\", \"movie_name\"],\n",
    "    encoding=\"utf-8\", \n",
    "    sep=\",\", \n",
    "    on_bad_lines=\"skip\",\n",
    ")"
   ]
  },
  {
   "cell_type": "markdown",
   "metadata": {},
   "source": [
    "Get first user and compare recommendations for him:"
   ]
  },
  {
   "cell_type": "code",
   "execution_count": 29,
   "metadata": {},
   "outputs": [],
   "source": [
    "user_recoms = pd.DataFrame(\n",
    "    list(zip(top_10_recommendations[0], top_10_scores[0])),\n",
    "    columns=[\"movie_id\", \"pred_rating\"]\n",
    ")\n",
    "user_recoms_implicit = pd.DataFrame(\n",
    "    list(zip(top_10_recommendations_implicit[0], top_10_scores_implicit[0])),\n",
    "    columns=[\"movie_id\", \"pred_rating\"]\n",
    ")"
   ]
  },
  {
   "cell_type": "code",
   "execution_count": 30,
   "metadata": {},
   "outputs": [
    {
     "data": {
      "text/html": [
       "<div>\n",
       "<style scoped>\n",
       "    .dataframe tbody tr th:only-of-type {\n",
       "        vertical-align: middle;\n",
       "    }\n",
       "\n",
       "    .dataframe tbody tr th {\n",
       "        vertical-align: top;\n",
       "    }\n",
       "\n",
       "    .dataframe thead th {\n",
       "        text-align: right;\n",
       "    }\n",
       "</style>\n",
       "<table border=\"1\" class=\"dataframe\">\n",
       "  <thead>\n",
       "    <tr style=\"text-align: right;\">\n",
       "      <th></th>\n",
       "      <th>movie_id</th>\n",
       "      <th>pred_rating</th>\n",
       "      <th>year</th>\n",
       "      <th>movie_name</th>\n",
       "    </tr>\n",
       "  </thead>\n",
       "  <tbody>\n",
       "    <tr>\n",
       "      <th>0</th>\n",
       "      <td>7529</td>\n",
       "      <td>3.444986e-31</td>\n",
       "      <td>1994.0</td>\n",
       "      <td>Sharpe 3: Sharpe's Company</td>\n",
       "    </tr>\n",
       "    <tr>\n",
       "      <th>1</th>\n",
       "      <td>1265</td>\n",
       "      <td>2.435352e-31</td>\n",
       "      <td>1971.0</td>\n",
       "      <td>Women in Cages</td>\n",
       "    </tr>\n",
       "    <tr>\n",
       "      <th>2</th>\n",
       "      <td>7825</td>\n",
       "      <td>1.678351e-31</td>\n",
       "      <td>2001.0</td>\n",
       "      <td>Prince Charming</td>\n",
       "    </tr>\n",
       "    <tr>\n",
       "      <th>3</th>\n",
       "      <td>7403</td>\n",
       "      <td>1.494581e-31</td>\n",
       "      <td>1995.0</td>\n",
       "      <td>An Awfully Big Adventure</td>\n",
       "    </tr>\n",
       "    <tr>\n",
       "      <th>4</th>\n",
       "      <td>8484</td>\n",
       "      <td>6.741076e-32</td>\n",
       "      <td>2004.0</td>\n",
       "      <td>Incubus: Alive at Red Rocks</td>\n",
       "    </tr>\n",
       "    <tr>\n",
       "      <th>5</th>\n",
       "      <td>6273</td>\n",
       "      <td>4.901211e-32</td>\n",
       "      <td>1979.0</td>\n",
       "      <td>Rock 'n' Roll High School</td>\n",
       "    </tr>\n",
       "    <tr>\n",
       "      <th>6</th>\n",
       "      <td>5710</td>\n",
       "      <td>4.744431e-32</td>\n",
       "      <td>2002.0</td>\n",
       "      <td>Possession</td>\n",
       "    </tr>\n",
       "    <tr>\n",
       "      <th>7</th>\n",
       "      <td>3600</td>\n",
       "      <td>1.282994e-32</td>\n",
       "      <td>1997.0</td>\n",
       "      <td>Head Above Water</td>\n",
       "    </tr>\n",
       "    <tr>\n",
       "      <th>8</th>\n",
       "      <td>1424</td>\n",
       "      <td>1.180401e-32</td>\n",
       "      <td>2000.0</td>\n",
       "      <td>Beautiful Joe</td>\n",
       "    </tr>\n",
       "    <tr>\n",
       "      <th>9</th>\n",
       "      <td>5187</td>\n",
       "      <td>1.121414e-32</td>\n",
       "      <td>1968.0</td>\n",
       "      <td>Funny Girl</td>\n",
       "    </tr>\n",
       "  </tbody>\n",
       "</table>\n",
       "</div>"
      ],
      "text/plain": [
       "   movie_id   pred_rating    year                   movie_name\n",
       "0      7529  3.444986e-31  1994.0   Sharpe 3: Sharpe's Company\n",
       "1      1265  2.435352e-31  1971.0               Women in Cages\n",
       "2      7825  1.678351e-31  2001.0              Prince Charming\n",
       "3      7403  1.494581e-31  1995.0     An Awfully Big Adventure\n",
       "4      8484  6.741076e-32  2004.0  Incubus: Alive at Red Rocks\n",
       "5      6273  4.901211e-32  1979.0    Rock 'n' Roll High School\n",
       "6      5710  4.744431e-32  2002.0                   Possession\n",
       "7      3600  1.282994e-32  1997.0             Head Above Water\n",
       "8      1424  1.180401e-32  2000.0                Beautiful Joe\n",
       "9      5187  1.121414e-32  1968.0                   Funny Girl"
      ]
     },
     "execution_count": 30,
     "metadata": {},
     "output_type": "execute_result"
    }
   ],
   "source": [
    "user_recoms.merge(movies, how=\"inner\", on=\"movie_id\")"
   ]
  },
  {
   "cell_type": "code",
   "execution_count": 31,
   "metadata": {},
   "outputs": [
    {
     "data": {
      "text/html": [
       "<div>\n",
       "<style scoped>\n",
       "    .dataframe tbody tr th:only-of-type {\n",
       "        vertical-align: middle;\n",
       "    }\n",
       "\n",
       "    .dataframe tbody tr th {\n",
       "        vertical-align: top;\n",
       "    }\n",
       "\n",
       "    .dataframe thead th {\n",
       "        text-align: right;\n",
       "    }\n",
       "</style>\n",
       "<table border=\"1\" class=\"dataframe\">\n",
       "  <thead>\n",
       "    <tr style=\"text-align: right;\">\n",
       "      <th></th>\n",
       "      <th>movie_id</th>\n",
       "      <th>pred_rating</th>\n",
       "      <th>year</th>\n",
       "      <th>movie_name</th>\n",
       "    </tr>\n",
       "  </thead>\n",
       "  <tbody>\n",
       "    <tr>\n",
       "      <th>0</th>\n",
       "      <td>2827</td>\n",
       "      <td>1.209205e-12</td>\n",
       "      <td>1988.0</td>\n",
       "      <td>Depeche Mode: 101</td>\n",
       "    </tr>\n",
       "    <tr>\n",
       "      <th>1</th>\n",
       "      <td>5951</td>\n",
       "      <td>1.034635e-12</td>\n",
       "      <td>2002.0</td>\n",
       "      <td>Twin Sisters</td>\n",
       "    </tr>\n",
       "    <tr>\n",
       "      <th>2</th>\n",
       "      <td>6677</td>\n",
       "      <td>7.778260e-13</td>\n",
       "      <td>1998.0</td>\n",
       "      <td>Desperate Measures</td>\n",
       "    </tr>\n",
       "    <tr>\n",
       "      <th>3</th>\n",
       "      <td>8484</td>\n",
       "      <td>6.801625e-13</td>\n",
       "      <td>2004.0</td>\n",
       "      <td>Incubus: Alive at Red Rocks</td>\n",
       "    </tr>\n",
       "    <tr>\n",
       "      <th>4</th>\n",
       "      <td>3949</td>\n",
       "      <td>6.403897e-13</td>\n",
       "      <td>1991.0</td>\n",
       "      <td>Terminator 2: Extreme Edition: Bonus Material</td>\n",
       "    </tr>\n",
       "    <tr>\n",
       "      <th>5</th>\n",
       "      <td>1218</td>\n",
       "      <td>6.339066e-13</td>\n",
       "      <td>1972.0</td>\n",
       "      <td>Frenzy</td>\n",
       "    </tr>\n",
       "    <tr>\n",
       "      <th>6</th>\n",
       "      <td>3600</td>\n",
       "      <td>6.166281e-13</td>\n",
       "      <td>1997.0</td>\n",
       "      <td>Head Above Water</td>\n",
       "    </tr>\n",
       "    <tr>\n",
       "      <th>7</th>\n",
       "      <td>7358</td>\n",
       "      <td>6.086505e-13</td>\n",
       "      <td>1998.0</td>\n",
       "      <td>The Brave Little Toaster Goes to Mars</td>\n",
       "    </tr>\n",
       "    <tr>\n",
       "      <th>8</th>\n",
       "      <td>4322</td>\n",
       "      <td>6.053517e-13</td>\n",
       "      <td>1998.0</td>\n",
       "      <td>City of Glass</td>\n",
       "    </tr>\n",
       "    <tr>\n",
       "      <th>9</th>\n",
       "      <td>8987</td>\n",
       "      <td>5.989767e-13</td>\n",
       "      <td>1999.0</td>\n",
       "      <td>Universal Soldier: The Return</td>\n",
       "    </tr>\n",
       "  </tbody>\n",
       "</table>\n",
       "</div>"
      ],
      "text/plain": [
       "   movie_id   pred_rating    year  \\\n",
       "0      2827  1.209205e-12  1988.0   \n",
       "1      5951  1.034635e-12  2002.0   \n",
       "2      6677  7.778260e-13  1998.0   \n",
       "3      8484  6.801625e-13  2004.0   \n",
       "4      3949  6.403897e-13  1991.0   \n",
       "5      1218  6.339066e-13  1972.0   \n",
       "6      3600  6.166281e-13  1997.0   \n",
       "7      7358  6.086505e-13  1998.0   \n",
       "8      4322  6.053517e-13  1998.0   \n",
       "9      8987  5.989767e-13  1999.0   \n",
       "\n",
       "                                      movie_name  \n",
       "0                              Depeche Mode: 101  \n",
       "1                                   Twin Sisters  \n",
       "2                             Desperate Measures  \n",
       "3                    Incubus: Alive at Red Rocks  \n",
       "4  Terminator 2: Extreme Edition: Bonus Material  \n",
       "5                                         Frenzy  \n",
       "6                               Head Above Water  \n",
       "7          The Brave Little Toaster Goes to Mars  \n",
       "8                                  City of Glass  \n",
       "9                  Universal Soldier: The Return  "
      ]
     },
     "execution_count": 31,
     "metadata": {},
     "output_type": "execute_result"
    }
   ],
   "source": [
    "user_recoms_implicit.merge(movies, how=\"inner\", on=\"movie_id\")"
   ]
  },
  {
   "cell_type": "code",
   "execution_count": null,
   "metadata": {},
   "outputs": [],
   "source": []
  }
 ],
 "metadata": {
  "kernelspec": {
   "display_name": "venv",
   "language": "python",
   "name": "python3"
  },
  "language_info": {
   "codemirror_mode": {
    "name": "ipython",
    "version": 3
   },
   "file_extension": ".py",
   "mimetype": "text/x-python",
   "name": "python",
   "nbconvert_exporter": "python",
   "pygments_lexer": "ipython3",
   "version": "3.9.18"
  }
 },
 "nbformat": 4,
 "nbformat_minor": 2
}
