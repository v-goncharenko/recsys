{
 "cells": [
  {
   "cell_type": "markdown",
   "metadata": {},
   "source": [
    "## Seminar 6: More RecSys models!"
   ]
  },
  {
   "cell_type": "code",
   "execution_count": 6,
   "metadata": {},
   "outputs": [],
   "source": [
    "import zipfile\n",
    "\n",
    "import gdown\n",
    "import matplotlib.pyplot as plt\n",
    "import numpy as np\n",
    "import pandas as pd\n",
    "import seaborn as sns\n",
    "from scipy.sparse import csr_matrix\n",
    "from sklearn.preprocessing import LabelEncoder\n",
    "from tqdm import tqdm"
   ]
  },
  {
   "cell_type": "markdown",
   "metadata": {},
   "source": [
    "### 1. Download dataset"
   ]
  },
  {
   "cell_type": "markdown",
   "metadata": {},
   "source": [
    "Today we'll use LastFM dataset:"
   ]
  },
  {
   "cell_type": "code",
   "execution_count": 4,
   "metadata": {},
   "outputs": [
    {
     "name": "stderr",
     "output_type": "stream",
     "text": [
      "Downloading...\n",
      "From: https://drive.google.com/uc?id=1bQaLKqVXCEc_glE2UvohUd9yMaAiubEp\n",
      "To: /Users/naumov-vladis/Desktop/recsys_course/seminar5_more_models/lastfm.zip\n",
      "100%|██████████| 1.11M/1.11M [00:00<00:00, 10.8MB/s]\n"
     ]
    },
    {
     "data": {
      "text/plain": [
       "'lastfm.zip'"
      ]
     },
     "execution_count": 4,
     "metadata": {},
     "output_type": "execute_result"
    }
   ],
   "source": [
    "file_id = \"1bQaLKqVXCEc_glE2UvohUd9yMaAiubEp\"\n",
    "destination = \"lastfm.zip\"\n",
    "download_url = f\"https://drive.google.com/uc?id={file_id}\"\n",
    "\n",
    "gdown.download(download_url, destination, quiet=False)"
   ]
  },
  {
   "cell_type": "code",
   "execution_count": 7,
   "metadata": {},
   "outputs": [],
   "source": [
    "with zipfile.ZipFile(destination, \"r\") as zip_ref:\n",
    "    zip_ref.extractall(\"lastfm\")"
   ]
  },
  {
   "cell_type": "markdown",
   "metadata": {},
   "source": [
    "It consists info about interactions between users and artists:"
   ]
  },
  {
   "cell_type": "code",
   "execution_count": 7,
   "metadata": {},
   "outputs": [],
   "source": [
    "ratings = pd.read_csv(\n",
    "    \"lastfm/lastfm.inter\",\n",
    "    sep=\"\\t\",\n",
    "    names=[\"user_id\", \"artist_id\", \"weight\", \"tag\"],\n",
    "    header=0,\n",
    ")"
   ]
  },
  {
   "cell_type": "code",
   "execution_count": 8,
   "metadata": {},
   "outputs": [
    {
     "data": {
      "text/html": [
       "<div>\n",
       "<style scoped>\n",
       "    .dataframe tbody tr th:only-of-type {\n",
       "        vertical-align: middle;\n",
       "    }\n",
       "\n",
       "    .dataframe tbody tr th {\n",
       "        vertical-align: top;\n",
       "    }\n",
       "\n",
       "    .dataframe thead th {\n",
       "        text-align: right;\n",
       "    }\n",
       "</style>\n",
       "<table border=\"1\" class=\"dataframe\">\n",
       "  <thead>\n",
       "    <tr style=\"text-align: right;\">\n",
       "      <th></th>\n",
       "      <th>user_id</th>\n",
       "      <th>artist_id</th>\n",
       "      <th>weight</th>\n",
       "      <th>tag</th>\n",
       "    </tr>\n",
       "  </thead>\n",
       "  <tbody>\n",
       "    <tr>\n",
       "      <th>0</th>\n",
       "      <td>2</td>\n",
       "      <td>51</td>\n",
       "      <td>13883</td>\n",
       "      <td>NaN</td>\n",
       "    </tr>\n",
       "    <tr>\n",
       "      <th>1</th>\n",
       "      <td>2</td>\n",
       "      <td>52</td>\n",
       "      <td>11690</td>\n",
       "      <td>chillout,downtempo,electronic,trip-hop,female ...</td>\n",
       "    </tr>\n",
       "    <tr>\n",
       "      <th>2</th>\n",
       "      <td>2</td>\n",
       "      <td>53</td>\n",
       "      <td>11351</td>\n",
       "      <td>NaN</td>\n",
       "    </tr>\n",
       "    <tr>\n",
       "      <th>3</th>\n",
       "      <td>2</td>\n",
       "      <td>54</td>\n",
       "      <td>10300</td>\n",
       "      <td>NaN</td>\n",
       "    </tr>\n",
       "    <tr>\n",
       "      <th>4</th>\n",
       "      <td>2</td>\n",
       "      <td>55</td>\n",
       "      <td>8983</td>\n",
       "      <td>NaN</td>\n",
       "    </tr>\n",
       "  </tbody>\n",
       "</table>\n",
       "</div>"
      ],
      "text/plain": [
       "   user_id  artist_id  weight  \\\n",
       "0        2         51   13883   \n",
       "1        2         52   11690   \n",
       "2        2         53   11351   \n",
       "3        2         54   10300   \n",
       "4        2         55    8983   \n",
       "\n",
       "                                                 tag  \n",
       "0                                                NaN  \n",
       "1  chillout,downtempo,electronic,trip-hop,female ...  \n",
       "2                                                NaN  \n",
       "3                                                NaN  \n",
       "4                                                NaN  "
      ]
     },
     "execution_count": 8,
     "metadata": {},
     "output_type": "execute_result"
    }
   ],
   "source": [
    "ratings.head()"
   ]
  },
  {
   "cell_type": "code",
   "execution_count": 9,
   "metadata": {},
   "outputs": [],
   "source": [
    "items_data = pd.read_csv(\n",
    "    \"lastfm/lastfm.item\",\n",
    "    sep=\"\\t\",\n",
    "    names=[\"artist_id\", \"name\", \"url\", \"picture_url\"],\n",
    "    header=0,\n",
    ")"
   ]
  },
  {
   "cell_type": "code",
   "execution_count": 10,
   "metadata": {},
   "outputs": [
    {
     "data": {
      "text/html": [
       "<div>\n",
       "<style scoped>\n",
       "    .dataframe tbody tr th:only-of-type {\n",
       "        vertical-align: middle;\n",
       "    }\n",
       "\n",
       "    .dataframe tbody tr th {\n",
       "        vertical-align: top;\n",
       "    }\n",
       "\n",
       "    .dataframe thead th {\n",
       "        text-align: right;\n",
       "    }\n",
       "</style>\n",
       "<table border=\"1\" class=\"dataframe\">\n",
       "  <thead>\n",
       "    <tr style=\"text-align: right;\">\n",
       "      <th></th>\n",
       "      <th>artist_id</th>\n",
       "      <th>name</th>\n",
       "      <th>url</th>\n",
       "      <th>picture_url</th>\n",
       "    </tr>\n",
       "  </thead>\n",
       "  <tbody>\n",
       "    <tr>\n",
       "      <th>0</th>\n",
       "      <td>1</td>\n",
       "      <td>MALICE MIZER</td>\n",
       "      <td>http://www.last.fm/music/MALICE+MIZER</td>\n",
       "      <td>http://userserve-ak.last.fm/serve/252/10808.jpg</td>\n",
       "    </tr>\n",
       "    <tr>\n",
       "      <th>1</th>\n",
       "      <td>2</td>\n",
       "      <td>Diary of Dreams</td>\n",
       "      <td>http://www.last.fm/music/Diary+of+Dreams</td>\n",
       "      <td>http://userserve-ak.last.fm/serve/252/3052066.jpg</td>\n",
       "    </tr>\n",
       "    <tr>\n",
       "      <th>2</th>\n",
       "      <td>3</td>\n",
       "      <td>Carpathian Forest</td>\n",
       "      <td>http://www.last.fm/music/Carpathian+Forest</td>\n",
       "      <td>http://userserve-ak.last.fm/serve/252/40222717...</td>\n",
       "    </tr>\n",
       "    <tr>\n",
       "      <th>3</th>\n",
       "      <td>4</td>\n",
       "      <td>Moi dix Mois</td>\n",
       "      <td>http://www.last.fm/music/Moi+dix+Mois</td>\n",
       "      <td>http://userserve-ak.last.fm/serve/252/54697835...</td>\n",
       "    </tr>\n",
       "    <tr>\n",
       "      <th>4</th>\n",
       "      <td>5</td>\n",
       "      <td>Bella Morte</td>\n",
       "      <td>http://www.last.fm/music/Bella+Morte</td>\n",
       "      <td>http://userserve-ak.last.fm/serve/252/14789013...</td>\n",
       "    </tr>\n",
       "  </tbody>\n",
       "</table>\n",
       "</div>"
      ],
      "text/plain": [
       "   artist_id               name                                         url  \\\n",
       "0          1       MALICE MIZER       http://www.last.fm/music/MALICE+MIZER   \n",
       "1          2    Diary of Dreams    http://www.last.fm/music/Diary+of+Dreams   \n",
       "2          3  Carpathian Forest  http://www.last.fm/music/Carpathian+Forest   \n",
       "3          4       Moi dix Mois       http://www.last.fm/music/Moi+dix+Mois   \n",
       "4          5        Bella Morte        http://www.last.fm/music/Bella+Morte   \n",
       "\n",
       "                                         picture_url  \n",
       "0    http://userserve-ak.last.fm/serve/252/10808.jpg  \n",
       "1  http://userserve-ak.last.fm/serve/252/3052066.jpg  \n",
       "2  http://userserve-ak.last.fm/serve/252/40222717...  \n",
       "3  http://userserve-ak.last.fm/serve/252/54697835...  \n",
       "4  http://userserve-ak.last.fm/serve/252/14789013...  "
      ]
     },
     "execution_count": 10,
     "metadata": {},
     "output_type": "execute_result"
    }
   ],
   "source": [
    "items_data.head()"
   ]
  },
  {
   "cell_type": "markdown",
   "metadata": {},
   "source": [
    "### 2. EDA"
   ]
  },
  {
   "cell_type": "code",
   "execution_count": 11,
   "metadata": {},
   "outputs": [
    {
     "data": {
      "text/plain": [
       "Text(0.5, 0, '# interactions with artist')"
      ]
     },
     "execution_count": 11,
     "metadata": {},
     "output_type": "execute_result"
    },
    {
     "data": {
      "image/png": "[encoded data removed]",
      "text/plain": [
       "<Figure size 640x480 with 1 Axes>"
      ]
     },
     "metadata": {},
     "output_type": "display_data"
    }
   ],
   "source": [
    "plt.hist(ratings[\"weight\"], bins=20, log=True)\n",
    "plt.xlabel(\"# interactions with artist\")"
   ]
  },
  {
   "cell_type": "code",
   "execution_count": 12,
   "metadata": {},
   "outputs": [
    {
     "data": {
      "image/png": "[encoded data removed]",
      "text/plain": [
       "<Figure size 1000x600 with 1 Axes>"
      ]
     },
     "metadata": {},
     "output_type": "display_data"
    }
   ],
   "source": [
    "user_artist_counts = ratings.groupby(\"artist_id\")[\"user_id\"].count().values\n",
    "\n",
    "plt.figure(figsize=(10, 6))\n",
    "ax = sns.histplot(user_artist_counts, bins=10, log_scale=True)\n",
    "ax.set(\n",
    "    xlabel=\"Number of users\",\n",
    "    ylabel=\"Number of artists\",\n",
    "    title=\"User-artist interactions count\",\n",
    ")\n",
    "ax.grid()"
   ]
  },
  {
   "cell_type": "markdown",
   "metadata": {},
   "source": [
    "### 3. EASE"
   ]
  },
  {
   "cell_type": "markdown",
   "metadata": {},
   "source": [
    "EASE (Embarrassingly Shallow Autoencoders) - linear model that is geared toward sparse data, in particular implicit\n",
    "feedback data for recommender systems ([article](https://arxiv.org/pdf/1905.03375)).\n",
    "Optimization task:\n",
    "\n",
    "$$\n",
    "\\begin{aligned}\n",
    "\\min_{B} \\quad & \\|X - X B\\|_F^2 + \\lambda \\|B\\|_F^2 \\\\\n",
    "\\text{s.t.} \\quad & \\text{diag}(B) = 0\n",
    "\\end{aligned}\n",
    "$$\n",
    "\n",
    "where:\n",
    "- $X \\in \\mathbb{R}^{|U| \\times |I|}$ - the input matrix (**ratings matrix**),\n",
    "- $B \\in \\mathbb{R}^{|I| \\times |I|}$ is the learned parameter matrix (**item-item weight matrix**),\n",
    "- $\\| \\cdot \\|_F $ denotes the Frobenius norm,\n",
    "- $\\lambda$ is the regularization parameter.\n",
    "\n",
    "Solution:\n",
    "\n",
    "$$ \\hat{B}_{ij} = \\begin{cases} 0, \\quad \\text{if} \\; i = j \\\\ -\\frac{\\hat{P}_ij}{\\hat{P}_jj}, \\quad \\text{otherwise} \\end{cases} ,$$\n",
    "\n",
    "where $\\hat{P} = (X^T X + \\lambda I)^{-1}$."
   ]
  },
  {
   "cell_type": "code",
   "execution_count": 13,
   "metadata": {},
   "outputs": [],
   "source": [
    "class EASE:\n",
    "    def __init__(self):\n",
    "        self.user_enc = LabelEncoder()\n",
    "        self.item_enc = LabelEncoder()\n",
    "\n",
    "    def _get_users_and_items(self, df):\n",
    "        users = self.user_enc.fit_transform(df.loc[:, \"user_id\"])\n",
    "        items = self.item_enc.fit_transform(df.loc[:, \"artist_id\"])\n",
    "        return users, items\n",
    "\n",
    "    def fit(self, df, lambda_: float = 0.5, implicit=True):\n",
    "        \"\"\"\n",
    "        df: pandas.DataFrame with columns user_id, item_id and (rating)\n",
    "        lambda_: l2-regularization term\n",
    "        implicit: if True, ratings are ignored and taken as 1, else normalized ratings are used\n",
    "        \"\"\"\n",
    "        users, items = self._get_users_and_items(df)\n",
    "        values = (\n",
    "            np.ones(df.shape[0])\n",
    "            if implicit\n",
    "            else df[\"weight\"].to_numpy() / df[\"weight\"].max()\n",
    "        )\n",
    "\n",
    "        X = csr_matrix((values, (users, items)))\n",
    "        self.X = X\n",
    "\n",
    "        G = X.T.dot(X).toarray()\n",
    "        diagIndices = np.diag_indices(G.shape[0])\n",
    "        G[diagIndices] += lambda_\n",
    "        P = np.linalg.inv(G)\n",
    "        B = P / (-np.diag(P))\n",
    "        B[diagIndices] = 0\n",
    "\n",
    "        self.B = B\n",
    "        self.pred = X.dot(B)\n",
    "\n",
    "    def predict(self, train, users, items, k):\n",
    "        items = self.item_enc.transform(items)\n",
    "        dd = train.loc[train.user_id.isin(users)]\n",
    "        dd[\"ci\"] = self.item_enc.transform(dd.artist_id)\n",
    "        dd[\"cu\"] = self.user_enc.transform(dd.user_id)\n",
    "        g = dd.groupby(\"cu\")\n",
    "\n",
    "        user_preds = []\n",
    "        for user, group in g:\n",
    "            user_preds.append(\n",
    "                self.predict_for_user(user, group, self.pred[user, :], items, k)\n",
    "            )\n",
    "\n",
    "        df = pd.concat(user_preds)\n",
    "        df[\"artist_id\"] = self.item_enc.inverse_transform(df[\"artist_id\"])\n",
    "        df[\"user_id\"] = self.user_enc.inverse_transform(df[\"user_id\"])\n",
    "        return df\n",
    "\n",
    "    @staticmethod\n",
    "    def predict_for_user(user, group, pred, items, k):\n",
    "        watched = set(group[\"ci\"])\n",
    "        candidates = [item for item in items if item not in watched]\n",
    "        pred = np.take(pred, candidates)\n",
    "        res = np.argpartition(pred, -k)[-k:]\n",
    "        r = pd.DataFrame(\n",
    "            {\n",
    "                \"user_id\": [user] * len(res),\n",
    "                \"artist_id\": np.take(candidates, res),\n",
    "                \"score\": np.take(pred, res),\n",
    "            }\n",
    "        ).sort_values(\"score\", ascending=False)\n",
    "        return r"
   ]
  },
  {
   "cell_type": "code",
   "execution_count": 14,
   "metadata": {},
   "outputs": [],
   "source": [
    "ease = EASE()"
   ]
  },
  {
   "cell_type": "code",
   "execution_count": 19,
   "metadata": {},
   "outputs": [],
   "source": [
    "ease.fit(ratings, implicit=False)"
   ]
  },
  {
   "cell_type": "code",
   "execution_count": 20,
   "metadata": {},
   "outputs": [
    {
     "name": "stderr",
     "output_type": "stream",
     "text": [
      "/var/folders/0z/3w0j3xd529qf_7fc2w5t19nm3wgh24/T/ipykernel_34341/1053752243.py:40: SettingWithCopyWarning: \n",
      "A value is trying to be set on a copy of a slice from a DataFrame.\n",
      "Try using .loc[row_indexer,col_indexer] = value instead\n",
      "\n",
      "See the caveats in the documentation: https://pandas.pydata.org/pandas-docs/stable/user_guide/indexing.html#returning-a-view-versus-a-copy\n",
      "  dd['ci'] = self.item_enc.transform(dd.artist_id)\n",
      "/var/folders/0z/3w0j3xd529qf_7fc2w5t19nm3wgh24/T/ipykernel_34341/1053752243.py:41: SettingWithCopyWarning: \n",
      "A value is trying to be set on a copy of a slice from a DataFrame.\n",
      "Try using .loc[row_indexer,col_indexer] = value instead\n",
      "\n",
      "See the caveats in the documentation: https://pandas.pydata.org/pandas-docs/stable/user_guide/indexing.html#returning-a-view-versus-a-copy\n",
      "  dd['cu'] = self.user_enc.transform(dd.user_id)\n"
     ]
    }
   ],
   "source": [
    "users_to_predict = [2, 3, 4, 5]\n",
    "\n",
    "all_items = ratings[\"artist_id\"].unique()\n",
    "\n",
    "k = 5  # Number of recommendations per user\n",
    "recommendations = ease.predict(\n",
    "    train=ratings, users=users_to_predict, items=all_items, k=k\n",
    ")"
   ]
  },
  {
   "cell_type": "code",
   "execution_count": 21,
   "metadata": {},
   "outputs": [
    {
     "data": {
      "text/html": [
       "<div>\n",
       "<style scoped>\n",
       "    .dataframe tbody tr th:only-of-type {\n",
       "        vertical-align: middle;\n",
       "    }\n",
       "\n",
       "    .dataframe tbody tr th {\n",
       "        vertical-align: top;\n",
       "    }\n",
       "\n",
       "    .dataframe thead th {\n",
       "        text-align: right;\n",
       "    }\n",
       "</style>\n",
       "<table border=\"1\" class=\"dataframe\">\n",
       "  <thead>\n",
       "    <tr style=\"text-align: right;\">\n",
       "      <th></th>\n",
       "      <th>user_id</th>\n",
       "      <th>artist_id</th>\n",
       "      <th>score</th>\n",
       "    </tr>\n",
       "  </thead>\n",
       "  <tbody>\n",
       "    <tr>\n",
       "      <th>3</th>\n",
       "      <td>2</td>\n",
       "      <td>289</td>\n",
       "      <td>0.002531</td>\n",
       "    </tr>\n",
       "    <tr>\n",
       "      <th>2</th>\n",
       "      <td>2</td>\n",
       "      <td>498</td>\n",
       "      <td>0.001123</td>\n",
       "    </tr>\n",
       "    <tr>\n",
       "      <th>4</th>\n",
       "      <td>2</td>\n",
       "      <td>511</td>\n",
       "      <td>0.001061</td>\n",
       "    </tr>\n",
       "    <tr>\n",
       "      <th>1</th>\n",
       "      <td>2</td>\n",
       "      <td>159</td>\n",
       "      <td>0.001007</td>\n",
       "    </tr>\n",
       "    <tr>\n",
       "      <th>0</th>\n",
       "      <td>2</td>\n",
       "      <td>292</td>\n",
       "      <td>0.000983</td>\n",
       "    </tr>\n",
       "    <tr>\n",
       "      <th>4</th>\n",
       "      <td>3</td>\n",
       "      <td>3502</td>\n",
       "      <td>0.000008</td>\n",
       "    </tr>\n",
       "    <tr>\n",
       "      <th>1</th>\n",
       "      <td>3</td>\n",
       "      <td>7079</td>\n",
       "      <td>0.000003</td>\n",
       "    </tr>\n",
       "    <tr>\n",
       "      <th>2</th>\n",
       "      <td>3</td>\n",
       "      <td>1109</td>\n",
       "      <td>0.000003</td>\n",
       "    </tr>\n",
       "    <tr>\n",
       "      <th>3</th>\n",
       "      <td>3</td>\n",
       "      <td>1975</td>\n",
       "      <td>0.000003</td>\n",
       "    </tr>\n",
       "    <tr>\n",
       "      <th>0</th>\n",
       "      <td>3</td>\n",
       "      <td>233</td>\n",
       "      <td>0.000003</td>\n",
       "    </tr>\n",
       "    <tr>\n",
       "      <th>3</th>\n",
       "      <td>4</td>\n",
       "      <td>1072</td>\n",
       "      <td>0.000350</td>\n",
       "    </tr>\n",
       "    <tr>\n",
       "      <th>2</th>\n",
       "      <td>4</td>\n",
       "      <td>1014</td>\n",
       "      <td>0.000308</td>\n",
       "    </tr>\n",
       "    <tr>\n",
       "      <th>4</th>\n",
       "      <td>4</td>\n",
       "      <td>701</td>\n",
       "      <td>0.000245</td>\n",
       "    </tr>\n",
       "    <tr>\n",
       "      <th>1</th>\n",
       "      <td>4</td>\n",
       "      <td>1713</td>\n",
       "      <td>0.000199</td>\n",
       "    </tr>\n",
       "    <tr>\n",
       "      <th>0</th>\n",
       "      <td>4</td>\n",
       "      <td>67</td>\n",
       "      <td>0.000154</td>\n",
       "    </tr>\n",
       "    <tr>\n",
       "      <th>4</th>\n",
       "      <td>5</td>\n",
       "      <td>498</td>\n",
       "      <td>0.000095</td>\n",
       "    </tr>\n",
       "    <tr>\n",
       "      <th>3</th>\n",
       "      <td>5</td>\n",
       "      <td>1249</td>\n",
       "      <td>0.000088</td>\n",
       "    </tr>\n",
       "    <tr>\n",
       "      <th>2</th>\n",
       "      <td>5</td>\n",
       "      <td>72</td>\n",
       "      <td>0.000085</td>\n",
       "    </tr>\n",
       "    <tr>\n",
       "      <th>1</th>\n",
       "      <td>5</td>\n",
       "      <td>89</td>\n",
       "      <td>0.000074</td>\n",
       "    </tr>\n",
       "    <tr>\n",
       "      <th>0</th>\n",
       "      <td>5</td>\n",
       "      <td>65</td>\n",
       "      <td>0.000058</td>\n",
       "    </tr>\n",
       "  </tbody>\n",
       "</table>\n",
       "</div>"
      ],
      "text/plain": [
       "   user_id  artist_id     score\n",
       "3        2        289  0.002531\n",
       "2        2        498  0.001123\n",
       "4        2        511  0.001061\n",
       "1        2        159  0.001007\n",
       "0        2        292  0.000983\n",
       "4        3       3502  0.000008\n",
       "1        3       7079  0.000003\n",
       "2        3       1109  0.000003\n",
       "3        3       1975  0.000003\n",
       "0        3        233  0.000003\n",
       "3        4       1072  0.000350\n",
       "2        4       1014  0.000308\n",
       "4        4        701  0.000245\n",
       "1        4       1713  0.000199\n",
       "0        4         67  0.000154\n",
       "4        5        498  0.000095\n",
       "3        5       1249  0.000088\n",
       "2        5         72  0.000085\n",
       "1        5         89  0.000074\n",
       "0        5         65  0.000058"
      ]
     },
     "execution_count": 21,
     "metadata": {},
     "output_type": "execute_result"
    }
   ],
   "source": [
    "recommendations"
   ]
  },
  {
   "cell_type": "code",
   "execution_count": 18,
   "metadata": {},
   "outputs": [
    {
     "data": {
      "text/html": [
       "<div>\n",
       "<style scoped>\n",
       "    .dataframe tbody tr th:only-of-type {\n",
       "        vertical-align: middle;\n",
       "    }\n",
       "\n",
       "    .dataframe tbody tr th {\n",
       "        vertical-align: top;\n",
       "    }\n",
       "\n",
       "    .dataframe thead th {\n",
       "        text-align: right;\n",
       "    }\n",
       "</style>\n",
       "<table border=\"1\" class=\"dataframe\">\n",
       "  <thead>\n",
       "    <tr style=\"text-align: right;\">\n",
       "      <th></th>\n",
       "      <th>user_id</th>\n",
       "      <th>artist_id</th>\n",
       "      <th>score</th>\n",
       "    </tr>\n",
       "  </thead>\n",
       "  <tbody>\n",
       "    <tr>\n",
       "      <th>3</th>\n",
       "      <td>2</td>\n",
       "      <td>159</td>\n",
       "      <td>0.016983</td>\n",
       "    </tr>\n",
       "    <tr>\n",
       "      <th>4</th>\n",
       "      <td>2</td>\n",
       "      <td>238</td>\n",
       "      <td>0.016583</td>\n",
       "    </tr>\n",
       "    <tr>\n",
       "      <th>2</th>\n",
       "      <td>2</td>\n",
       "      <td>511</td>\n",
       "      <td>0.013600</td>\n",
       "    </tr>\n",
       "    <tr>\n",
       "      <th>1</th>\n",
       "      <td>2</td>\n",
       "      <td>1001</td>\n",
       "      <td>0.013472</td>\n",
       "    </tr>\n",
       "    <tr>\n",
       "      <th>0</th>\n",
       "      <td>2</td>\n",
       "      <td>298</td>\n",
       "      <td>0.012645</td>\n",
       "    </tr>\n",
       "    <tr>\n",
       "      <th>1</th>\n",
       "      <td>3</td>\n",
       "      <td>1736</td>\n",
       "      <td>0.002553</td>\n",
       "    </tr>\n",
       "    <tr>\n",
       "      <th>3</th>\n",
       "      <td>3</td>\n",
       "      <td>2605</td>\n",
       "      <td>0.002250</td>\n",
       "    </tr>\n",
       "    <tr>\n",
       "      <th>4</th>\n",
       "      <td>3</td>\n",
       "      <td>621</td>\n",
       "      <td>0.002237</td>\n",
       "    </tr>\n",
       "    <tr>\n",
       "      <th>2</th>\n",
       "      <td>3</td>\n",
       "      <td>196</td>\n",
       "      <td>0.001898</td>\n",
       "    </tr>\n",
       "    <tr>\n",
       "      <th>0</th>\n",
       "      <td>3</td>\n",
       "      <td>237</td>\n",
       "      <td>0.001754</td>\n",
       "    </tr>\n",
       "    <tr>\n",
       "      <th>4</th>\n",
       "      <td>4</td>\n",
       "      <td>221</td>\n",
       "      <td>0.016518</td>\n",
       "    </tr>\n",
       "    <tr>\n",
       "      <th>3</th>\n",
       "      <td>4</td>\n",
       "      <td>486</td>\n",
       "      <td>0.016372</td>\n",
       "    </tr>\n",
       "    <tr>\n",
       "      <th>2</th>\n",
       "      <td>4</td>\n",
       "      <td>1001</td>\n",
       "      <td>0.016053</td>\n",
       "    </tr>\n",
       "    <tr>\n",
       "      <th>1</th>\n",
       "      <td>4</td>\n",
       "      <td>511</td>\n",
       "      <td>0.013433</td>\n",
       "    </tr>\n",
       "    <tr>\n",
       "      <th>0</th>\n",
       "      <td>4</td>\n",
       "      <td>67</td>\n",
       "      <td>0.013297</td>\n",
       "    </tr>\n",
       "    <tr>\n",
       "      <th>4</th>\n",
       "      <td>5</td>\n",
       "      <td>615</td>\n",
       "      <td>0.022473</td>\n",
       "    </tr>\n",
       "    <tr>\n",
       "      <th>2</th>\n",
       "      <td>5</td>\n",
       "      <td>982</td>\n",
       "      <td>0.020952</td>\n",
       "    </tr>\n",
       "    <tr>\n",
       "      <th>3</th>\n",
       "      <td>5</td>\n",
       "      <td>709</td>\n",
       "      <td>0.019975</td>\n",
       "    </tr>\n",
       "    <tr>\n",
       "      <th>1</th>\n",
       "      <td>5</td>\n",
       "      <td>65</td>\n",
       "      <td>0.019828</td>\n",
       "    </tr>\n",
       "    <tr>\n",
       "      <th>0</th>\n",
       "      <td>5</td>\n",
       "      <td>618</td>\n",
       "      <td>0.019736</td>\n",
       "    </tr>\n",
       "  </tbody>\n",
       "</table>\n",
       "</div>"
      ],
      "text/plain": [
       "   user_id  artist_id     score\n",
       "3        2        159  0.016983\n",
       "4        2        238  0.016583\n",
       "2        2        511  0.013600\n",
       "1        2       1001  0.013472\n",
       "0        2        298  0.012645\n",
       "1        3       1736  0.002553\n",
       "3        3       2605  0.002250\n",
       "4        3        621  0.002237\n",
       "2        3        196  0.001898\n",
       "0        3        237  0.001754\n",
       "4        4        221  0.016518\n",
       "3        4        486  0.016372\n",
       "2        4       1001  0.016053\n",
       "1        4        511  0.013433\n",
       "0        4         67  0.013297\n",
       "4        5        615  0.022473\n",
       "2        5        982  0.020952\n",
       "3        5        709  0.019975\n",
       "1        5         65  0.019828\n",
       "0        5        618  0.019736"
      ]
     },
     "execution_count": 18,
     "metadata": {},
     "output_type": "execute_result"
    }
   ],
   "source": [
    "recommendations"
   ]
  },
  {
   "cell_type": "code",
   "execution_count": 22,
   "metadata": {},
   "outputs": [],
   "source": [
    "def compute_mrr(iencoder, uencoder, train, preds, k=10):\n",
    "    users = train[\"user_id\"].unique()\n",
    "    items = train[\"artist_id\"].unique()\n",
    "\n",
    "    sampled_users = np.random.choice(users, size=int(0.1 * len(users)), replace=False)\n",
    "\n",
    "    mrr = 0\n",
    "    for user in tqdm(sampled_users):\n",
    "        true_items = train[train[\"user_id\"] == user][\"artist_id\"].values\n",
    "\n",
    "        user_index = uencoder.transform([user])[0]\n",
    "        item_indices = iencoder.transform(items)\n",
    "\n",
    "        ranked_items = np.argsort(-preds)[:k]  # Top-k ranked items\n",
    "\n",
    "        for true_item in true_items:\n",
    "            true_item_index = iencoder.transform([true_item])[0]\n",
    "            if true_item_index in ranked_items:\n",
    "                rank = np.where(ranked_items == true_item_index)[0][0] + 1\n",
    "                mrr += 1 / rank\n",
    "                break  # Only the first relevant item matters for MRR\n",
    "\n",
    "    return mrr / len(users)"
   ]
  },
  {
   "cell_type": "code",
   "execution_count": 23,
   "metadata": {},
   "outputs": [
    {
     "name": "stderr",
     "output_type": "stream",
     "text": [
      "100%|██████████| 189/189 [05:30<00:00,  1.75s/it]\n"
     ]
    },
    {
     "data": {
      "text/plain": [
       "0.09989429175475686"
      ]
     },
     "execution_count": 23,
     "metadata": {},
     "output_type": "execute_result"
    }
   ],
   "source": [
    "preds = ease.pred\n",
    "compute_mrr(ease.item_enc, ease.user_enc, ratings, preds)"
   ]
  },
  {
   "cell_type": "code",
   "execution_count": null,
   "metadata": {},
   "outputs": [],
   "source": []
  }
 ],
 "metadata": {
  "kernelspec": {
   "display_name": "venv",
   "language": "python",
   "name": "python3"
  },
  "language_info": {
   "codemirror_mode": {
    "name": "ipython",
    "version": 3
   },
   "file_extension": ".py",
   "mimetype": "text/x-python",
   "name": "python",
   "nbconvert_exporter": "python",
   "pygments_lexer": "ipython3",
   "version": "3.10.15"
  }
 },
 "nbformat": 4,
 "nbformat_minor": 2
}
