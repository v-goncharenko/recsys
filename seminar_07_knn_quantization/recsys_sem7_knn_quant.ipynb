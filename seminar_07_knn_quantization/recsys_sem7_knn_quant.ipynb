{
  "nbformat": 4,
  "nbformat_minor": 0,
  "metadata": {
    "colab": {
      "provenance": []
    },
    "kernelspec": {
      "name": "python3",
      "display_name": "Python 3"
    },
    "language_info": {
      "name": "python"
    },
    "widgets": {
      "application/vnd.jupyter.widget-state+json": {
        "38e8140e31c34da990a72ad62afffd16": {
          "model_module": "@jupyter-widgets/controls",
          "model_name": "HBoxModel",
          "model_module_version": "1.5.0",
          "state": {
            "_dom_classes": [],
            "_model_module": "@jupyter-widgets/controls",
            "_model_module_version": "1.5.0",
            "_model_name": "HBoxModel",
            "_view_count": null,
            "_view_module": "@jupyter-widgets/controls",
            "_view_module_version": "1.5.0",
            "_view_name": "HBoxView",
            "box_style": "",
            "children": [
              "IPY_MODEL_6080dabdeb884c6a9ee8a1e55de37c3b",
              "IPY_MODEL_5d58f828e8fc4587b4b4517524a53d19",
              "IPY_MODEL_1357b49a9c154ef38a574e7562b0ad2a"
            ],
            "layout": "IPY_MODEL_31379165c71a48929d608dedba133e13"
          }
        },
        "6080dabdeb884c6a9ee8a1e55de37c3b": {
          "model_module": "@jupyter-widgets/controls",
          "model_name": "HTMLModel",
          "model_module_version": "1.5.0",
          "state": {
            "_dom_classes": [],
            "_model_module": "@jupyter-widgets/controls",
            "_model_module_version": "1.5.0",
            "_model_name": "HTMLModel",
            "_view_count": null,
            "_view_module": "@jupyter-widgets/controls",
            "_view_module_version": "1.5.0",
            "_view_name": "HTMLView",
            "description": "",
            "description_tooltip": null,
            "layout": "IPY_MODEL_1a1cff23dc964efc93e3a78f815140fb",
            "placeholder": "​",
            "style": "IPY_MODEL_96134bd84abf47a381416426551fa7d9",
            "value": "100%"
          }
        },
        "5d58f828e8fc4587b4b4517524a53d19": {
          "model_module": "@jupyter-widgets/controls",
          "model_name": "FloatProgressModel",
          "model_module_version": "1.5.0",
          "state": {
            "_dom_classes": [],
            "_model_module": "@jupyter-widgets/controls",
            "_model_module_version": "1.5.0",
            "_model_name": "FloatProgressModel",
            "_view_count": null,
            "_view_module": "@jupyter-widgets/controls",
            "_view_module_version": "1.5.0",
            "_view_name": "ProgressView",
            "bar_style": "success",
            "description": "",
            "description_tooltip": null,
            "layout": "IPY_MODEL_b1cc58a6f4e84fd1b124b744ddd43851",
            "max": 256,
            "min": 0,
            "orientation": "horizontal",
            "style": "IPY_MODEL_18d623d049da4ade9827b14da766fbcf",
            "value": 256
          }
        },
        "1357b49a9c154ef38a574e7562b0ad2a": {
          "model_module": "@jupyter-widgets/controls",
          "model_name": "HTMLModel",
          "model_module_version": "1.5.0",
          "state": {
            "_dom_classes": [],
            "_model_module": "@jupyter-widgets/controls",
            "_model_module_version": "1.5.0",
            "_model_name": "HTMLModel",
            "_view_count": null,
            "_view_module": "@jupyter-widgets/controls",
            "_view_module_version": "1.5.0",
            "_view_name": "HTMLView",
            "description": "",
            "description_tooltip": null,
            "layout": "IPY_MODEL_b37f5d9bdc1848c9a2ca77929223d26d",
            "placeholder": "​",
            "style": "IPY_MODEL_e9f20edd8d924c57902ce77713726378",
            "value": " 256/256 [02:20&lt;00:00,  2.11it/s]"
          }
        },
        "31379165c71a48929d608dedba133e13": {
          "model_module": "@jupyter-widgets/base",
          "model_name": "LayoutModel",
          "model_module_version": "1.2.0",
          "state": {
            "_model_module": "@jupyter-widgets/base",
            "_model_module_version": "1.2.0",
            "_model_name": "LayoutModel",
            "_view_count": null,
            "_view_module": "@jupyter-widgets/base",
            "_view_module_version": "1.2.0",
            "_view_name": "LayoutView",
            "align_content": null,
            "align_items": null,
            "align_self": null,
            "border": null,
            "bottom": null,
            "display": null,
            "flex": null,
            "flex_flow": null,
            "grid_area": null,
            "grid_auto_columns": null,
            "grid_auto_flow": null,
            "grid_auto_rows": null,
            "grid_column": null,
            "grid_gap": null,
            "grid_row": null,
            "grid_template_areas": null,
            "grid_template_columns": null,
            "grid_template_rows": null,
            "height": null,
            "justify_content": null,
            "justify_items": null,
            "left": null,
            "margin": null,
            "max_height": null,
            "max_width": null,
            "min_height": null,
            "min_width": null,
            "object_fit": null,
            "object_position": null,
            "order": null,
            "overflow": null,
            "overflow_x": null,
            "overflow_y": null,
            "padding": null,
            "right": null,
            "top": null,
            "visibility": null,
            "width": null
          }
        },
        "1a1cff23dc964efc93e3a78f815140fb": {
          "model_module": "@jupyter-widgets/base",
          "model_name": "LayoutModel",
          "model_module_version": "1.2.0",
          "state": {
            "_model_module": "@jupyter-widgets/base",
            "_model_module_version": "1.2.0",
            "_model_name": "LayoutModel",
            "_view_count": null,
            "_view_module": "@jupyter-widgets/base",
            "_view_module_version": "1.2.0",
            "_view_name": "LayoutView",
            "align_content": null,
            "align_items": null,
            "align_self": null,
            "border": null,
            "bottom": null,
            "display": null,
            "flex": null,
            "flex_flow": null,
            "grid_area": null,
            "grid_auto_columns": null,
            "grid_auto_flow": null,
            "grid_auto_rows": null,
            "grid_column": null,
            "grid_gap": null,
            "grid_row": null,
            "grid_template_areas": null,
            "grid_template_columns": null,
            "grid_template_rows": null,
            "height": null,
            "justify_content": null,
            "justify_items": null,
            "left": null,
            "margin": null,
            "max_height": null,
            "max_width": null,
            "min_height": null,
            "min_width": null,
            "object_fit": null,
            "object_position": null,
            "order": null,
            "overflow": null,
            "overflow_x": null,
            "overflow_y": null,
            "padding": null,
            "right": null,
            "top": null,
            "visibility": null,
            "width": null
          }
        },
        "96134bd84abf47a381416426551fa7d9": {
          "model_module": "@jupyter-widgets/controls",
          "model_name": "DescriptionStyleModel",
          "model_module_version": "1.5.0",
          "state": {
            "_model_module": "@jupyter-widgets/controls",
            "_model_module_version": "1.5.0",
            "_model_name": "DescriptionStyleModel",
            "_view_count": null,
            "_view_module": "@jupyter-widgets/base",
            "_view_module_version": "1.2.0",
            "_view_name": "StyleView",
            "description_width": ""
          }
        },
        "b1cc58a6f4e84fd1b124b744ddd43851": {
          "model_module": "@jupyter-widgets/base",
          "model_name": "LayoutModel",
          "model_module_version": "1.2.0",
          "state": {
            "_model_module": "@jupyter-widgets/base",
            "_model_module_version": "1.2.0",
            "_model_name": "LayoutModel",
            "_view_count": null,
            "_view_module": "@jupyter-widgets/base",
            "_view_module_version": "1.2.0",
            "_view_name": "LayoutView",
            "align_content": null,
            "align_items": null,
            "align_self": null,
            "border": null,
            "bottom": null,
            "display": null,
            "flex": null,
            "flex_flow": null,
            "grid_area": null,
            "grid_auto_columns": null,
            "grid_auto_flow": null,
            "grid_auto_rows": null,
            "grid_column": null,
            "grid_gap": null,
            "grid_row": null,
            "grid_template_areas": null,
            "grid_template_columns": null,
            "grid_template_rows": null,
            "height": null,
            "justify_content": null,
            "justify_items": null,
            "left": null,
            "margin": null,
            "max_height": null,
            "max_width": null,
            "min_height": null,
            "min_width": null,
            "object_fit": null,
            "object_position": null,
            "order": null,
            "overflow": null,
            "overflow_x": null,
            "overflow_y": null,
            "padding": null,
            "right": null,
            "top": null,
            "visibility": null,
            "width": null
          }
        },
        "18d623d049da4ade9827b14da766fbcf": {
          "model_module": "@jupyter-widgets/controls",
          "model_name": "ProgressStyleModel",
          "model_module_version": "1.5.0",
          "state": {
            "_model_module": "@jupyter-widgets/controls",
            "_model_module_version": "1.5.0",
            "_model_name": "ProgressStyleModel",
            "_view_count": null,
            "_view_module": "@jupyter-widgets/base",
            "_view_module_version": "1.2.0",
            "_view_name": "StyleView",
            "bar_color": null,
            "description_width": ""
          }
        },
        "b37f5d9bdc1848c9a2ca77929223d26d": {
          "model_module": "@jupyter-widgets/base",
          "model_name": "LayoutModel",
          "model_module_version": "1.2.0",
          "state": {
            "_model_module": "@jupyter-widgets/base",
            "_model_module_version": "1.2.0",
            "_model_name": "LayoutModel",
            "_view_count": null,
            "_view_module": "@jupyter-widgets/base",
            "_view_module_version": "1.2.0",
            "_view_name": "LayoutView",
            "align_content": null,
            "align_items": null,
            "align_self": null,
            "border": null,
            "bottom": null,
            "display": null,
            "flex": null,
            "flex_flow": null,
            "grid_area": null,
            "grid_auto_columns": null,
            "grid_auto_flow": null,
            "grid_auto_rows": null,
            "grid_column": null,
            "grid_gap": null,
            "grid_row": null,
            "grid_template_areas": null,
            "grid_template_columns": null,
            "grid_template_rows": null,
            "height": null,
            "justify_content": null,
            "justify_items": null,
            "left": null,
            "margin": null,
            "max_height": null,
            "max_width": null,
            "min_height": null,
            "min_width": null,
            "object_fit": null,
            "object_position": null,
            "order": null,
            "overflow": null,
            "overflow_x": null,
            "overflow_y": null,
            "padding": null,
            "right": null,
            "top": null,
            "visibility": null,
            "width": null
          }
        },
        "e9f20edd8d924c57902ce77713726378": {
          "model_module": "@jupyter-widgets/controls",
          "model_name": "DescriptionStyleModel",
          "model_module_version": "1.5.0",
          "state": {
            "_model_module": "@jupyter-widgets/controls",
            "_model_module_version": "1.5.0",
            "_model_name": "DescriptionStyleModel",
            "_view_count": null,
            "_view_module": "@jupyter-widgets/base",
            "_view_module_version": "1.2.0",
            "_view_name": "StyleView",
            "description_width": ""
          }
        },
        "44f16c2759144ab18f16ba7311c6551c": {
          "model_module": "@jupyter-widgets/controls",
          "model_name": "HBoxModel",
          "model_module_version": "1.5.0",
          "state": {
            "_dom_classes": [],
            "_model_module": "@jupyter-widgets/controls",
            "_model_module_version": "1.5.0",
            "_model_name": "HBoxModel",
            "_view_count": null,
            "_view_module": "@jupyter-widgets/controls",
            "_view_module_version": "1.5.0",
            "_view_name": "HBoxView",
            "box_style": "",
            "children": [
              "IPY_MODEL_f7e3311ddc6f481097820cc51a54d7dc",
              "IPY_MODEL_b6366dc833774e158935836ab7198930",
              "IPY_MODEL_190a80a17aed49499356b5ab5264e1c0"
            ],
            "layout": "IPY_MODEL_64d324afb1654f98ac5d6abbc4c10fa3"
          }
        },
        "f7e3311ddc6f481097820cc51a54d7dc": {
          "model_module": "@jupyter-widgets/controls",
          "model_name": "HTMLModel",
          "model_module_version": "1.5.0",
          "state": {
            "_dom_classes": [],
            "_model_module": "@jupyter-widgets/controls",
            "_model_module_version": "1.5.0",
            "_model_name": "HTMLModel",
            "_view_count": null,
            "_view_module": "@jupyter-widgets/controls",
            "_view_module_version": "1.5.0",
            "_view_name": "HTMLView",
            "description": "",
            "description_tooltip": null,
            "layout": "IPY_MODEL_f4e2d776c2f24cef905b09052149ceaa",
            "placeholder": "​",
            "style": "IPY_MODEL_4d8f4f03f4784d73a0e78104747c4d00",
            "value": "100%"
          }
        },
        "b6366dc833774e158935836ab7198930": {
          "model_module": "@jupyter-widgets/controls",
          "model_name": "FloatProgressModel",
          "model_module_version": "1.5.0",
          "state": {
            "_dom_classes": [],
            "_model_module": "@jupyter-widgets/controls",
            "_model_module_version": "1.5.0",
            "_model_name": "FloatProgressModel",
            "_view_count": null,
            "_view_module": "@jupyter-widgets/controls",
            "_view_module_version": "1.5.0",
            "_view_name": "ProgressView",
            "bar_style": "success",
            "description": "",
            "description_tooltip": null,
            "layout": "IPY_MODEL_c3f936a823584c4d95c27a83c3a41fea",
            "max": 256,
            "min": 0,
            "orientation": "horizontal",
            "style": "IPY_MODEL_b365a5d95793406c91bcfb62f79ea913",
            "value": 256
          }
        },
        "190a80a17aed49499356b5ab5264e1c0": {
          "model_module": "@jupyter-widgets/controls",
          "model_name": "HTMLModel",
          "model_module_version": "1.5.0",
          "state": {
            "_dom_classes": [],
            "_model_module": "@jupyter-widgets/controls",
            "_model_module_version": "1.5.0",
            "_model_name": "HTMLModel",
            "_view_count": null,
            "_view_module": "@jupyter-widgets/controls",
            "_view_module_version": "1.5.0",
            "_view_name": "HTMLView",
            "description": "",
            "description_tooltip": null,
            "layout": "IPY_MODEL_3c6d3b596421455187668a27774ddb20",
            "placeholder": "​",
            "style": "IPY_MODEL_ff658f7b670c4a3dbee0b33cc4bfcf3b",
            "value": " 256/256 [02:13&lt;00:00,  2.29it/s]"
          }
        },
        "64d324afb1654f98ac5d6abbc4c10fa3": {
          "model_module": "@jupyter-widgets/base",
          "model_name": "LayoutModel",
          "model_module_version": "1.2.0",
          "state": {
            "_model_module": "@jupyter-widgets/base",
            "_model_module_version": "1.2.0",
            "_model_name": "LayoutModel",
            "_view_count": null,
            "_view_module": "@jupyter-widgets/base",
            "_view_module_version": "1.2.0",
            "_view_name": "LayoutView",
            "align_content": null,
            "align_items": null,
            "align_self": null,
            "border": null,
            "bottom": null,
            "display": null,
            "flex": null,
            "flex_flow": null,
            "grid_area": null,
            "grid_auto_columns": null,
            "grid_auto_flow": null,
            "grid_auto_rows": null,
            "grid_column": null,
            "grid_gap": null,
            "grid_row": null,
            "grid_template_areas": null,
            "grid_template_columns": null,
            "grid_template_rows": null,
            "height": null,
            "justify_content": null,
            "justify_items": null,
            "left": null,
            "margin": null,
            "max_height": null,
            "max_width": null,
            "min_height": null,
            "min_width": null,
            "object_fit": null,
            "object_position": null,
            "order": null,
            "overflow": null,
            "overflow_x": null,
            "overflow_y": null,
            "padding": null,
            "right": null,
            "top": null,
            "visibility": null,
            "width": null
          }
        },
        "f4e2d776c2f24cef905b09052149ceaa": {
          "model_module": "@jupyter-widgets/base",
          "model_name": "LayoutModel",
          "model_module_version": "1.2.0",
          "state": {
            "_model_module": "@jupyter-widgets/base",
            "_model_module_version": "1.2.0",
            "_model_name": "LayoutModel",
            "_view_count": null,
            "_view_module": "@jupyter-widgets/base",
            "_view_module_version": "1.2.0",
            "_view_name": "LayoutView",
            "align_content": null,
            "align_items": null,
            "align_self": null,
            "border": null,
            "bottom": null,
            "display": null,
            "flex": null,
            "flex_flow": null,
            "grid_area": null,
            "grid_auto_columns": null,
            "grid_auto_flow": null,
            "grid_auto_rows": null,
            "grid_column": null,
            "grid_gap": null,
            "grid_row": null,
            "grid_template_areas": null,
            "grid_template_columns": null,
            "grid_template_rows": null,
            "height": null,
            "justify_content": null,
            "justify_items": null,
            "left": null,
            "margin": null,
            "max_height": null,
            "max_width": null,
            "min_height": null,
            "min_width": null,
            "object_fit": null,
            "object_position": null,
            "order": null,
            "overflow": null,
            "overflow_x": null,
            "overflow_y": null,
            "padding": null,
            "right": null,
            "top": null,
            "visibility": null,
            "width": null
          }
        },
        "4d8f4f03f4784d73a0e78104747c4d00": {
          "model_module": "@jupyter-widgets/controls",
          "model_name": "DescriptionStyleModel",
          "model_module_version": "1.5.0",
          "state": {
            "_model_module": "@jupyter-widgets/controls",
            "_model_module_version": "1.5.0",
            "_model_name": "DescriptionStyleModel",
            "_view_count": null,
            "_view_module": "@jupyter-widgets/base",
            "_view_module_version": "1.2.0",
            "_view_name": "StyleView",
            "description_width": ""
          }
        },
        "c3f936a823584c4d95c27a83c3a41fea": {
          "model_module": "@jupyter-widgets/base",
          "model_name": "LayoutModel",
          "model_module_version": "1.2.0",
          "state": {
            "_model_module": "@jupyter-widgets/base",
            "_model_module_version": "1.2.0",
            "_model_name": "LayoutModel",
            "_view_count": null,
            "_view_module": "@jupyter-widgets/base",
            "_view_module_version": "1.2.0",
            "_view_name": "LayoutView",
            "align_content": null,
            "align_items": null,
            "align_self": null,
            "border": null,
            "bottom": null,
            "display": null,
            "flex": null,
            "flex_flow": null,
            "grid_area": null,
            "grid_auto_columns": null,
            "grid_auto_flow": null,
            "grid_auto_rows": null,
            "grid_column": null,
            "grid_gap": null,
            "grid_row": null,
            "grid_template_areas": null,
            "grid_template_columns": null,
            "grid_template_rows": null,
            "height": null,
            "justify_content": null,
            "justify_items": null,
            "left": null,
            "margin": null,
            "max_height": null,
            "max_width": null,
            "min_height": null,
            "min_width": null,
            "object_fit": null,
            "object_position": null,
            "order": null,
            "overflow": null,
            "overflow_x": null,
            "overflow_y": null,
            "padding": null,
            "right": null,
            "top": null,
            "visibility": null,
            "width": null
          }
        },
        "b365a5d95793406c91bcfb62f79ea913": {
          "model_module": "@jupyter-widgets/controls",
          "model_name": "ProgressStyleModel",
          "model_module_version": "1.5.0",
          "state": {
            "_model_module": "@jupyter-widgets/controls",
            "_model_module_version": "1.5.0",
            "_model_name": "ProgressStyleModel",
            "_view_count": null,
            "_view_module": "@jupyter-widgets/base",
            "_view_module_version": "1.2.0",
            "_view_name": "StyleView",
            "bar_color": null,
            "description_width": ""
          }
        },
        "3c6d3b596421455187668a27774ddb20": {
          "model_module": "@jupyter-widgets/base",
          "model_name": "LayoutModel",
          "model_module_version": "1.2.0",
          "state": {
            "_model_module": "@jupyter-widgets/base",
            "_model_module_version": "1.2.0",
            "_model_name": "LayoutModel",
            "_view_count": null,
            "_view_module": "@jupyter-widgets/base",
            "_view_module_version": "1.2.0",
            "_view_name": "LayoutView",
            "align_content": null,
            "align_items": null,
            "align_self": null,
            "border": null,
            "bottom": null,
            "display": null,
            "flex": null,
            "flex_flow": null,
            "grid_area": null,
            "grid_auto_columns": null,
            "grid_auto_flow": null,
            "grid_auto_rows": null,
            "grid_column": null,
            "grid_gap": null,
            "grid_row": null,
            "grid_template_areas": null,
            "grid_template_columns": null,
            "grid_template_rows": null,
            "height": null,
            "justify_content": null,
            "justify_items": null,
            "left": null,
            "margin": null,
            "max_height": null,
            "max_width": null,
            "min_height": null,
            "min_width": null,
            "object_fit": null,
            "object_position": null,
            "order": null,
            "overflow": null,
            "overflow_x": null,
            "overflow_y": null,
            "padding": null,
            "right": null,
            "top": null,
            "visibility": null,
            "width": null
          }
        },
        "ff658f7b670c4a3dbee0b33cc4bfcf3b": {
          "model_module": "@jupyter-widgets/controls",
          "model_name": "DescriptionStyleModel",
          "model_module_version": "1.5.0",
          "state": {
            "_model_module": "@jupyter-widgets/controls",
            "_model_module_version": "1.5.0",
            "_model_name": "DescriptionStyleModel",
            "_view_count": null,
            "_view_module": "@jupyter-widgets/base",
            "_view_module_version": "1.2.0",
            "_view_name": "StyleView",
            "description_width": ""
          }
        }
      }
    }
  },
  "cells": [
    {
      "cell_type": "code",
      "execution_count": null,
      "metadata": {
        "id": "AwEScSnY7wNa"
      },
      "outputs": [],
      "source": [
        "from tqdm import tqdm, tnrange, tqdm_notebook\n",
        "import numpy as np\n",
        "import os, sys\n",
        "import matplotlib.pyplot as plt\n",
        "import pickle\n",
        "import json\n",
        "import gdown\n",
        "import h5py\n",
        "import faiss\n",
        "\n",
        "%matplotlib inline"
      ]
    },
    {
      "cell_type": "code",
      "source": [
        "# ! pip install faiss-cpu"
      ],
      "metadata": {
        "colab": {
          "base_uri": "https://localhost:8080/"
        },
        "id": "ntGvhxAy_uHz",
        "outputId": "eae78917-98d0-42eb-a10a-1e32029fbf1e"
      },
      "execution_count": null,
      "outputs": [
        {
          "output_type": "stream",
          "name": "stdout",
          "text": [
            "Collecting faiss-cpu\n",
            "  Downloading faiss_cpu-1.9.0.post1-cp310-cp310-manylinux_2_17_x86_64.manylinux2014_x86_64.whl.metadata (4.4 kB)\n",
            "Requirement already satisfied: numpy<3.0,>=1.25.0 in /usr/local/lib/python3.10/dist-packages (from faiss-cpu) (1.26.4)\n",
            "Requirement already satisfied: packaging in /usr/local/lib/python3.10/dist-packages (from faiss-cpu) (24.2)\n",
            "Downloading faiss_cpu-1.9.0.post1-cp310-cp310-manylinux_2_17_x86_64.manylinux2014_x86_64.whl (27.5 MB)\n",
            "\u001b[2K   \u001b[90m━━━━━━━━━━━━━━━━━━━━━━━━━━━━━━━━━━━━━━━━\u001b[0m \u001b[32m27.5/27.5 MB\u001b[0m \u001b[31m10.8 MB/s\u001b[0m eta \u001b[36m0:00:00\u001b[0m\n",
            "\u001b[?25hInstalling collected packages: faiss-cpu\n",
            "Successfully installed faiss-cpu-1.9.0.post1\n"
          ]
        }
      ]
    },
    {
      "cell_type": "markdown",
      "source": [
        "# Seminar 6: kNN index and quantization"
      ],
      "metadata": {
        "id": "FpNWE-mA9fGt"
      }
    },
    {
      "cell_type": "markdown",
      "source": [
        "## 1. Load embeddings"
      ],
      "metadata": {
        "id": "yCI0bt03-y-H"
      }
    },
    {
      "cell_type": "code",
      "source": [
        "file_id = '1-1t1sbQXXyB-qZr-czqv2UJ4E5BQ7McI'\n",
        "destination = 'lastftm_factors.h5'\n",
        "download_url = f\"https://drive.google.com/uc?id={file_id}\"\n",
        "\n",
        "gdown.download(download_url, destination, quiet=False)"
      ],
      "metadata": {
        "colab": {
          "base_uri": "https://localhost:8080/",
          "height": 131
        },
        "id": "eGXFYnpm9VOy",
        "outputId": "8a8d6f29-c3c5-4ff8-a435-79b5067f24fa"
      },
      "execution_count": null,
      "outputs": [
        {
          "output_type": "stream",
          "name": "stderr",
          "text": [
            "Downloading...\n",
            "From (original): https://drive.google.com/uc?id=1-1t1sbQXXyB-qZr-czqv2UJ4E5BQ7McI\n",
            "From (redirected): https://drive.google.com/uc?id=1-1t1sbQXXyB-qZr-czqv2UJ4E5BQ7McI&confirm=t&uuid=3434df9a-85cc-425a-af33-e1ca5fd96b8f\n",
            "To: /content/lastftm_factors.h5\n",
            "100%|██████████| 333M/333M [00:04<00:00, 72.4MB/s]\n"
          ]
        },
        {
          "output_type": "execute_result",
          "data": {
            "text/plain": [
              "'lastftm_factors.h5'"
            ],
            "application/vnd.google.colaboratory.intrinsic+json": {
              "type": "string"
            }
          },
          "metadata": {},
          "execution_count": 4
        }
      ]
    },
    {
      "cell_type": "code",
      "source": [
        "h5f = h5py.File('/content/lastftm_factors.h5', 'r')\n",
        "item_factors = h5f['items'][:]\n",
        "user_factors = h5f['users'][:]\n",
        "h5f.close()"
      ],
      "metadata": {
        "id": "fy_vHny8-ESk"
      },
      "execution_count": null,
      "outputs": []
    },
    {
      "cell_type": "code",
      "source": [
        "item_factors.shape"
      ],
      "metadata": {
        "colab": {
          "base_uri": "https://localhost:8080/"
        },
        "id": "oe0Ac35t-EVW",
        "outputId": "801dd847-097b-460a-997b-2baa82509daa"
      },
      "execution_count": null,
      "outputs": [
        {
          "output_type": "execute_result",
          "data": {
            "text/plain": [
              "(292385, 128)"
            ]
          },
          "metadata": {},
          "execution_count": 6
        }
      ]
    },
    {
      "cell_type": "code",
      "source": [
        "user_factors.shape"
      ],
      "metadata": {
        "colab": {
          "base_uri": "https://localhost:8080/"
        },
        "id": "E7wTRZgV_jQr",
        "outputId": "6c578069-543f-43e0-b710-6c8057c1bcb4"
      },
      "execution_count": null,
      "outputs": [
        {
          "output_type": "execute_result",
          "data": {
            "text/plain": [
              "(358868, 128)"
            ]
          },
          "metadata": {},
          "execution_count": 7
        }
      ]
    },
    {
      "cell_type": "markdown",
      "source": [
        "## 2. Neighbours search with FAISS"
      ],
      "metadata": {
        "id": "CIrl2u_V_ovw"
      }
    },
    {
      "cell_type": "markdown",
      "source": [
        "[Faiss docs](https://faiss.ai/)"
      ],
      "metadata": {
        "id": "INciOME3FqYS"
      }
    },
    {
      "cell_type": "code",
      "source": [
        "%%time\n",
        "ip_index = faiss.IndexFlatIP(item_factors.shape[1]) # Create index Exact Search for Inner Product\n",
        "\n",
        "ip_index.add(item_factors) # Add document embeddings to index\n",
        "print(ip_index.ntotal)"
      ],
      "metadata": {
        "colab": {
          "base_uri": "https://localhost:8080/"
        },
        "id": "VKXRY4JC-EXt",
        "outputId": "1eec36ff-af4f-4395-f65f-e0847734e567"
      },
      "execution_count": null,
      "outputs": [
        {
          "output_type": "stream",
          "name": "stdout",
          "text": [
            "292385\n",
            "CPU times: user 56.2 ms, sys: 99.9 ms, total: 156 ms\n",
            "Wall time: 158 ms\n"
          ]
        }
      ]
    },
    {
      "cell_type": "code",
      "source": [
        "k = 10  # Choose  10 nearest neighbours\n",
        "n_users = 1000  # 1000 users is real example of request batch\n",
        "\n",
        "user_embeddings = user_factors[:n_users]"
      ],
      "metadata": {
        "id": "ecYDcMS7-EaF"
      },
      "execution_count": null,
      "outputs": []
    },
    {
      "cell_type": "code",
      "source": [
        "%%timeit\n",
        "# D - distances\n",
        "# I - indices\n",
        "D, I = ip_index.search(user_embeddings, k)"
      ],
      "metadata": {
        "colab": {
          "base_uri": "https://localhost:8080/"
        },
        "id": "dNXimvCM-EcW",
        "outputId": "3c93891f-ab60-45dd-f862-ff67e28cd9ab"
      },
      "execution_count": null,
      "outputs": [
        {
          "output_type": "stream",
          "name": "stdout",
          "text": [
            "2.1 s ± 435 ms per loop (mean ± std. dev. of 7 runs, 1 loop each)\n"
          ]
        }
      ]
    },
    {
      "cell_type": "code",
      "source": [
        "D, I = ip_index.search(user_embeddings, k)"
      ],
      "metadata": {
        "id": "wVNVpM7M-Een"
      },
      "execution_count": null,
      "outputs": []
    },
    {
      "cell_type": "code",
      "source": [
        "D"
      ],
      "metadata": {
        "colab": {
          "base_uri": "https://localhost:8080/"
        },
        "id": "RcP0f0AE-Elw",
        "outputId": "f7c5a797-b77c-415b-8d45-21b991852923"
      },
      "execution_count": null,
      "outputs": [
        {
          "output_type": "execute_result",
          "data": {
            "text/plain": [
              "array([[1.1410543 , 1.1322321 , 1.1187365 , ..., 1.0320057 , 1.0301973 ,\n",
              "        1.0179089 ],\n",
              "       [1.2508918 , 1.249527  , 1.2257144 , ..., 1.1644775 , 1.1519464 ,\n",
              "        1.1518093 ],\n",
              "       [1.2452835 , 1.1997979 , 1.1582257 , ..., 1.1171805 , 1.1170992 ,\n",
              "        1.1122485 ],\n",
              "       ...,\n",
              "       [1.2237133 , 1.0526612 , 0.99917495, ..., 0.932238  , 0.91025347,\n",
              "        0.90891665],\n",
              "       [1.0920773 , 1.0610857 , 1.0202018 , ..., 0.95341027, 0.93552566,\n",
              "        0.9275902 ],\n",
              "       [0.93441296, 0.88703007, 0.87762   , ..., 0.840016  , 0.8347395 ,\n",
              "        0.8100572 ]], dtype=float32)"
            ]
          },
          "metadata": {},
          "execution_count": 12
        }
      ]
    },
    {
      "cell_type": "code",
      "source": [
        "I"
      ],
      "metadata": {
        "colab": {
          "base_uri": "https://localhost:8080/"
        },
        "id": "cQYa0XxD-EoR",
        "outputId": "164f5640-c370-46a7-d389-1ad5e920c3d2"
      },
      "execution_count": null,
      "outputs": [
        {
          "output_type": "execute_result",
          "data": {
            "text/plain": [
              "array([[150177, 161850, 107119, ...,  46258, 136336, 259874],\n",
              "       [186566,  86649,  71465, ..., 252956, 250342, 267949],\n",
              "       [180940, 142885, 120981, ..., 234769, 241312, 186835],\n",
              "       ...,\n",
              "       [252512,  73871, 168195, ...,  86649, 117134, 194180],\n",
              "       [109930, 141240,   1560, ...,  33602, 129520, 237577],\n",
              "       [ 21090,  69978,  82825, ..., 208398,  22505, 158209]])"
            ]
          },
          "metadata": {},
          "execution_count": 11
        }
      ]
    },
    {
      "cell_type": "markdown",
      "source": [
        "Let's compare with vanilla method to find nearest neighbours:"
      ],
      "metadata": {
        "id": "KTVMvektBsoY"
      }
    },
    {
      "cell_type": "code",
      "source": [
        "%%time\n",
        "product = user_embeddings.dot(item_factors.T)\n",
        "exact_result = np.argsort(product, axis=1)[:,:-k-1:-1]"
      ],
      "metadata": {
        "colab": {
          "base_uri": "https://localhost:8080/"
        },
        "id": "uDYhiDoxBUjO",
        "outputId": "c6900783-345a-4010-d329-dd0e720a4137"
      },
      "execution_count": null,
      "outputs": [
        {
          "output_type": "stream",
          "name": "stdout",
          "text": [
            "CPU times: user 37 s, sys: 1.19 s, total: 38.2 s\n",
            "Wall time: 37.1 s\n"
          ]
        }
      ]
    },
    {
      "cell_type": "code",
      "source": [
        "np.equal(I, exact_result).mean()"
      ],
      "metadata": {
        "colab": {
          "base_uri": "https://localhost:8080/"
        },
        "id": "2RDdql3MBrDz",
        "outputId": "725801f2-9a29-49bf-e968-165433a12853"
      },
      "execution_count": null,
      "outputs": [
        {
          "output_type": "execute_result",
          "data": {
            "text/plain": [
              "1.0"
            ]
          },
          "metadata": {},
          "execution_count": 16
        }
      ]
    },
    {
      "cell_type": "markdown",
      "source": [
        "## 3. HNSW"
      ],
      "metadata": {
        "id": "gs9j3aLhCL57"
      }
    },
    {
      "cell_type": "markdown",
      "source": [
        "<img src=\"https://drive.google.com/uc?export=view&id=1CZlsisey6UWP5rccRE2QaLuInIUkCM2J\" width=\"500\">\n",
        "\n"
      ],
      "metadata": {
        "id": "quHYqkyzCTLc"
      }
    },
    {
      "cell_type": "markdown",
      "source": [
        "**HNSW** (Hierarchical navigable small world) - graph-based approximate nearest neighbor algorithm."
      ],
      "metadata": {
        "id": "cG3PjTb2FNZ8"
      }
    },
    {
      "cell_type": "code",
      "source": [
        "%%time\n",
        "neighbours = 10\n",
        "hnsw_index = faiss.IndexHNSWFlat(item_factors.shape[1], neighbours, faiss.METRIC_INNER_PRODUCT) # Create HNSW index\n",
        "\n",
        "hnsw_index.add(item_factors) # Add document embeddings to index\n",
        "print(hnsw_index.ntotal)"
      ],
      "metadata": {
        "colab": {
          "base_uri": "https://localhost:8080/"
        },
        "id": "m4fh7BX4CHna",
        "outputId": "0467893c-92d3-4b55-e113-951ef1fcb117"
      },
      "execution_count": null,
      "outputs": [
        {
          "output_type": "stream",
          "name": "stdout",
          "text": [
            "292385\n",
            "CPU times: user 22.2 s, sys: 122 ms, total: 22.3 s\n",
            "Wall time: 13.2 s\n"
          ]
        }
      ]
    },
    {
      "cell_type": "code",
      "source": [
        "%%time\n",
        "D, I = hnsw_index.search(user_embeddings, k)"
      ],
      "metadata": {
        "colab": {
          "base_uri": "https://localhost:8080/"
        },
        "id": "zCIvH0mZF0VV",
        "outputId": "6cf48eef-6f07-4030-9cf4-7ba38e3107b5"
      },
      "execution_count": null,
      "outputs": [
        {
          "output_type": "stream",
          "name": "stdout",
          "text": [
            "CPU times: user 50.5 ms, sys: 0 ns, total: 50.5 ms\n",
            "Wall time: 44.3 ms\n"
          ]
        }
      ]
    },
    {
      "cell_type": "code",
      "source": [
        "I"
      ],
      "metadata": {
        "colab": {
          "base_uri": "https://localhost:8080/"
        },
        "id": "IW25gJWAGKeS",
        "outputId": "b07ffba9-6942-4543-aa46-75e1e2f55ae8"
      },
      "execution_count": null,
      "outputs": [
        {
          "output_type": "execute_result",
          "data": {
            "text/plain": [
              "array([[255141, 230026,  25917, ..., 256607, 199859, 247960],\n",
              "       [235136, 108379, 252512, ..., 216080, 164892, 290992],\n",
              "       [204727, 130425, 281570, ..., 152322, 214322, 267583],\n",
              "       ...,\n",
              "       [252512,  73871, 212514, ..., 127243,  80500, 156648],\n",
              "       [212985, 194180, 261239, ..., 118839, 217901, 127243],\n",
              "       [185387, 238227, 167716, ...,  38235, 210023, 269329]])"
            ]
          },
          "metadata": {},
          "execution_count": 19
        }
      ]
    },
    {
      "cell_type": "code",
      "source": [
        "D"
      ],
      "metadata": {
        "colab": {
          "base_uri": "https://localhost:8080/"
        },
        "id": "DEz1ABsaGURF",
        "outputId": "9fe431a7-18db-4ac5-a485-d60d1a3b206b"
      },
      "execution_count": null,
      "outputs": [
        {
          "output_type": "execute_result",
          "data": {
            "text/plain": [
              "array([[1.0627333 , 0.9298105 , 0.7518682 , ..., 0.65008414, 0.61775047,\n",
              "        0.5910607 ],\n",
              "       [1.0613976 , 0.85362786, 0.8348808 , ..., 0.3924284 , 0.33177775,\n",
              "        0.22483255],\n",
              "       [0.7008995 , 0.38680217, 0.30533308, ..., 0.24423319, 0.21826768,\n",
              "        0.20691648],\n",
              "       ...,\n",
              "       [1.2237133 , 1.0526614 , 0.9594545 , ..., 0.63830894, 0.5670817 ,\n",
              "        0.5505355 ],\n",
              "       [0.88827986, 0.7831606 , 0.7469681 , ..., 0.4639511 , 0.40348294,\n",
              "        0.36683044],\n",
              "       [0.85022336, 0.76426476, 0.6473534 , ..., 0.5241612 , 0.5108297 ,\n",
              "        0.4722155 ]], dtype=float32)"
            ]
          },
          "metadata": {},
          "execution_count": 20
        }
      ]
    },
    {
      "cell_type": "code",
      "source": [
        "np.equal(I, exact_result).mean()"
      ],
      "metadata": {
        "colab": {
          "base_uri": "https://localhost:8080/"
        },
        "id": "KCASLcCbGZIZ",
        "outputId": "b3f830d9-b2a8-4a0c-c72b-d2746cf9beba"
      },
      "execution_count": null,
      "outputs": [
        {
          "output_type": "execute_result",
          "data": {
            "text/plain": [
              "0.0043"
            ]
          },
          "metadata": {},
          "execution_count": 21
        }
      ]
    },
    {
      "cell_type": "markdown",
      "source": [
        "Algorithm is not tuned for the dataset, so results are poor. But you can find optimal parameters for 99% or even 99.9%."
      ],
      "metadata": {
        "id": "jxQ-feAYGZ0Q"
      }
    },
    {
      "cell_type": "markdown",
      "source": [
        "## 4. Quantization"
      ],
      "metadata": {
        "id": "OLLBluQUGc5z"
      }
    },
    {
      "cell_type": "markdown",
      "source": [
        "<img src=\"https://drive.google.com/uc?export=view&id=15HmMKX6BINpCH9n7AP-JRPYBquSrBtrD\" width=\"700\">"
      ],
      "metadata": {
        "id": "5VptouU2dEHH"
      }
    },
    {
      "cell_type": "code",
      "source": [
        "# first coordinates of item embeddings\n",
        "item_factors[:, 0]"
      ],
      "metadata": {
        "colab": {
          "base_uri": "https://localhost:8080/"
        },
        "id": "TUEFFAIAGbhC",
        "outputId": "ceefec9d-3e31-4e0c-b1e7-b8e450b0a7ce"
      },
      "execution_count": null,
      "outputs": [
        {
          "output_type": "execute_result",
          "data": {
            "text/plain": [
              "array([0.0010011 , 0.00062381, 0.00162728, ..., 0.0001717 , 0.00095794,\n",
              "       0.00387271], dtype=float32)"
            ]
          },
          "metadata": {},
          "execution_count": 22
        }
      ]
    },
    {
      "cell_type": "markdown",
      "source": [
        "Let's look at distribution of first coordinates:"
      ],
      "metadata": {
        "id": "KBpJZMBUG7AL"
      }
    },
    {
      "cell_type": "code",
      "source": [
        "plt.hist(item_factors[:, 0], bins=255);"
      ],
      "metadata": {
        "colab": {
          "base_uri": "https://localhost:8080/",
          "height": 430
        },
        "id": "-bnoeIevG6fL",
        "outputId": "537b9d83-c9d2-44aa-bf9e-005697197896"
      },
      "execution_count": null,
      "outputs": [
        {
          "output_type": "display_data",
          "data": {
            "text/plain": [
              "<Figure size 640x480 with 1 Axes>"
            ],
            "image/png": "[encoded data removed]"
          },
          "metadata": {}
        }
      ]
    },
    {
      "cell_type": "code",
      "source": [
        "plt.hist(user_factors[:, 0], bins=255);"
      ],
      "metadata": {
        "colab": {
          "base_uri": "https://localhost:8080/",
          "height": 430
        },
        "id": "6hw_8Qt_HAf6",
        "outputId": "442ac661-adb1-4aac-c5f7-61db3552af61"
      },
      "execution_count": null,
      "outputs": [
        {
          "output_type": "display_data",
          "data": {
            "text/plain": [
              "<Figure size 640x480 with 1 Axes>"
            ],
            "image/png": "[encoded data removed]"
          },
          "metadata": {}
        }
      ]
    },
    {
      "cell_type": "markdown",
      "source": [
        "### a. Percentile quantizations"
      ],
      "metadata": {
        "id": "VB13nTUCIG7N"
      }
    },
    {
      "cell_type": "markdown",
      "source": [
        "**Steps:**\n",
        "1. **Compute Percentiles**:  \n",
        "   Divide the embedding values into \\(k\\) bins (e.g., 256) by calculating percentile values for each dimension.\n",
        "\n",
        "2. **Quantization**:  \n",
        "   Map each value in the embeddings to its corresponding bin. Clip the bin indices to the range \\([0, k-1]\\).\n",
        "\n",
        "3. **Restoration**:  \n",
        "   Approximate the original values by replacing each quantized bin index with its corresponding percentile value.\n"
      ],
      "metadata": {
        "id": "KDs58LaGPkfS"
      }
    },
    {
      "cell_type": "markdown",
      "source": [
        "Firstly, let's do it for **items**:"
      ],
      "metadata": {
        "id": "ECkxUSOHP9ru"
      }
    },
    {
      "cell_type": "code",
      "source": [
        "N = 100000\n",
        "item_percentiles = []\n",
        "for perc in tqdm_notebook(np.linspace(0, 100, 256)):\n",
        "    item_percentiles.append(np.percentile(item_factors[:N, :], perc, axis=0))"
      ],
      "metadata": {
        "colab": {
          "base_uri": "https://localhost:8080/",
          "height": 106,
          "referenced_widgets": [
            "38e8140e31c34da990a72ad62afffd16",
            "6080dabdeb884c6a9ee8a1e55de37c3b",
            "5d58f828e8fc4587b4b4517524a53d19",
            "1357b49a9c154ef38a574e7562b0ad2a",
            "31379165c71a48929d608dedba133e13",
            "1a1cff23dc964efc93e3a78f815140fb",
            "96134bd84abf47a381416426551fa7d9",
            "b1cc58a6f4e84fd1b124b744ddd43851",
            "18d623d049da4ade9827b14da766fbcf",
            "b37f5d9bdc1848c9a2ca77929223d26d",
            "e9f20edd8d924c57902ce77713726378"
          ]
        },
        "id": "_2TdKLxUHG3D",
        "outputId": "1c0e5235-febe-4cfa-db56-bfd6b89d032f"
      },
      "execution_count": null,
      "outputs": [
        {
          "output_type": "stream",
          "name": "stderr",
          "text": [
            "<ipython-input-25-e5c56578810d>:3: TqdmDeprecationWarning: This function will be removed in tqdm==5.0.0\n",
            "Please use `tqdm.notebook.tqdm` instead of `tqdm.tqdm_notebook`\n",
            "  for perc in tqdm_notebook(np.linspace(0, 100, 256)):\n"
          ]
        },
        {
          "output_type": "display_data",
          "data": {
            "text/plain": [
              "  0%|          | 0/256 [00:00<?, ?it/s]"
            ],
            "application/vnd.jupyter.widget-view+json": {
              "version_major": 2,
              "version_minor": 0,
              "model_id": "38e8140e31c34da990a72ad62afffd16"
            }
          },
          "metadata": {}
        }
      ]
    },
    {
      "cell_type": "code",
      "source": [
        "item_percentiles = np.vstack(item_percentiles)"
      ],
      "metadata": {
        "id": "4CGBUtg-K1tN"
      },
      "execution_count": null,
      "outputs": []
    },
    {
      "cell_type": "code",
      "source": [
        "def perc_quantize(v, percentiles):\n",
        "    res = []\n",
        "    for i in range(v.shape[1]):\n",
        "        res.append(np.digitize(v[:, i], percentiles[:, i]))\n",
        "    res = np.vstack(res).T\n",
        "    res = np.clip(res, 0, 255)\n",
        "    return res"
      ],
      "metadata": {
        "id": "qEstDM8HLkDl"
      },
      "execution_count": null,
      "outputs": []
    },
    {
      "cell_type": "code",
      "source": [
        "def perc_restore(q, percentiles):\n",
        "    res = []\n",
        "    for i in range(q.shape[1]):\n",
        "        res.append(percentiles[q[:, i], i])\n",
        "    return np.vstack(res).T"
      ],
      "metadata": {
        "id": "uPABqaAMMwaq"
      },
      "execution_count": null,
      "outputs": []
    },
    {
      "cell_type": "code",
      "source": [
        "# ideal plot: y = x\n",
        "plt.scatter(item_factors[:100, :], perc_restore(perc_quantize(item_factors[:100, :], item_percentiles), item_percentiles), s=1)\n",
        "plt.title(\"Item percentile quantization\")\n",
        "plt.xlim(-0.01, 0.02)\n",
        "plt.ylim(-0.01, 0.02)"
      ],
      "metadata": {
        "colab": {
          "base_uri": "https://localhost:8080/",
          "height": 471
        },
        "id": "xjIQ6PURLzhL",
        "outputId": "697d949a-70e4-400e-f2c6-a4709661ca0c"
      },
      "execution_count": null,
      "outputs": [
        {
          "output_type": "execute_result",
          "data": {
            "text/plain": [
              "(-0.01, 0.02)"
            ]
          },
          "metadata": {},
          "execution_count": 30
        },
        {
          "output_type": "display_data",
          "data": {
            "text/plain": [
              "<Figure size 640x480 with 1 Axes>"
            ],
            "image/png": "[encoded data removed]"
          },
          "metadata": {}
        }
      ]
    },
    {
      "cell_type": "markdown",
      "source": [
        "And for **users**:"
      ],
      "metadata": {
        "id": "7JQa5M8TQBrm"
      }
    },
    {
      "cell_type": "code",
      "source": [
        "N = 100000\n",
        "user_percentiles = []\n",
        "for perc in tqdm_notebook(np.linspace(0, 100, 256)):\n",
        "    user_percentiles.append(np.percentile(user_factors[:N, :], perc, axis=0))"
      ],
      "metadata": {
        "colab": {
          "base_uri": "https://localhost:8080/",
          "height": 106,
          "referenced_widgets": [
            "44f16c2759144ab18f16ba7311c6551c",
            "f7e3311ddc6f481097820cc51a54d7dc",
            "b6366dc833774e158935836ab7198930",
            "190a80a17aed49499356b5ab5264e1c0",
            "64d324afb1654f98ac5d6abbc4c10fa3",
            "f4e2d776c2f24cef905b09052149ceaa",
            "4d8f4f03f4784d73a0e78104747c4d00",
            "c3f936a823584c4d95c27a83c3a41fea",
            "b365a5d95793406c91bcfb62f79ea913",
            "3c6d3b596421455187668a27774ddb20",
            "ff658f7b670c4a3dbee0b33cc4bfcf3b"
          ]
        },
        "id": "sXSkYnioMz2n",
        "outputId": "3ae436d0-bdea-451f-86d5-9bca1c952dfa"
      },
      "execution_count": null,
      "outputs": [
        {
          "output_type": "stream",
          "name": "stderr",
          "text": [
            "<ipython-input-31-d62fbd4125be>:3: TqdmDeprecationWarning: This function will be removed in tqdm==5.0.0\n",
            "Please use `tqdm.notebook.tqdm` instead of `tqdm.tqdm_notebook`\n",
            "  for perc in tqdm_notebook(np.linspace(0, 100, 256)):\n"
          ]
        },
        {
          "output_type": "display_data",
          "data": {
            "text/plain": [
              "  0%|          | 0/256 [00:00<?, ?it/s]"
            ],
            "application/vnd.jupyter.widget-view+json": {
              "version_major": 2,
              "version_minor": 0,
              "model_id": "44f16c2759144ab18f16ba7311c6551c"
            }
          },
          "metadata": {}
        }
      ]
    },
    {
      "cell_type": "code",
      "source": [
        "user_percentiles = np.vstack(user_percentiles)"
      ],
      "metadata": {
        "id": "GktWAUIRRwS_"
      },
      "execution_count": null,
      "outputs": []
    },
    {
      "cell_type": "code",
      "source": [
        "# ideal plot: y = x\n",
        "plt.scatter(user_factors[:100, :], perc_restore(perc_quantize(user_factors[:100, :], user_percentiles), user_percentiles), s=1)\n",
        "plt.title(\"User percentile quantization\")\n",
        "\n",
        "plt.xlim(-4, 4)\n",
        "plt.ylim(-4, 4)"
      ],
      "metadata": {
        "colab": {
          "base_uri": "https://localhost:8080/",
          "height": 471
        },
        "id": "38zq_5gQQdcK",
        "outputId": "6aadd917-8c59-4ff8-dcad-44d02a200f73"
      },
      "execution_count": null,
      "outputs": [
        {
          "output_type": "execute_result",
          "data": {
            "text/plain": [
              "(-4.0, 4.0)"
            ]
          },
          "metadata": {},
          "execution_count": 34
        },
        {
          "output_type": "display_data",
          "data": {
            "text/plain": [
              "<Figure size 640x480 with 1 Axes>"
            ],
            "image/png": "[encoded data removed]"
          },
          "metadata": {}
        }
      ]
    },
    {
      "cell_type": "markdown",
      "source": [
        "Then we can check the overlap of quantized embeddings and original embeddings:"
      ],
      "metadata": {
        "id": "NYiuk3jjRmce"
      }
    },
    {
      "cell_type": "code",
      "source": [
        "overlaps = []\n",
        "for user_idx in range(1, N, int(N/100)):\n",
        "    scores1 = item_factors[:N].dot(user_factors[user_idx, :])\n",
        "    scores2 = item_factors[:N].dot(\n",
        "        perc_restore(\n",
        "            perc_quantize(user_factors[user_idx:user_idx+1, :], user_percentiles),\n",
        "            user_percentiles)[0])\n",
        "    order1 = np.argsort(scores1)[::-1][:100]\n",
        "    order2 = np.argsort(scores2)[::-1][:100]\n",
        "    overlaps.append(len(set(order1) & set(order2)))\n",
        "print(\"MEAN:\", np.mean(overlaps))"
      ],
      "metadata": {
        "colab": {
          "base_uri": "https://localhost:8080/"
        },
        "id": "s9urFQdkReJq",
        "outputId": "08666e88-4715-48fe-a03a-a372f61d32aa"
      },
      "execution_count": null,
      "outputs": [
        {
          "output_type": "stream",
          "name": "stdout",
          "text": [
            "MEAN: 88.8\n"
          ]
        }
      ]
    },
    {
      "cell_type": "markdown",
      "source": [
        "### b. MinMax quantization\n",
        "\n",
        "**Steps:**\n",
        "1. **Range:**\n",
        "   \n",
        "   First, determine the range of values by calculating the 1st and 99th percentiles of the embedding values. These percentiles represent the lower and upper bounds of the data, respectively, and they define the range over which the data will be quantized.\n",
        "\n",
        "2. **Quantize:**\n",
        "   \n",
        "   The quantization process scales the embedding values to a [0, 255] range. This is done by first normalizing the data within the defined range, then scaling it to fit the target range (0 to 255). Any values outside the range are clipped to ensure they fall within the [0, 255] bounds.\n",
        "\n",
        "3. **Restore:**\n",
        "   \n",
        "   After quantization, the original values can be restored by reversing the scaling process. The quantized values are multiplied by a scaling factor and then shifted back by the lower bound. This restores the values to a continuous range similar to the original data.\n",
        "\n",
        "**Quantization:** $q(x) = \\frac{x - min}{max - min} \\cdot 256$\n",
        "\n",
        "**Restore:** $q^{-1}(x) = \\frac{x(max - min)}{256} + min$\n"
      ],
      "metadata": {
        "id": "ZPY2MD2YSxXv"
      }
    },
    {
      "cell_type": "markdown",
      "source": [
        "Let's start for **items**:"
      ],
      "metadata": {
        "id": "F7IHPm9-VQHK"
      }
    },
    {
      "cell_type": "code",
      "source": [
        "item_low = np.percentile(item_factors[:N], 1, axis=0)\n",
        "item_high = np.percentile(item_factors[:N], 99, axis=0)\n",
        "\n",
        "item_step = (item_high - item_low + 1e-6) / 255."
      ],
      "metadata": {
        "id": "JB3fVXMDReM6"
      },
      "execution_count": null,
      "outputs": []
    },
    {
      "cell_type": "code",
      "source": [
        "def mm_quantize(value, low, high):\n",
        "    return (np.minimum(np.maximum((value - low) / (high - low + 1e-6), 0), 1) * 255).astype(np.uint8)\n",
        "\n",
        "def mm_restore(q, l, s):\n",
        "    return q.astype(np.float32) * s + l"
      ],
      "metadata": {
        "id": "ctFv49brReRa"
      },
      "execution_count": null,
      "outputs": []
    },
    {
      "cell_type": "code",
      "source": [
        "plt.scatter(item_factors[0:100, :], mm_restore(mm_quantize(item_factors[0:100, :], item_low, item_high), item_low, item_step), s=1)\n",
        "plt.title(\"Item MinMax quantization\")\n",
        "\n",
        "plt.xlim(-0.01, 0.02)\n",
        "plt.ylim(-0.01, 0.02)"
      ],
      "metadata": {
        "colab": {
          "base_uri": "https://localhost:8080/",
          "height": 471
        },
        "id": "_Y1sKOY5ReUJ",
        "outputId": "82078b53-bcf9-42c7-f54f-5c10eb33aa56"
      },
      "execution_count": null,
      "outputs": [
        {
          "output_type": "execute_result",
          "data": {
            "text/plain": [
              "(-0.01, 0.02)"
            ]
          },
          "metadata": {},
          "execution_count": 39
        },
        {
          "output_type": "display_data",
          "data": {
            "text/plain": [
              "<Figure size 640x480 with 1 Axes>"
            ],
            "image/png": "[encoded data removed]"
          },
          "metadata": {}
        }
      ]
    },
    {
      "cell_type": "code",
      "source": [
        "overlaps = []\n",
        "boo = mm_restore(mm_quantize(item_factors[:N], item_low, item_high), item_low, item_step)\n",
        "for user_idx in range(1, N, int(N / 100)):\n",
        "    scores1 = item_factors[:N].dot(user_factors[user_idx, :])\n",
        "    scores2 = boo.dot(user_factors[user_idx, :])\n",
        "    order1 = np.argsort(scores1)[::-1][:100]\n",
        "    order2 = np.argsort(scores2)[::-1][:100]\n",
        "    overlaps.append(len(set(order1) & set(order2)))\n",
        "print(\"MEAN:\", np.mean(overlaps))"
      ],
      "metadata": {
        "colab": {
          "base_uri": "https://localhost:8080/"
        },
        "id": "4J2JvGC9ReWq",
        "outputId": "248b966c-cd6e-4c34-ceb6-1ec89547165a"
      },
      "execution_count": null,
      "outputs": [
        {
          "output_type": "stream",
          "name": "stdout",
          "text": [
            "MEAN: 67.24\n"
          ]
        }
      ]
    },
    {
      "cell_type": "markdown",
      "source": [
        "And for **users**:"
      ],
      "metadata": {
        "id": "CFecyNg3Ve5r"
      }
    },
    {
      "cell_type": "code",
      "source": [
        "user_low = np.percentile(user_factors[:N], 1, axis=0)\n",
        "user_high = np.percentile(user_factors[:N], 99, axis=0)\n",
        "\n",
        "user_step = (user_high - user_low + 1e-6) / 255."
      ],
      "metadata": {
        "id": "N9Xbl-zYVdjF"
      },
      "execution_count": null,
      "outputs": []
    },
    {
      "cell_type": "code",
      "source": [
        "plt.scatter(user_factors[0:100, :], mm_restore(mm_quantize(user_factors[0:100, :], user_low, user_high), user_low, user_step), s=1)\n",
        "plt.title(\"User MinMax quantization\")\n",
        "\n",
        "plt.xlim(-4, 4)\n",
        "plt.ylim(-4, 4)"
      ],
      "metadata": {
        "colab": {
          "base_uri": "https://localhost:8080/",
          "height": 471
        },
        "id": "fyjsFRb0VmcY",
        "outputId": "e3e87c03-353f-4c51-b204-4e6b4c12414f"
      },
      "execution_count": null,
      "outputs": [
        {
          "output_type": "execute_result",
          "data": {
            "text/plain": [
              "(-4.0, 4.0)"
            ]
          },
          "metadata": {},
          "execution_count": 43
        },
        {
          "output_type": "display_data",
          "data": {
            "text/plain": [
              "<Figure size 640x480 with 1 Axes>"
            ],
            "image/png": "[encoded data removed]"
          },
          "metadata": {}
        }
      ]
    },
    {
      "cell_type": "code",
      "source": [
        "overlaps = []\n",
        "for user_idx in range(1, N, int(N/100)):\n",
        "    scores1 = item_factors[:N].dot(user_factors[user_idx, :])\n",
        "    scores2 = item_factors[:N].dot(\n",
        "        mm_restore(\n",
        "            mm_quantize(user_factors[user_idx:user_idx+1, :], user_low, user_high),\n",
        "            user_low, user_step)[0])\n",
        "    order1 = np.argsort(scores1)[::-1][:100]\n",
        "    order2 = np.argsort(scores2)[::-1][:100]\n",
        "    overlaps.append(len(set(order1) & set(order2)))\n",
        "print( \"MEAN:\", np.mean(overlaps))"
      ],
      "metadata": {
        "colab": {
          "base_uri": "https://localhost:8080/"
        },
        "id": "hmq7AqmqV3Px",
        "outputId": "ac539a46-57f9-474b-e4fb-59b8dfc3e2a2"
      },
      "execution_count": null,
      "outputs": [
        {
          "output_type": "stream",
          "name": "stdout",
          "text": [
            "MEAN: 94.9\n"
          ]
        }
      ]
    },
    {
      "cell_type": "code",
      "source": [],
      "metadata": {
        "id": "qb-u2DOVWSVw"
      },
      "execution_count": null,
      "outputs": []
    }
  ]
}